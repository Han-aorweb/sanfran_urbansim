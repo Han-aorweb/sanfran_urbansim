{
 "cells": [
  {
   "cell_type": "code",
   "execution_count": 5,
   "metadata": {
    "collapsed": false,
    "jupyter": {
     "outputs_hidden": false
    }
   },
   "outputs": [
    {
     "name": "stdout",
     "output_type": "stream",
     "text": [
      "The autoreload extension is already loaded. To reload it, use:\n",
      "  %reload_ext autoreload\n"
     ]
    }
   ],
   "source": [
    "%load_ext autoreload\n",
    "%autoreload 2\n",
    "import models\n",
    "import orca\n",
    "import pandas as pd\n",
    "pd.options.mode.chained_assignment = None"
   ]
  },
  {
   "cell_type": "markdown",
   "metadata": {},
   "source": [
    "## Hedonic Estimation"
   ]
  },
  {
   "cell_type": "code",
   "execution_count": 6,
   "metadata": {
    "collapsed": false,
    "jupyter": {
     "outputs_hidden": false
    }
   },
   "outputs": [
    {
     "name": "stdout",
     "output_type": "stream",
     "text": [
      "Running step 'rsh_estimate'\n",
      "                                    OLS Regression Results                                   \n",
      "=============================================================================================\n",
      "Dep. Variable:     np.log1p(residential_sales_price)   R-squared:                       0.399\n",
      "Model:                                           OLS   Adj. R-squared:                  0.399\n",
      "Method:                                Least Squares   F-statistic:                 1.240e+04\n",
      "Date:                               Mon, 07 Nov 2022   Prob (F-statistic):               0.00\n",
      "Time:                                       15:02:25   Log-Likelihood:            -2.5241e+05\n",
      "No. Observations:                             149409   AIC:                         5.048e+05\n",
      "Df Residuals:                                 149400   BIC:                         5.049e+05\n",
      "Df Model:                                          8                                         \n",
      "Covariance Type:                           nonrobust                                         \n",
      "================================================================================================\n",
      "                                   coef    std err          t      P>|t|      [0.025      0.975]\n",
      "------------------------------------------------------------------------------------------------\n",
      "Intercept                       -3.8638      0.170    -22.751      0.000      -4.197      -3.531\n",
      "I(year_built < 1940)[T.True]     0.0012      0.007      0.160      0.873      -0.013       0.016\n",
      "I(year_built > 2005)[T.True]    -0.0633      0.049     -1.300      0.194      -0.159       0.032\n",
      "np.log1p(unit_sqft)             -1.4830      0.007   -210.948      0.000      -1.497      -1.469\n",
      "np.log1p(unit_lot_size)         -0.1476      0.006    -23.224      0.000      -0.160      -0.135\n",
      "sum_residential_units            0.0987      0.008     11.987      0.000       0.083       0.115\n",
      "ave_lot_sqft                    -0.2177      0.010    -21.273      0.000      -0.238      -0.198\n",
      "ave_unit_sqft                    0.9371      0.020     45.808      0.000       0.897       0.977\n",
      "ave_income                       1.4191      0.015     92.819      0.000       1.389       1.449\n",
      "==============================================================================\n",
      "Omnibus:                    89684.695   Durbin-Watson:                   1.798\n",
      "Prob(Omnibus):                  0.000   Jarque-Bera (JB):           820175.047\n",
      "Skew:                          -2.842   Prob(JB):                         0.00\n",
      "Kurtosis:                      12.972   Cond. No.                     1.01e+03\n",
      "==============================================================================\n",
      "\n",
      "Notes:\n",
      "[1] Standard Errors assume that the covariance matrix of the errors is correctly specified.\n",
      "[2] The condition number is large, 1.01e+03. This might indicate that there are\n",
      "strong multicollinearity or other numerical problems.\n",
      "Time to execute step 'rsh_estimate': 0.44 s\n",
      "Total time to execute iteration 1 with iteration value None: 0.44 s\n"
     ]
    },
    {
     "name": "stderr",
     "output_type": "stream",
     "text": [
      "/Library/Frameworks/Python.framework/Versions/3.11/lib/python3.11/site-packages/urbansim/utils/yamlio.py:78: FutureWarning: iteritems is deprecated and will be removed in a future version. Use .items instead.\n",
      "  return {col: series_to_yaml_safe(series)\n",
      "/Library/Frameworks/Python.framework/Versions/3.11/lib/python3.11/site-packages/urbansim/utils/yamlio.py:48: FutureWarning: The 'to_native_types' method is deprecated and will be removed in a future version. Use 'astype(str)' instead.\n",
      "  index = series.index.to_native_types(quoting=True)\n"
     ]
    }
   ],
   "source": [
    "orca.run([\"rsh_estimate\"])"
   ]
  },
  {
   "cell_type": "code",
   "execution_count": 7,
   "metadata": {
    "collapsed": false,
    "jupyter": {
     "outputs_hidden": false
    }
   },
   "outputs": [
    {
     "name": "stdout",
     "output_type": "stream",
     "text": [
      "Running step 'nrh_estimate'\n",
      "Filling column job_category with value service (331 values)\n",
      "REGRESSION RESULTS FOR SEGMENT Industrial\n",
      "\n",
      "                                  OLS Regression Results                                  \n",
      "==========================================================================================\n",
      "Dep. Variable:     np.log1p(non_residential_rent)   R-squared:                       0.105\n",
      "Model:                                        OLS   Adj. R-squared:                  0.103\n",
      "Method:                             Least Squares   F-statistic:                     59.66\n",
      "Date:                            Mon, 07 Nov 2022   Prob (F-statistic):           6.48e-59\n",
      "Time:                                    15:02:29   Log-Likelihood:                -2035.1\n",
      "No. Observations:                            2558   AIC:                             4082.\n",
      "Df Residuals:                                2552   BIC:                             4117.\n",
      "Df Model:                                       5                                         \n",
      "Covariance Type:                        nonrobust                                         \n",
      "================================================================================================\n",
      "                                   coef    std err          t      P>|t|      [0.025      0.975]\n",
      "------------------------------------------------------------------------------------------------\n",
      "Intercept                        3.7205      0.309     12.025      0.000       3.114       4.327\n",
      "I(year_built < 1940)[T.True]    -0.3186      0.023    -13.995      0.000      -0.363      -0.274\n",
      "I(year_built > 2005)[T.True]    -0.0483      0.101     -0.479      0.632      -0.246       0.150\n",
      "np.log1p(stories)                0.3851      0.042      9.187      0.000       0.303       0.467\n",
      "ave_income                      -0.1826      0.027     -6.852      0.000      -0.235      -0.130\n",
      "jobs                             0.0605      0.012      4.981      0.000       0.037       0.084\n",
      "==============================================================================\n",
      "Omnibus:                     1781.535   Durbin-Watson:                   1.817\n",
      "Prob(Omnibus):                  0.000   Jarque-Bera (JB):            17978.361\n",
      "Skew:                          -3.372   Prob(JB):                         0.00\n",
      "Kurtosis:                      14.099   Cond. No.                         385.\n",
      "==============================================================================\n",
      "\n",
      "Notes:\n",
      "[1] Standard Errors assume that the covariance matrix of the errors is correctly specified.\n",
      "REGRESSION RESULTS FOR SEGMENT Office\n",
      "\n",
      "                                  OLS Regression Results                                  \n",
      "==========================================================================================\n",
      "Dep. Variable:     np.log1p(non_residential_rent)   R-squared:                       0.066\n",
      "Model:                                        OLS   Adj. R-squared:                  0.064\n",
      "Method:                             Least Squares   F-statistic:                     51.14\n",
      "Date:                            Mon, 07 Nov 2022   Prob (F-statistic):           2.16e-51\n",
      "Time:                                    15:02:29   Log-Likelihood:                -4021.6\n",
      "No. Observations:                            3653   AIC:                             8055.\n",
      "Df Residuals:                                3647   BIC:                             8092.\n",
      "Df Model:                                       5                                         \n",
      "Covariance Type:                        nonrobust                                         \n",
      "================================================================================================\n",
      "                                   coef    std err          t      P>|t|      [0.025      0.975]\n",
      "------------------------------------------------------------------------------------------------\n",
      "Intercept                        4.1593      0.321     12.975      0.000       3.531       4.788\n",
      "I(year_built < 1940)[T.True]    -0.3156      0.027    -11.908      0.000      -0.368      -0.264\n",
      "I(year_built > 2005)[T.True]    -0.0238      0.119     -0.201      0.841      -0.256       0.209\n",
      "np.log1p(stories)                0.1750      0.024      7.183      0.000       0.127       0.223\n",
      "ave_income                      -0.0719      0.025     -2.853      0.004      -0.121      -0.022\n",
      "jobs                            -0.0429      0.013     -3.201      0.001      -0.069      -0.017\n",
      "==============================================================================\n",
      "Omnibus:                     2697.682   Durbin-Watson:                   1.827\n",
      "Prob(Omnibus):                  0.000   Jarque-Bera (JB):            29985.208\n",
      "Skew:                          -3.650   Prob(JB):                         0.00\n",
      "Kurtosis:                      14.988   Cond. No.                         348.\n",
      "==============================================================================\n",
      "\n",
      "Notes:\n",
      "[1] Standard Errors assume that the covariance matrix of the errors is correctly specified.\n",
      "REGRESSION RESULTS FOR SEGMENT Retail\n",
      "\n",
      "                                  OLS Regression Results                                  \n",
      "==========================================================================================\n",
      "Dep. Variable:     np.log1p(non_residential_rent)   R-squared:                       0.046\n",
      "Model:                                        OLS   Adj. R-squared:                  0.045\n",
      "Method:                             Least Squares   F-statistic:                     43.81\n",
      "Date:                            Mon, 07 Nov 2022   Prob (F-statistic):           2.83e-44\n",
      "Time:                                    15:02:29   Log-Likelihood:                -5334.2\n",
      "No. Observations:                            4592   AIC:                         1.068e+04\n",
      "Df Residuals:                                4586   BIC:                         1.072e+04\n",
      "Df Model:                                       5                                         \n",
      "Covariance Type:                        nonrobust                                         \n",
      "================================================================================================\n",
      "                                   coef    std err          t      P>|t|      [0.025      0.975]\n",
      "------------------------------------------------------------------------------------------------\n",
      "Intercept                        3.9704      0.331     11.986      0.000       3.321       4.620\n",
      "I(year_built < 1940)[T.True]    -0.3253      0.025    -12.869      0.000      -0.375      -0.276\n",
      "I(year_built > 2005)[T.True]    -0.1107      0.104     -1.067      0.286      -0.314       0.093\n",
      "np.log1p(stories)                0.2327      0.037      6.311      0.000       0.160       0.305\n",
      "ave_income                      -0.0483      0.026     -1.874      0.061      -0.099       0.002\n",
      "jobs                            -0.0367      0.014     -2.688      0.007      -0.063      -0.010\n",
      "==============================================================================\n",
      "Omnibus:                     3246.917   Durbin-Watson:                   1.731\n",
      "Prob(Omnibus):                  0.000   Jarque-Bera (JB):            32590.849\n",
      "Skew:                          -3.490   Prob(JB):                         0.00\n",
      "Kurtosis:                      14.028   Cond. No.                         374.\n",
      "==============================================================================\n",
      "\n",
      "Notes:\n",
      "[1] Standard Errors assume that the covariance matrix of the errors is correctly specified.\n",
      "Time to execute step 'nrh_estimate': 0.40 s\n",
      "Total time to execute iteration 1 with iteration value None: 0.40 s\n"
     ]
    },
    {
     "name": "stderr",
     "output_type": "stream",
     "text": [
      "/Library/Frameworks/Python.framework/Versions/3.11/lib/python3.11/site-packages/urbansim/utils/yamlio.py:78: FutureWarning: iteritems is deprecated and will be removed in a future version. Use .items instead.\n",
      "  return {col: series_to_yaml_safe(series)\n",
      "/Library/Frameworks/Python.framework/Versions/3.11/lib/python3.11/site-packages/urbansim/utils/yamlio.py:48: FutureWarning: The 'to_native_types' method is deprecated and will be removed in a future version. Use 'astype(str)' instead.\n",
      "  index = series.index.to_native_types(quoting=True)\n"
     ]
    }
   ],
   "source": [
    "orca.run([\"nrh_estimate\"])"
   ]
  },
  {
   "cell_type": "markdown",
   "metadata": {},
   "source": [
    "## Hedonic Simulation"
   ]
  },
  {
   "cell_type": "code",
   "execution_count": 8,
   "metadata": {
    "collapsed": false,
    "jupyter": {
     "outputs_hidden": false
    }
   },
   "outputs": [
    {
     "name": "stdout",
     "output_type": "stream",
     "text": [
      "Running step 'rsh_simulate'\n",
      "count    1.407800e+05\n",
      "mean     1.156971e+03\n",
      "std      4.150324e+04\n",
      "min      2.067312e-03\n",
      "25%      2.527274e+02\n",
      "50%      3.799934e+02\n",
      "75%      5.542446e+02\n",
      "max      1.250703e+07\n",
      "dtype: float64\n",
      "Time to execute step 'rsh_simulate': 0.29 s\n",
      "Running step 'nrh_simulate'\n",
      "count    10803.000000\n",
      "mean        20.729909\n",
      "std          6.833292\n",
      "min          6.258496\n",
      "25%         17.431477\n",
      "50%         20.908725\n",
      "75%         25.077906\n",
      "max         47.266957\n",
      "dtype: float64\n",
      "Time to execute step 'nrh_simulate': 0.24 s\n",
      "Total time to execute iteration 1 with iteration value None: 0.54 s\n"
     ]
    }
   ],
   "source": [
    "orca.run([\"rsh_simulate\", \"nrh_simulate\"])"
   ]
  },
  {
   "cell_type": "markdown",
   "metadata": {},
   "source": [
    "## LCM Estimation"
   ]
  },
  {
   "cell_type": "code",
   "execution_count": 9,
   "metadata": {
    "collapsed": false,
    "jupyter": {
     "outputs_hidden": false
    }
   },
   "outputs": [
    {
     "name": "stdout",
     "output_type": "stream",
     "text": [
      "Running step 'hlcm_estimate'\n"
     ]
    },
    {
     "name": "stderr",
     "output_type": "stream",
     "text": [
      "WARNING:urbansim.urbanchoice.mnl:mnl did not converge correctly: (array([ 2.3295488 ,  3.        , -0.30652566, -1.89452887,  0.48592458,\n",
      "       -1.3014931 , -0.74906158,  0.04304967, -0.03095246, -0.51017108,\n",
      "        0.18791057,  0.65108039]), 13043.769814980042, {'grad': array([ 6.72324909e-05, -6.20802144e+00, -4.78816982e-05,  7.06407070e-05,\n",
      "        9.91851427e-06, -1.08484129e-06,  1.56366542e-05, -1.10353015e-04,\n",
      "       -7.02326720e-06,  2.07798104e-05,  3.05858263e-05, -1.71201996e-05]), 'task': 'ABNORMAL_TERMINATION_IN_LNSRCH', 'funcalls': 133, 'nit': 94, 'warnflag': 2})\n"
     ]
    },
    {
     "name": "stdout",
     "output_type": "stream",
     "text": [
      "LCM RESULTS FOR SEGMENT 0\n",
      "\n",
      "Null Log-liklihood: -13815.511\n",
      "Log-liklihood at convergence: -11476.411\n",
      "Log-liklihood Ratio: 0.169\n",
      "\n",
      "+-----------------------------------+-------------+------------+---------+\n",
      "| Component                         | Coefficient | Std. Error | T-Score |\n",
      "+-----------------------------------+-------------+------------+---------+\n",
      "| np.log1p(residential_sales_price) |    1.492    |   0.080    |  18.597 |\n",
      "| np.log1p(unit_sqft)               |    1.881    |   0.117    |  16.013 |\n",
      "| sum_residential_units             |    0.192    |   0.106    |  1.808  |\n",
      "| ave_unit_sqft                     |    -0.818   |   0.110    |  -7.436 |\n",
      "| ave_lot_sqft                      |    0.291    |   0.041    |  7.052  |\n",
      "| ave_income                        |    -2.146   |   0.118    | -18.232 |\n",
      "| hhsize                            |    -0.610   |   0.145    |  -4.206 |\n",
      "| jobs                              |    -0.016   |   0.032    |  -0.498 |\n",
      "| sfdu                              |    0.012    |   0.018    |  0.646  |\n",
      "| renters                           |    -0.502   |   0.039    | -13.010 |\n",
      "| poor                              |    1.113    |   0.089    |  12.441 |\n",
      "| population                        |    -0.590   |   0.130    |  -4.530 |\n",
      "+-----------------------------------+-------------+------------+---------+\n",
      "LCM RESULTS FOR SEGMENT 1\n",
      "\n",
      "Null Log-liklihood: -13815.511\n",
      "Log-liklihood at convergence: -12540.368\n",
      "Log-liklihood Ratio: 0.092\n",
      "\n",
      "+-----------------------------------+-------------+------------+---------+\n",
      "| Component                         | Coefficient | Std. Error | T-Score |\n",
      "+-----------------------------------+-------------+------------+---------+\n",
      "| np.log1p(residential_sales_price) |    2.158    |   0.066    |  32.527 |\n",
      "| np.log1p(unit_sqft)               |    2.767    |   0.094    |  29.530 |\n",
      "| sum_residential_units             |    -0.185   |   0.115    |  -1.600 |\n",
      "| ave_unit_sqft                     |    -1.827   |   0.123    | -14.875 |\n",
      "| ave_lot_sqft                      |    0.312    |   0.043    |  7.239  |\n",
      "| ave_income                        |    -2.190   |   0.109    | -20.082 |\n",
      "| hhsize                            |    -0.318   |   0.142    |  -2.240 |\n",
      "| jobs                              |    0.109    |   0.031    |  3.448  |\n",
      "| sfdu                              |    -0.063   |   0.019    |  -3.273 |\n",
      "| renters                           |    -0.448   |   0.045    |  -9.990 |\n",
      "| poor                              |    0.877    |   0.088    |  9.906  |\n",
      "| population                        |    -0.147   |   0.147    |  -1.000 |\n",
      "+-----------------------------------+-------------+------------+---------+\n",
      "LCM RESULTS FOR SEGMENT 2\n",
      "\n",
      "Null Log-liklihood: -13815.511\n",
      "Log-liklihood at convergence: -12958.808\n",
      "Log-liklihood Ratio: 0.062\n",
      "\n",
      "+-----------------------------------+-------------+------------+---------+\n",
      "| Component                         | Coefficient | Std. Error | T-Score |\n",
      "+-----------------------------------+-------------+------------+---------+\n",
      "| np.log1p(residential_sales_price) |    2.314    |   0.057    |  40.669 |\n",
      "| np.log1p(unit_sqft)               |    2.948    |   0.079    |  37.552 |\n",
      "| sum_residential_units             |    -0.029   |   0.118    |  -0.249 |\n",
      "| ave_unit_sqft                     |    -2.056   |   0.129    | -15.963 |\n",
      "| ave_lot_sqft                      |    0.380    |   0.047    |  8.058  |\n",
      "| ave_income                        |    -1.846   |   0.107    | -17.219 |\n",
      "| hhsize                            |    -0.417   |   0.145    |  -2.881 |\n",
      "| jobs                              |    0.091    |   0.032    |  2.815  |\n",
      "| sfdu                              |    -0.035   |   0.019    |  -1.825 |\n",
      "| renters                           |    -0.271   |   0.053    |  -5.086 |\n",
      "| poor                              |    0.687    |   0.092    |  7.452  |\n",
      "| population                        |    -0.273   |   0.160    |  -1.709 |\n",
      "+-----------------------------------+-------------+------------+---------+\n",
      "LCM RESULTS FOR SEGMENT 3\n",
      "\n",
      "Null Log-liklihood: -13815.511\n",
      "Log-liklihood at convergence: -13043.770\n",
      "Log-liklihood Ratio: 0.056\n",
      "\n",
      "+-----------------------------------+-------------+------------+---------+\n",
      "| Component                         | Coefficient | Std. Error | T-Score |\n",
      "+-----------------------------------+-------------+------------+---------+\n",
      "| np.log1p(residential_sales_price) |    2.330    |   0.069    |  33.809 |\n",
      "| np.log1p(unit_sqft)               |    3.000    |   0.100    |  30.096 |\n",
      "| sum_residential_units             |    -0.307   |   0.117    |  -2.609 |\n",
      "| ave_unit_sqft                     |    -1.895   |   0.127    | -14.876 |\n",
      "| ave_lot_sqft                      |    0.486    |   0.051    |  9.499  |\n",
      "| ave_income                        |    -1.301   |   0.113    | -11.559 |\n",
      "| hhsize                            |    -0.749   |   0.146    |  -5.130 |\n",
      "| jobs                              |    0.043    |   0.032    |  1.327  |\n",
      "| sfdu                              |    -0.031   |   0.020    |  -1.549 |\n",
      "| renters                           |    -0.510   |   0.054    |  -9.381 |\n",
      "| poor                              |    0.188    |   0.097    |  1.943  |\n",
      "| population                        |    0.651    |   0.165    |  3.941  |\n",
      "+-----------------------------------+-------------+------------+---------+\n",
      "Time to execute step 'hlcm_estimate': 6.41 s\n",
      "Total time to execute iteration 1 with iteration value None: 6.41 s\n"
     ]
    },
    {
     "name": "stderr",
     "output_type": "stream",
     "text": [
      "/Library/Frameworks/Python.framework/Versions/3.11/lib/python3.11/site-packages/urbansim/utils/yamlio.py:78: FutureWarning: iteritems is deprecated and will be removed in a future version. Use .items instead.\n",
      "  return {col: series_to_yaml_safe(series)\n",
      "/Library/Frameworks/Python.framework/Versions/3.11/lib/python3.11/site-packages/urbansim/utils/yamlio.py:48: FutureWarning: The 'to_native_types' method is deprecated and will be removed in a future version. Use 'astype(str)' instead.\n",
      "  index = series.index.to_native_types(quoting=True)\n"
     ]
    }
   ],
   "source": [
    "orca.run([\"hlcm_estimate\"])"
   ]
  },
  {
   "cell_type": "code",
   "execution_count": 10,
   "metadata": {
    "collapsed": false,
    "jupyter": {
     "outputs_hidden": false
    }
   },
   "outputs": [
    {
     "name": "stdout",
     "output_type": "stream",
     "text": [
      "Running step 'elcm_estimate'\n",
      "LCM RESULTS FOR SEGMENT agriculture\n",
      "\n",
      "Null Log-liklihood: -990.112\n",
      "Log-liklihood at convergence: -680.992\n",
      "Log-liklihood Ratio: 0.312\n",
      "\n",
      "+--------------------------------+-------------+------------+---------+\n",
      "| Component                      | Coefficient | Std. Error | T-Score |\n",
      "+--------------------------------+-------------+------------+---------+\n",
      "| np.log1p(non_residential_rent) |    0.856    |   0.239    |  3.575  |\n",
      "| sum_job_spaces                 |    -0.763   |   0.298    |  -2.561 |\n",
      "| sum_residential_units          |    0.512    |   0.291    |  1.762  |\n",
      "| ave_unit_sqft                  |    -0.601   |   0.088    |  -6.793 |\n",
      "| ave_lot_sqft                   |    0.370    |   0.178    |  2.076  |\n",
      "| ave_income                     |    -0.037   |   0.244    |  -0.152 |\n",
      "| hhsize                         |    -0.388   |   0.729    |  -0.533 |\n",
      "| jobs                           |    1.544    |   0.312    |  4.943  |\n",
      "| poor                           |    -0.472   |   0.155    |  -3.050 |\n",
      "+--------------------------------+-------------+------------+---------+\n",
      "LCM RESULTS FOR SEGMENT industrial\n",
      "\n",
      "Null Log-liklihood: -17043.735\n",
      "Log-liklihood at convergence: -14732.249\n",
      "Log-liklihood Ratio: 0.136\n",
      "\n",
      "+--------------------------------+-------------+------------+---------+\n",
      "| Component                      | Coefficient | Std. Error | T-Score |\n",
      "+--------------------------------+-------------+------------+---------+\n",
      "| np.log1p(non_residential_rent) |    0.463    |   0.043    |  10.865 |\n",
      "| sum_job_spaces                 |    -0.198   |   0.044    |  -4.546 |\n",
      "| sum_residential_units          |    0.160    |   0.052    |  3.085  |\n",
      "| ave_unit_sqft                  |    0.103    |   0.024    |  4.303  |\n",
      "| ave_lot_sqft                   |    0.519    |   0.030    |  17.411 |\n",
      "| ave_income                     |    -0.119   |   0.040    |  -3.001 |\n",
      "| hhsize                         |    0.047    |   0.121    |  0.393  |\n",
      "| jobs                           |    0.612    |   0.046    |  13.236 |\n",
      "| poor                           |    -0.366   |   0.030    | -12.357 |\n",
      "+--------------------------------+-------------+------------+---------+\n",
      "LCM RESULTS FOR SEGMENT retail\n",
      "\n",
      "Null Log-liklihood: -14754.965\n",
      "Log-liklihood at convergence: -13579.806\n",
      "Log-liklihood Ratio: 0.080\n",
      "\n",
      "+--------------------------------+-------------+------------+---------+\n",
      "| Component                      | Coefficient | Std. Error | T-Score |\n",
      "+--------------------------------+-------------+------------+---------+\n",
      "| np.log1p(non_residential_rent) |    1.297    |   0.052    |  25.136 |\n",
      "| sum_job_spaces                 |    0.067    |   0.049    |  1.379  |\n",
      "| sum_residential_units          |    -0.171   |   0.059    |  -2.901 |\n",
      "| ave_unit_sqft                  |    -0.042   |   0.028    |  -1.498 |\n",
      "| ave_lot_sqft                   |    0.071    |   0.035    |  2.059  |\n",
      "| ave_income                     |    0.559    |   0.043    |  13.086 |\n",
      "| hhsize                         |    -0.774   |   0.140    |  -5.539 |\n",
      "| jobs                           |    0.713    |   0.058    |  12.245 |\n",
      "| poor                           |    0.142    |   0.035    |  4.022  |\n",
      "+--------------------------------+-------------+------------+---------+\n",
      "LCM RESULTS FOR SEGMENT service\n",
      "\n",
      "Null Log-liklihood: -15809.549\n",
      "Log-liklihood at convergence: -12667.862\n",
      "Log-liklihood Ratio: 0.199\n",
      "\n",
      "+--------------------------------+-------------+------------+---------+\n",
      "| Component                      | Coefficient | Std. Error | T-Score |\n",
      "+--------------------------------+-------------+------------+---------+\n",
      "| np.log1p(non_residential_rent) |    1.517    |   0.050    |  30.057 |\n",
      "| sum_job_spaces                 |    -0.367   |   0.045    |  -8.193 |\n",
      "| sum_residential_units          |    0.042    |   0.049    |  0.867  |\n",
      "| ave_unit_sqft                  |    0.046    |   0.018    |  2.506  |\n",
      "| ave_lot_sqft                   |    0.084    |   0.028    |  3.010  |\n",
      "| ave_income                     |    -0.186   |   0.037    |  -5.042 |\n",
      "| hhsize                         |    -0.984   |   0.145    |  -6.806 |\n",
      "| jobs                           |    1.097    |   0.048    |  22.985 |\n",
      "| poor                           |    -0.248   |   0.029    |  -8.417 |\n",
      "+--------------------------------+-------------+------------+---------+\n",
      "Time to execute step 'elcm_estimate': 3.45 s\n",
      "Total time to execute iteration 1 with iteration value None: 3.45 s\n"
     ]
    },
    {
     "name": "stderr",
     "output_type": "stream",
     "text": [
      "/Library/Frameworks/Python.framework/Versions/3.11/lib/python3.11/site-packages/urbansim/utils/yamlio.py:78: FutureWarning: iteritems is deprecated and will be removed in a future version. Use .items instead.\n",
      "  return {col: series_to_yaml_safe(series)\n",
      "/Library/Frameworks/Python.framework/Versions/3.11/lib/python3.11/site-packages/urbansim/utils/yamlio.py:48: FutureWarning: The 'to_native_types' method is deprecated and will be removed in a future version. Use 'astype(str)' instead.\n",
      "  index = series.index.to_native_types(quoting=True)\n"
     ]
    }
   ],
   "source": [
    "orca.run([\"elcm_estimate\"])"
   ]
  },
  {
   "cell_type": "code",
   "execution_count": null,
   "metadata": {
    "collapsed": false,
    "jupyter": {
     "outputs_hidden": false
    }
   },
   "outputs": [],
   "source": []
  },
  {
   "cell_type": "code",
   "execution_count": null,
   "metadata": {
    "collapsed": true,
    "jupyter": {
     "outputs_hidden": true
    }
   },
   "outputs": [],
   "source": []
  }
 ],
 "metadata": {
  "kernelspec": {
   "display_name": "Python 3 (ipykernel)",
   "language": "python",
   "name": "python3"
  },
  "language_info": {
   "codemirror_mode": {
    "name": "ipython",
    "version": 3
   },
   "file_extension": ".py",
   "mimetype": "text/x-python",
   "name": "python",
   "nbconvert_exporter": "python",
   "pygments_lexer": "ipython3",
   "version": "3.11.0"
  }
 },
 "nbformat": 4,
 "nbformat_minor": 4
}
