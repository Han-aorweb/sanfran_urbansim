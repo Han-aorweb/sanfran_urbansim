{
 "metadata": {
  "name": "",
  "signature": "sha256:f3767fc7ac3bb8f41ad0aab5b019a03596e1b4b369b454886ea49e4188c295d4"
 },
 "nbformat": 3,
 "nbformat_minor": 0,
 "worksheets": [
  {
   "cells": [
    {
     "cell_type": "code",
     "collapsed": false,
     "input": [
      "%load_ext autoreload\n",
      "%autoreload 2\n",
      "import models\n",
      "import urbansim.sim.simulation as sim"
     ],
     "language": "python",
     "metadata": {},
     "outputs": [],
     "prompt_number": 1
    },
    {
     "cell_type": "code",
     "collapsed": false,
     "input": [
      "sim.run([\"build_networks\"])"
     ],
     "language": "python",
     "metadata": {},
     "outputs": [
      {
       "output_type": "stream",
       "stream": "stdout",
       "text": [
        "Running model 'build_networks'\n"
       ]
      }
     ],
     "prompt_number": 2
    },
    {
     "cell_type": "heading",
     "level": 2,
     "metadata": {},
     "source": [
      "Compute Variables"
     ]
    },
    {
     "cell_type": "code",
     "collapsed": false,
     "input": [
      "sim.run([\"neighborhood_vars\"])"
     ],
     "language": "python",
     "metadata": {},
     "outputs": [
      {
       "output_type": "stream",
       "stream": "stdout",
       "text": [
        "Running model 'neighborhood_vars'\n",
        "Computing accessibility variables\n",
        "Computing sum_residential_units\n",
        "    Fields available to accvar = residential_units, _node_id0\n",
        "    dataframe = buildings, varname=residential_units"
       ]
      },
      {
       "output_type": "stream",
       "stream": "stdout",
       "text": [
        "\n",
        "    radius = 1500, aggregation = AGG_SUM, decay = DECAY_LINEAR\n",
        "Computing sum_nonresidential_units"
       ]
      },
      {
       "output_type": "stream",
       "stream": "stdout",
       "text": [
        "\n",
        "    Fields available to accvar = job_spaces, _node_id0\n",
        "    dataframe = buildings, varname=job_spaces"
       ]
      },
      {
       "output_type": "stream",
       "stream": "stdout",
       "text": [
        "\n",
        "    radius = 1500, aggregation = AGG_SUM, decay = DECAY_LINEAR\n",
        "Computing ave_unit_sqft"
       ]
      },
      {
       "output_type": "stream",
       "stream": "stdout",
       "text": [
        "\n",
        "    Fields available to accvar = unit_sqft, general_type, _node_id0\n",
        "    Filters = ['general_type == \"Residential\"']"
       ]
      },
      {
       "output_type": "stream",
       "stream": "stdout",
       "text": [
        "\n",
        "    dataframe = buildings, varname=unit_sqft\n",
        "    radius = 1500, aggregation = AGG_AVE, decay = DECAY_FLAT\n",
        "Computing ave_lot_sqft"
       ]
      },
      {
       "output_type": "stream",
       "stream": "stdout",
       "text": [
        "\n",
        "    Fields available to accvar = unit_lot_size, _node_id0\n",
        "    dataframe = buildings, varname=unit_lot_size"
       ]
      },
      {
       "output_type": "stream",
       "stream": "stdout",
       "text": [
        "\n",
        "    radius = 1500, aggregation = AGG_AVE, decay = DECAY_FLAT\n",
        "Computing population"
       ]
      },
      {
       "output_type": "stream",
       "stream": "stdout",
       "text": [
        "\n",
        "    Fields available to accvar = persons, _node_id0\n",
        "    dataframe = households, varname=persons"
       ]
      },
      {
       "output_type": "stream",
       "stream": "stdout",
       "text": [
        "\n",
        "    radius = 1500, aggregation = AGG_SUM, decay = DECAY_LINEAR\n",
        "Computing poor"
       ]
      },
      {
       "output_type": "stream",
       "stream": "stdout",
       "text": [
        "\n",
        "    Fields available to accvar = persons, income, _node_id0\n",
        "    Filters = ['income < 40000']"
       ]
      },
      {
       "output_type": "stream",
       "stream": "stdout",
       "text": [
        "\n",
        "    dataframe = households, varname=persons\n",
        "    radius = 1500, aggregation = AGG_SUM, decay = DECAY_LINEAR\n",
        "Computing renters"
       ]
      },
      {
       "output_type": "stream",
       "stream": "stdout",
       "text": [
        "\n",
        "    Fields available to accvar = tenure, _node_id0\n",
        "    Filters = ['tenure == 2']"
       ]
      },
      {
       "output_type": "stream",
       "stream": "stdout",
       "text": [
        "\n",
        "    dataframe = households, varname=None\n",
        "    radius = 1500, aggregation = AGG_SUM, decay = DECAY_LINEAR\n",
        "Computing sfdu"
       ]
      },
      {
       "output_type": "stream",
       "stream": "stdout",
       "text": [
        "\n",
        "    Fields available to accvar = building_type_id, _node_id0\n",
        "    Filters = ['building_type_id == 1']"
       ]
      },
      {
       "output_type": "stream",
       "stream": "stdout",
       "text": [
        "\n",
        "    dataframe = buildings, varname=None\n",
        "    radius = 1500, aggregation = AGG_SUM, decay = DECAY_LINEAR\n",
        "Computing hhsize"
       ]
      },
      {
       "output_type": "stream",
       "stream": "stdout",
       "text": [
        "\n",
        "    Fields available to accvar = persons, _node_id0\n",
        "    dataframe = households, varname=persons"
       ]
      },
      {
       "output_type": "stream",
       "stream": "stdout",
       "text": [
        "\n",
        "    radius = 1500, aggregation = AGG_AVE, decay = DECAY_FLAT\n",
        "Computing jobs"
       ]
      },
      {
       "output_type": "stream",
       "stream": "stdout",
       "text": [
        "\n",
        "    Fields available to accvar = _node_id0\n",
        "    dataframe = jobs, varname=None"
       ]
      },
      {
       "output_type": "stream",
       "stream": "stdout",
       "text": [
        "\n",
        "    radius = 1500, aggregation = AGG_SUM, decay = DECAY_LINEAR\n",
        "Computing ave_income"
       ]
      },
      {
       "output_type": "stream",
       "stream": "stdout",
       "text": [
        "\n",
        "    Fields available to accvar = income, _node_id0\n",
        "    dataframe = households, varname=income"
       ]
      },
      {
       "output_type": "stream",
       "stream": "stdout",
       "text": [
        "\n",
        "    radius = 1500, aggregation = AGG_AVE, decay = DECAY_FLAT\n",
        "Done"
       ]
      },
      {
       "output_type": "stream",
       "stream": "stdout",
       "text": [
        "\n"
       ]
      }
     ],
     "prompt_number": 3
    },
    {
     "cell_type": "heading",
     "level": 2,
     "metadata": {},
     "source": [
      "Hedonic Estimation"
     ]
    },
    {
     "cell_type": "code",
     "collapsed": false,
     "input": [
      "sim.run([\"rsh_estimate\"])"
     ],
     "language": "python",
     "metadata": {},
     "outputs": [
      {
       "output_type": "stream",
       "stream": "stdout",
       "text": [
        "Running model 'rsh_estimate'\n",
        "                               OLS Regression Results                               \n",
        "====================================================================================\n",
        "Dep. Variable:     np.log1p(sale_price_flt)   R-squared:                       0.217\n",
        "Model:                                  OLS   Adj. R-squared:                  0.216\n",
        "Method:                       Least Squares   F-statistic:                     302.7\n",
        "Date:                      Fri, 01 Aug 2014   Prob (F-statistic):               0.00\n",
        "Time:                              19:54:46   Log-Likelihood:                -4992.8\n",
        "No. Observations:                      8738   AIC:                         1.000e+04\n",
        "Df Residuals:                          8729   BIC:                         1.007e+04\n",
        "Df Model:                                 8                                         \n",
        "================================================================================================\n",
        "                                   coef    std err          t      P>|t|      [95.0% Conf. Int.]\n",
        "------------------------------------------------------------------------------------------------\n",
        "Intercept                        8.6208      0.113     76.353      0.000         8.399     8.842\n",
        "I(year_built < 1940)[T.True]     0.0436      0.010      4.357      0.000         0.024     0.063\n",
        "I(year_built > 2005)[T.True]     0.0713      0.076      0.932      0.351        -0.079     0.221\n",
        "np.log1p(unit_sqft)             -0.4346      0.010    -44.067      0.000        -0.454    -0.415\n",
        "np.log1p(unit_lot_size)          0.0634      0.007      8.871      0.000         0.049     0.077\n",
        "sum_residential_units            0.0837      0.007     12.529      0.000         0.071     0.097\n",
        "ave_unit_sqft                   -0.0016      0.026     -0.060      0.952        -0.053     0.050\n",
        "ave_lot_sqft                    -0.2809      0.016    -17.135      0.000        -0.313    -0.249\n",
        "ave_income                       0.1621      0.014     11.254      0.000         0.134     0.190\n",
        "==============================================================================\n",
        "Omnibus:                      867.822   Durbin-Watson:                   1.324\n",
        "Prob(Omnibus):                  0.000   Jarque-Bera (JB):             2405.219\n",
        "Skew:                          -0.551   Prob(JB):                         0.00\n",
        "Kurtosis:                       5.322   Cond. No.                         515.\n",
        "=============================================================================="
       ]
      },
      {
       "output_type": "stream",
       "stream": "stdout",
       "text": [
        "\n"
       ]
      }
     ],
     "prompt_number": 4
    },
    {
     "cell_type": "code",
     "collapsed": false,
     "input": [
      "sim.run([\"rrh_estimate\"])"
     ],
     "language": "python",
     "metadata": {},
     "outputs": [
      {
       "output_type": "stream",
       "stream": "stdout",
       "text": [
        "Running model 'rrh_estimate'\n",
        "                            OLS Regression Results                            \n",
        "==============================================================================\n",
        "Dep. Variable:         np.log1p(rent)   R-squared:                       0.398\n",
        "Model:                            OLS   Adj. R-squared:                  0.381\n",
        "Method:                 Least Squares   F-statistic:                     22.79\n",
        "Date:                Fri, 01 Aug 2014   Prob (F-statistic):           1.64e-17\n",
        "Time:                        19:54:47   Log-Likelihood:                 95.640\n",
        "No. Observations:                 178   AIC:                            -179.3\n",
        "Df Residuals:                     172   BIC:                            -160.2\n",
        "Df Model:                           5                                         \n",
        "=========================================================================================\n",
        "                            coef    std err          t      P>|t|      [95.0% Conf. Int.]\n",
        "-----------------------------------------------------------------------------------------\n",
        "Intercept                 2.5404      0.382      6.652      0.000         1.787     3.294\n",
        "np.log1p(unit_sqft)      -0.1953      0.030     -6.471      0.000        -0.255    -0.136\n",
        "sum_residential_units    -0.0268      0.024     -1.110      0.268        -0.074     0.021\n",
        "ave_unit_sqft             0.0006      0.015      0.042      0.967        -0.028     0.030\n",
        "ave_lot_sqft             -0.0365      0.027     -1.336      0.183        -0.090     0.017\n",
        "jobs                      0.0752      0.015      5.049      0.000         0.046     0.105\n",
        "==============================================================================\n",
        "Omnibus:                       11.211   Durbin-Watson:                   1.302\n",
        "Prob(Omnibus):                  0.004   Jarque-Bera (JB):               27.319\n",
        "Skew:                          -0.030   Prob(JB):                     1.17e-06\n",
        "Kurtosis:                       4.918   Cond. No.                         662.\n",
        "=============================================================================="
       ]
      },
      {
       "output_type": "stream",
       "stream": "stdout",
       "text": [
        "\n"
       ]
      }
     ],
     "prompt_number": 5
    },
    {
     "cell_type": "code",
     "collapsed": false,
     "input": [
      "sim.run([\"nrh_estimate\"])"
     ],
     "language": "python",
     "metadata": {},
     "outputs": [
      {
       "output_type": "stream",
       "stream": "stdout",
       "text": [
        "Running model 'nrh_estimate'\n",
        "REGRESSION RESULTS FOR SEGMENT Retail\n"
       ]
      },
      {
       "output_type": "stream",
       "stream": "stdout",
       "text": [
        "\n",
        "                            OLS Regression Results                            \n",
        "==============================================================================\n",
        "Dep. Variable:         np.log1p(rent)   R-squared:                       0.053\n",
        "Model:                            OLS   Adj. R-squared:                  0.013\n",
        "Method:                 Least Squares   F-statistic:                     1.316\n",
        "Date:                Fri, 01 Aug 2014   Prob (F-statistic):              0.262\n",
        "Time:                        19:54:47   Log-Likelihood:                -73.855\n",
        "No. Observations:                 124   AIC:                             159.7\n",
        "Df Residuals:                     118   BIC:                             176.6\n",
        "Df Model:                           5                                         \n",
        "================================================================================================\n",
        "                                   coef    std err          t      P>|t|      [95.0% Conf. Int.]\n",
        "------------------------------------------------------------------------------------------------\n",
        "Intercept                       -0.8609      2.476     -0.348      0.729        -5.765     4.043\n",
        "I(year_built < 1940)[T.True]    -0.0941      0.105     -0.896      0.372        -0.302     0.114\n",
        "I(year_built > 2005)[T.True]    -0.1046      0.246     -0.426      0.671        -0.591     0.382\n",
        "np.log1p(stories)               -0.0755      0.110     -0.684      0.495        -0.294     0.143\n",
        "ave_income                       0.2976      0.193      1.545      0.125        -0.084     0.679\n",
        "jobs                             0.1151      0.046      2.482      0.014         0.023     0.207\n",
        "==============================================================================\n",
        "Omnibus:                       15.597   Durbin-Watson:                   2.433\n",
        "Prob(Omnibus):                  0.000   Jarque-Bera (JB):               31.800\n",
        "Skew:                           0.492   Prob(JB):                     1.24e-07\n",
        "Kurtosis:                       5.277   Cond. No.                         910.\n",
        "==============================================================================\n",
        "REGRESSION RESULTS FOR SEGMENT Office\n",
        "\n",
        "                            OLS Regression Results                            \n",
        "==============================================================================\n",
        "Dep. Variable:         np.log1p(rent)   R-squared:                       0.044\n",
        "Model:                            OLS   Adj. R-squared:                  0.031\n",
        "Method:                 Least Squares   F-statistic:                     3.490\n",
        "Date:                Fri, 01 Aug 2014   Prob (F-statistic):            0.00426\n",
        "Time:                        19:54:47   Log-Likelihood:                -168.79\n",
        "No. Observations:                 385   AIC:                             349.6\n",
        "Df Residuals:                     379   BIC:                             373.3\n",
        "Df Model:                           5                                         \n",
        "================================================================================================\n",
        "                                   coef    std err          t      P>|t|      [95.0% Conf. Int.]\n",
        "------------------------------------------------------------------------------------------------\n",
        "Intercept                        3.5244      0.207     17.017      0.000         3.117     3.932\n",
        "I(year_built < 1940)[T.True]    -0.0787      0.046     -1.698      0.090        -0.170     0.012\n",
        "I(year_built > 2005)[T.True]    -0.0188      0.173     -0.109      0.913        -0.358     0.321\n",
        "np.log1p(stories)                0.0493      0.035      1.401      0.162        -0.020     0.118\n",
        "ave_income                      -0.0417      0.023     -1.831      0.068        -0.086     0.003\n",
        "jobs                             0.0194      0.018      1.079      0.281        -0.016     0.055\n",
        "==============================================================================\n",
        "Omnibus:                      106.606   Durbin-Watson:                   1.811\n",
        "Prob(Omnibus):                  0.000   Jarque-Bera (JB):              544.913\n",
        "Skew:                           1.074   Prob(JB):                    4.72e-119\n",
        "Kurtosis:                       8.418   Cond. No.                         167.\n",
        "==============================================================================\n",
        "REGRESSION RESULTS FOR SEGMENT Industrial\n",
        "\n",
        "                            OLS Regression Results                            \n",
        "==============================================================================\n",
        "Dep. Variable:         np.log1p(rent)   R-squared:                       0.984\n",
        "Model:                            OLS   Adj. R-squared:                  0.983\n",
        "Method:                 Least Squares   F-statistic:                     931.2\n",
        "Date:                Fri, 01 Aug 2014   Prob (F-statistic):           1.19e-66\n",
        "Time:                        19:54:47   Log-Likelihood:                -21.284\n",
        "No. Observations:                  81   AIC:                             52.57\n",
        "Df Residuals:                      76   BIC:                             64.54\n",
        "Df Model:                           5                                         \n",
        "================================================================================================\n",
        "                                   coef    std err          t      P>|t|      [95.0% Conf. Int.]\n",
        "------------------------------------------------------------------------------------------------\n",
        "Intercept                        2.5185      0.347      7.266      0.000         1.828     3.209\n",
        "I(year_built < 1940)[T.True]     0.0130      0.083      0.157      0.876        -0.152     0.178\n",
        "I(year_built > 2005)[T.True] -9.623e-17   1.68e-16     -0.573      0.568     -4.31e-16  2.38e-16\n",
        "np.log1p(stories)                0.0788      0.134      0.588      0.558        -0.188     0.346\n",
        "ave_income                      -0.0388      0.039     -0.994      0.323        -0.116     0.039\n",
        "jobs                             0.0338      0.035      0.956      0.342        -0.037     0.104\n",
        "==============================================================================\n",
        "Omnibus:                        8.537   Durbin-Watson:                   1.893\n",
        "Prob(Omnibus):                  0.014   Jarque-Bera (JB):               18.123\n",
        "Skew:                           0.117   Prob(JB):                     0.000116\n",
        "Kurtosis:                       5.305   Cond. No.                     6.08e+09\n",
        "==============================================================================\n",
        "\n",
        "Warnings:\n",
        "[1] The smallest eigenvalue is 4.44e-16. This might indicate that there are\n",
        "strong multicollinearity problems or that the design matrix is singular."
       ]
      },
      {
       "output_type": "stream",
       "stream": "stdout",
       "text": [
        "\n"
       ]
      }
     ],
     "prompt_number": 6
    },
    {
     "cell_type": "heading",
     "level": 2,
     "metadata": {},
     "source": [
      "Hedonic Simulation"
     ]
    },
    {
     "cell_type": "code",
     "collapsed": false,
     "input": [
      "sim.run([\"rsh_simulate\", \"rrh_simulate\", \"nrh_simulate\"])"
     ],
     "language": "python",
     "metadata": {},
     "outputs": [
      {
       "output_type": "stream",
       "stream": "stdout",
       "text": [
        "Running model 'rsh_simulate'\n",
        "Dropped 3118 rows because they contained nans"
       ]
      },
      {
       "output_type": "stream",
       "stream": "stdout",
       "text": [
        "\n",
        "count    138407.000000\n",
        "mean        543.457014\n",
        "std         171.494620\n",
        "min          14.502545\n",
        "25%         461.634613\n",
        "50%         528.977634\n",
        "75%         596.176894\n",
        "max       10138.582062\n",
        "dtype: float64"
       ]
      },
      {
       "output_type": "stream",
       "stream": "stdout",
       "text": [
        "\n",
        "Running model 'rrh_simulate'\n",
        "Dropped 2 rows because they contained nans"
       ]
      },
      {
       "output_type": "stream",
       "stream": "stdout",
       "text": [
        "\n",
        "count    140780.000000\n",
        "mean          3.412905\n",
        "std           0.499166\n",
        "min           0.630713\n",
        "25%           3.151931\n",
        "50%           3.343975\n",
        "75%           3.580759\n",
        "max          15.340111\n",
        "dtype: float64"
       ]
      },
      {
       "output_type": "stream",
       "stream": "stdout",
       "text": [
        "\n",
        "Running model 'nrh_simulate'\n",
        "Dropped 3118 rows because they contained nans"
       ]
      },
      {
       "output_type": "stream",
       "stream": "stdout",
       "text": [
        "\n",
        "count    10203.000000\n",
        "mean        23.982738\n",
        "std          7.233765\n",
        "min          0.480017\n",
        "25%         22.415323\n",
        "50%         26.249629\n",
        "75%         28.755369\n",
        "max         40.735691\n",
        "dtype: float64"
       ]
      },
      {
       "output_type": "stream",
       "stream": "stdout",
       "text": [
        "\n"
       ]
      }
     ],
     "prompt_number": 7
    },
    {
     "cell_type": "heading",
     "level": 2,
     "metadata": {},
     "source": [
      "LCM Estimation"
     ]
    },
    {
     "cell_type": "code",
     "collapsed": false,
     "input": [
      "sim.run([\"hlcmo_estimate\"])"
     ],
     "language": "python",
     "metadata": {},
     "outputs": [
      {
       "output_type": "stream",
       "stream": "stdout",
       "text": [
        "Running model 'hlcmo_estimate'\n",
        "Dropped 14198 rows because they contained nans"
       ]
      },
      {
       "output_type": "stream",
       "stream": "stdout",
       "text": [
        "\n",
        "LCM RESULTS FOR SEGMENT 0\n"
       ]
      },
      {
       "output_type": "stream",
       "stream": "stdout",
       "text": [
        "\n",
        "Null Log-liklihood: -65540.782\n",
        "Log-liklihood at convergence: -64538.087\n",
        "Log-liklihood Ratio: 0.015\n",
        "\n",
        "+-----------------------------------+-------------+------------+---------+\n",
        "| Component                         | Coefficient | Std. Error | T-Score |\n",
        "+-----------------------------------+-------------+------------+---------+\n",
        "| np.log1p(residential_sales_price) |    -1.826   |   0.158    | -11.541 |\n",
        "| np.log1p(unit_sqft)               |    -0.888   |   0.065    | -13.719 |\n",
        "| sum_residential_units             |    -1.719   |   0.071    | -24.368 |\n",
        "| ave_unit_sqft                     |    0.158    |   0.059    |  2.670  |\n",
        "| ave_lot_sqft                      |    -0.454   |   0.053    |  -8.645 |\n",
        "| ave_income                        |    -1.301   |   0.146    |  -8.928 |\n",
        "| hhsize                            |    -3.000   |   0.142    | -21.191 |\n",
        "| jobs                              |    0.137    |   0.020    |  6.723  |\n",
        "| poor                              |    -0.174   |   0.079    |  -2.201 |\n",
        "| population                        |    2.008    |   0.072    |  27.798 |\n",
        "+-----------------------------------+-------------+------------+---------+\n",
        "LCM RESULTS FOR SEGMENT 1\n",
        "\n",
        "Null Log-liklihood: -68018.364\n",
        "Log-liklihood at convergence: -67434.049\n",
        "Log-liklihood Ratio: 0.009\n",
        "\n",
        "+-----------------------------------+-------------+------------+---------+\n",
        "| Component                         | Coefficient | Std. Error | T-Score |\n",
        "+-----------------------------------+-------------+------------+---------+\n",
        "| np.log1p(residential_sales_price) |    -2.387   |   0.153    | -15.612 |\n",
        "| np.log1p(unit_sqft)               |    -1.149   |   0.063    | -18.285 |\n",
        "| sum_residential_units             |    -1.099   |   0.070    | -15.763 |\n",
        "| ave_unit_sqft                     |    0.085    |   0.057    |  1.512  |\n",
        "| ave_lot_sqft                      |    -0.669   |   0.052    | -12.830 |\n",
        "| ave_income                        |    -0.253   |   0.143    |  -1.771 |\n",
        "| hhsize                            |    -2.397   |   0.143    | -16.749 |\n",
        "| jobs                              |    0.114    |   0.020    |  5.605  |\n",
        "| poor                              |    -0.140   |   0.078    |  -1.809 |\n",
        "| population                        |    1.406    |   0.073    |  19.359 |\n",
        "+-----------------------------------+-------------+------------+---------+\n",
        "LCM RESULTS FOR SEGMENT 2\n",
        "\n",
        "Null Log-liklihood: -67940.076\n",
        "Log-liklihood at convergence: -67396.333\n",
        "Log-liklihood Ratio: 0.008\n",
        "\n",
        "+-----------------------------------+-------------+------------+---------+\n",
        "| Component                         | Coefficient | Std. Error | T-Score |\n",
        "+-----------------------------------+-------------+------------+---------+\n",
        "| np.log1p(residential_sales_price) |    -2.541   |   0.153    | -16.580 |\n",
        "| np.log1p(unit_sqft)               |    -1.241   |   0.062    | -19.940 |\n",
        "| sum_residential_units             |    -1.019   |   0.070    | -14.558 |\n",
        "| ave_unit_sqft                     |    -0.006   |   0.056    |  -0.109 |\n",
        "| ave_lot_sqft                      |    -0.709   |   0.053    | -13.284 |\n",
        "| ave_income                        |    -0.549   |   0.144    |  -3.808 |\n",
        "| hhsize                            |    -2.162   |   0.145    | -14.893 |\n",
        "| jobs                              |    0.131    |   0.021    |  6.386  |\n",
        "| poor                              |    -0.559   |   0.078    |  -7.157 |\n",
        "| population                        |    1.672    |   0.074    |  22.736 |\n",
        "+-----------------------------------+-------------+------------+---------+\n",
        "LCM RESULTS FOR SEGMENT 3\n",
        "\n",
        "Null Log-liklihood: -68096.652\n",
        "Log-liklihood at convergence: -67134.260\n",
        "Log-liklihood Ratio: 0.014\n",
        "\n",
        "+-----------------------------------+-------------+------------+---------+\n",
        "| Component                         | Coefficient | Std. Error | T-Score |\n",
        "+-----------------------------------+-------------+------------+---------+\n",
        "| np.log1p(residential_sales_price) |    -2.925   |   0.145    | -20.221 |\n",
        "| np.log1p(unit_sqft)               |    -1.439   |   0.059    | -24.551 |\n",
        "| sum_residential_units             |    -1.063   |   0.068    | -15.736 |\n",
        "| ave_unit_sqft                     |    0.294    |   0.056    |  5.225  |\n",
        "| ave_lot_sqft                      |    -0.814   |   0.051    | -15.948 |\n",
        "| ave_income                        |    0.527    |   0.137    |  3.853  |\n",
        "| hhsize                            |    -3.000   |   0.145    | -20.712 |\n",
        "| jobs                              |    0.176    |   0.020    |  8.654  |\n",
        "| poor                              |    -0.497   |   0.077    |  -6.466 |\n",
        "| population                        |    1.649    |   0.071    |  23.278 |\n",
        "+-----------------------------------+-------------+------------+---------+\n"
       ]
      }
     ],
     "prompt_number": 8
    },
    {
     "cell_type": "code",
     "collapsed": false,
     "input": [
      "sim.run([\"hlcmr_estimate\"])"
     ],
     "language": "python",
     "metadata": {},
     "outputs": [
      {
       "output_type": "stream",
       "stream": "stdout",
       "text": [
        "Running model 'hlcmr_estimate'\n",
        "Dropped 11825 rows because they contained nans"
       ]
      },
      {
       "output_type": "stream",
       "stream": "stdout",
       "text": [
        "\n",
        "LCM RESULTS FOR SEGMENT 0\n"
       ]
      },
      {
       "output_type": "stream",
       "stream": "stdout",
       "text": [
        "\n",
        "Null Log-liklihood: -23025.851\n",
        "Log-liklihood at convergence: -18082.373\n",
        "Log-liklihood Ratio: 0.215\n",
        "\n",
        "+----------------------------+-------------+------------+---------+\n",
        "| Component                  | Coefficient | Std. Error | T-Score |\n",
        "+----------------------------+-------------+------------+---------+\n",
        "| np.log1p(residential_rent) |    -3.000   |   0.827    |  -3.625 |\n",
        "| np.log1p(unit_sqft)        |    -0.901   |   0.134    |  -6.705 |\n",
        "| sum_residential_units      |    -0.327   |   0.134    |  -2.435 |\n",
        "| ave_unit_sqft              |    0.017    |   0.106    |  0.159  |\n",
        "| ave_lot_sqft               |    0.678    |   0.052    |  13.015 |\n",
        "| ave_income                 |    -0.990   |   0.136    |  -7.269 |\n",
        "| hhsize                     |    -3.000   |   0.290    | -10.362 |\n",
        "| jobs                       |    0.338    |   0.061    |  5.514  |\n",
        "| poor                       |    0.867    |   0.101    |  8.543  |\n",
        "+----------------------------+-------------+------------+---------+\n",
        "LCM RESULTS FOR SEGMENT 1\n",
        "\n",
        "Null Log-liklihood: -23025.851\n",
        "Log-liklihood at convergence: -20085.813\n",
        "Log-liklihood Ratio: 0.128\n",
        "\n",
        "+----------------------------+-------------+------------+---------+\n",
        "| Component                  | Coefficient | Std. Error | T-Score |\n",
        "+----------------------------+-------------+------------+---------+\n",
        "| np.log1p(residential_rent) |    -3.000   |   0.776    |  -3.868 |\n",
        "| np.log1p(unit_sqft)        |    -1.037   |   0.128    |  -8.121 |\n",
        "| sum_residential_units      |    -0.009   |   0.130    |  -0.069 |\n",
        "| ave_unit_sqft              |    -0.126   |   0.106    |  -1.193 |\n",
        "| ave_lot_sqft               |    0.212    |   0.052    |  4.098  |\n",
        "| ave_income                 |    -0.791   |   0.134    |  -5.920 |\n",
        "| hhsize                     |    -3.000   |   0.277    | -10.847 |\n",
        "| jobs                       |    0.202    |   0.058    |  3.471  |\n",
        "| poor                       |    0.387    |   0.098    |  3.943  |\n",
        "+----------------------------+-------------+------------+---------+\n",
        "LCM RESULTS FOR SEGMENT 2\n",
        "\n",
        "Null Log-liklihood: -23025.851\n",
        "Log-liklihood at convergence: -20674.424\n",
        "Log-liklihood Ratio: 0.102\n",
        "\n",
        "+----------------------------+-------------+------------+---------+\n",
        "| Component                  | Coefficient | Std. Error | T-Score |\n",
        "+----------------------------+-------------+------------+---------+\n",
        "| np.log1p(residential_rent) |    -3.000   |   0.723    |  -4.147 |\n",
        "| np.log1p(unit_sqft)        |    -1.138   |   0.119    |  -9.532 |\n",
        "| sum_residential_units      |    0.506    |   0.123    |  4.108  |\n",
        "| ave_unit_sqft              |    -0.388   |   0.104    |  -3.740 |\n",
        "| ave_lot_sqft               |    0.190    |   0.048    |  3.923  |\n",
        "| ave_income                 |    -0.077   |   0.129    |  -0.596 |\n",
        "| hhsize                     |    -3.000   |   0.265    | -11.314 |\n",
        "| jobs                       |    0.140    |   0.054    |  2.568  |\n",
        "| poor                       |    -0.171   |   0.092    |  -1.855 |\n",
        "+----------------------------+-------------+------------+---------+\n",
        "LCM RESULTS FOR SEGMENT 3\n",
        "\n",
        "Null Log-liklihood: -23025.851\n",
        "Log-liklihood at convergence: -20489.108\n",
        "Log-liklihood Ratio: 0.110\n",
        "\n",
        "+----------------------------+-------------+------------+---------+\n",
        "| Component                  | Coefficient | Std. Error | T-Score |\n",
        "+----------------------------+-------------+------------+---------+\n",
        "| np.log1p(residential_rent) |    -3.000   |   0.702    |  -4.274 |\n",
        "| np.log1p(unit_sqft)        |    -1.189   |   0.116    | -10.214 |\n",
        "| sum_residential_units      |    0.582    |   0.121    |  4.804  |\n",
        "| ave_unit_sqft              |    -0.436   |   0.103    |  -4.230 |\n",
        "| ave_lot_sqft               |    0.067    |   0.055    |  1.213  |\n",
        "| ave_income                 |    1.030    |   0.129    |  7.993  |\n",
        "| hhsize                     |    -3.000   |   0.276    | -10.855 |\n",
        "| jobs                       |    0.324    |   0.054    |  6.036  |\n",
        "| poor                       |    -0.471   |   0.093    |  -5.056 |\n",
        "+----------------------------+-------------+------------+---------+\n"
       ]
      }
     ],
     "prompt_number": 9
    },
    {
     "cell_type": "code",
     "collapsed": false,
     "input": [
      "sim.run([\"elcm_estimate\"])"
     ],
     "language": "python",
     "metadata": {},
     "outputs": [
      {
       "output_type": "stream",
       "stream": "stdout",
       "text": [
        "Running model 'elcm_estimate'\n",
        "Dropped 142402 rows because they contained nans"
       ]
      },
      {
       "output_type": "stream",
       "stream": "stdout",
       "text": [
        "\n",
        "LCM RESULTS FOR SEGMENT 11\n"
       ]
      },
      {
       "output_type": "stream",
       "stream": "stdout",
       "text": [
        "\n",
        "Null Log-liklihood: -2256.533\n",
        "Log-liklihood at convergence: -1742.536\n",
        "Log-liklihood Ratio: 0.228\n",
        "\n",
        "+--------------------------------+-------------+------------+---------+\n",
        "| Component                      | Coefficient | Std. Error | T-Score |\n",
        "+--------------------------------+-------------+------------+---------+\n",
        "| np.log1p(non_residential_rent) |    0.985    |   0.256    |  3.849  |\n",
        "| np.log1p(stories)              |    0.503    |   0.082    |  6.138  |\n",
        "| sum_residential_units          |    -1.154   |   0.469    |  -2.458 |\n",
        "| ave_unit_sqft                  |    1.589    |   0.313    |  5.070  |\n",
        "| ave_lot_sqft                   |    -2.231   |   0.255    |  -8.752 |\n",
        "| ave_income                     |    -1.126   |   0.256    |  -4.404 |\n",
        "| hhsize                         |    -3.000   |   1.268    |  -2.365 |\n",
        "| jobs                           |    1.099    |   0.086    |  12.821 |\n",
        "| poor                           |    -0.471   |   0.329    |  -1.433 |\n",
        "+--------------------------------+-------------+------------+---------+\n",
        "LCM RESULTS FOR SEGMENT 21\n",
        "\n",
        "Null Log-liklihood: -515.779\n",
        "Log-liklihood at convergence: -199.540\n",
        "Log-liklihood Ratio: 0.613\n",
        "\n",
        "+--------------------------------+-------------+------------+---------+\n",
        "| Component                      | Coefficient | Std. Error | T-Score |\n",
        "+--------------------------------+-------------+------------+---------+\n",
        "| np.log1p(non_residential_rent) |    0.288    |   1.387    |  0.207  |\n",
        "| np.log1p(stories)              |    0.365    |   0.216    |  1.695  |\n",
        "| sum_residential_units          |    -0.356   |   3.357    |  -0.106 |\n",
        "| ave_unit_sqft                  |    -3.000   |   1.985    |  -1.512 |\n",
        "| ave_lot_sqft                   |    3.000    |   1.357    |  2.211  |\n",
        "| ave_income                     |    3.000    |   1.365    |  2.198  |\n",
        "| hhsize                         |    3.000    |   7.065    |  0.425  |\n",
        "| jobs                           |    2.472    |   0.603    |  4.102  |\n",
        "| poor                           |    -0.316   |   2.375    |  -0.133 |\n",
        "+--------------------------------+-------------+------------+---------+\n",
        "LCM RESULTS FOR SEGMENT 22\n",
        "\n",
        "Null Log-liklihood: -22183.105\n",
        "Log-liklihood at convergence: -3406.873\n",
        "Log-liklihood Ratio: 0.846\n",
        "\n",
        "+--------------------------------+-------------+------------+---------+\n",
        "| Component                      | Coefficient | Std. Error | T-Score |\n",
        "+--------------------------------+-------------+------------+---------+\n",
        "| np.log1p(non_residential_rent) |    3.000    |   0.162    |  18.494 |\n",
        "| np.log1p(stories)              |    -1.625   |   0.050    | -32.268 |\n",
        "| sum_residential_units          |    0.012    |   0.329    |  0.035  |\n",
        "| ave_unit_sqft                  |    -2.616   |   0.173    | -15.114 |\n",
        "| ave_lot_sqft                   |    2.744    |   0.062    |  44.352 |\n",
        "| ave_income                     |    1.506    |   0.180    |  8.349  |\n",
        "| hhsize                         |    3.000    |   0.948    |  3.165  |\n",
        "| jobs                           |    2.801    |   0.084    |  33.178 |\n",
        "| poor                           |    -1.165   |   0.228    |  -5.116 |\n",
        "+--------------------------------+-------------+------------+---------+\n",
        "LCM RESULTS FOR SEGMENT 23\n",
        "\n",
        "Null Log-liklihood: -44739.228\n",
        "Log-liklihood at convergence: -41204.848\n",
        "Log-liklihood Ratio: 0.079\n",
        "\n",
        "+--------------------------------+-------------+------------+---------+\n",
        "| Component                      | Coefficient | Std. Error | T-Score |\n",
        "+--------------------------------+-------------+------------+---------+\n",
        "| np.log1p(non_residential_rent) |    -0.550   |   0.035    | -15.590 |\n",
        "| np.log1p(stories)              |    0.765    |   0.021    |  36.492 |\n",
        "| sum_residential_units          |    -0.804   |   0.063    | -12.726 |\n",
        "| ave_unit_sqft                  |    0.280    |   0.047    |  5.927  |\n",
        "| ave_lot_sqft                   |    0.726    |   0.032    |  22.539 |\n",
        "| ave_income                     |    1.704    |   0.044    |  39.058 |\n",
        "| hhsize                         |    1.633    |   0.183    |  8.942  |\n",
        "| jobs                           |    0.554    |   0.017    |  33.196 |\n",
        "| poor                           |    0.545    |   0.047    |  11.689 |\n",
        "+--------------------------------+-------------+------------+---------+\n",
        "LCM RESULTS FOR SEGMENT 31\n",
        "\n",
        "Null Log-liklihood: -29905.975\n",
        "Log-liklihood at convergence: -24803.066\n",
        "Log-liklihood Ratio: 0.171\n",
        "\n",
        "+--------------------------------+-------------+------------+---------+\n",
        "| Component                      | Coefficient | Std. Error | T-Score |\n",
        "+--------------------------------+-------------+------------+---------+\n",
        "| np.log1p(non_residential_rent) |    0.529    |   0.053    |  10.015 |\n",
        "| np.log1p(stories)              |    -0.205   |   0.032    |  -6.416 |\n",
        "| sum_residential_units          |    -2.394   |   0.096    | -25.030 |\n",
        "| ave_unit_sqft                  |    0.285    |   0.110    |  2.594  |\n",
        "| ave_lot_sqft                   |    -1.455   |   0.093    | -15.667 |\n",
        "| ave_income                     |    0.376    |   0.052    |  7.269  |\n",
        "| hhsize                         |    -3.000   |   0.237    | -12.636 |\n",
        "| jobs                           |    1.354    |   0.030    |  44.966 |\n",
        "| poor                           |    0.299    |   0.069    |  4.301  |\n",
        "+--------------------------------+-------------+------------+---------+\n",
        "LCM RESULTS FOR SEGMENT 32\n",
        "\n",
        "Null Log-liklihood: -18158.186\n",
        "Log-liklihood at convergence: -15776.026\n",
        "Log-liklihood Ratio: 0.131\n",
        "\n",
        "+--------------------------------+-------------+------------+---------+\n",
        "| Component                      | Coefficient | Std. Error | T-Score |\n",
        "+--------------------------------+-------------+------------+---------+\n",
        "| np.log1p(non_residential_rent) |    -0.386   |   0.068    |  -5.685 |\n",
        "| np.log1p(stories)              |    0.537    |   0.032    |  16.802 |\n",
        "| sum_residential_units          |    -3.000   |   0.102    | -29.363 |\n",
        "| ave_unit_sqft                  |    1.823    |   0.098    |  18.627 |\n",
        "| ave_lot_sqft                   |    0.178    |   0.075    |  2.353  |\n",
        "| ave_income                     |    3.000    |   0.083    |  36.328 |\n",
        "| hhsize                         |    0.994    |   0.361    |  2.758  |\n",
        "| jobs                           |    1.328    |   0.031    |  42.962 |\n",
        "| poor                           |    2.143    |   0.077    |  27.910 |\n",
        "+--------------------------------+-------------+------------+---------+\n",
        "LCM RESULTS FOR SEGMENT 33\n",
        "\n",
        "Null Log-liklihood: -19682.497\n",
        "Log-liklihood at convergence: -18142.225\n",
        "Log-liklihood Ratio: 0.078\n",
        "\n",
        "+--------------------------------+-------------+------------+---------+\n",
        "| Component                      | Coefficient | Std. Error | T-Score |\n",
        "+--------------------------------+-------------+------------+---------+\n",
        "| np.log1p(non_residential_rent) |    -0.642   |   0.059    | -10.952 |\n",
        "| np.log1p(stories)              |    0.472    |   0.032    |  14.616 |\n",
        "| sum_residential_units          |    -1.429   |   0.117    | -12.180 |\n",
        "| ave_unit_sqft                  |    0.636    |   0.123    |  5.166  |\n",
        "| ave_lot_sqft                   |    -0.007   |   0.099    |  -0.073 |\n",
        "| ave_income                     |    1.696    |   0.072    |  23.695 |\n",
        "| hhsize                         |    0.519    |   0.315    |  1.650  |\n",
        "| jobs                           |    0.919    |   0.032    |  28.623 |\n",
        "| poor                           |    0.796    |   0.083    |  9.619  |\n",
        "+--------------------------------+-------------+------------+---------+\n",
        "LCM RESULTS FOR SEGMENT 42\n",
        "\n",
        "Null Log-liklihood: -51121.994\n",
        "Log-liklihood at convergence: -40559.047\n",
        "Log-liklihood Ratio: 0.207\n",
        "\n",
        "+--------------------------------+-------------+------------+---------+\n",
        "| Component                      | Coefficient | Std. Error | T-Score |\n",
        "+--------------------------------+-------------+------------+---------+\n",
        "| np.log1p(non_residential_rent) |    -0.048   |   0.036    |  -1.335 |\n",
        "| np.log1p(stories)              |    0.874    |   0.016    |  55.395 |\n",
        "| sum_residential_units          |    -0.981   |   0.070    | -14.000 |\n",
        "| ave_unit_sqft                  |    -0.545   |   0.053    | -10.219 |\n",
        "| ave_lot_sqft                   |    0.691    |   0.037    |  18.489 |\n",
        "| ave_income                     |    0.601    |   0.046    |  12.950 |\n",
        "| hhsize                         |    0.552    |   0.200    |  2.764  |\n",
        "| jobs                           |    0.764    |   0.017    |  44.097 |\n",
        "| poor                           |    0.162    |   0.049    |  3.328  |\n",
        "+--------------------------------+-------------+------------+---------+\n",
        "LCM RESULTS FOR SEGMENT 44\n",
        "\n",
        "Null Log-liklihood: -42735.979\n",
        "Log-liklihood at convergence: -38285.979\n",
        "Log-liklihood Ratio: 0.104\n",
        "\n",
        "+--------------------------------+-------------+------------+---------+\n",
        "| Component                      | Coefficient | Std. Error | T-Score |\n",
        "+--------------------------------+-------------+------------+---------+\n",
        "| np.log1p(non_residential_rent) |    0.975    |   0.044    |  22.166 |\n",
        "| np.log1p(stories)              |    0.729    |   0.021    |  35.159 |\n",
        "| sum_residential_units          |    -0.269   |   0.087    |  -3.104 |\n",
        "| ave_unit_sqft                  |    0.438    |   0.059    |  7.360  |\n",
        "| ave_lot_sqft                   |    0.027    |   0.039    |  0.700  |\n",
        "| ave_income                     |    0.638    |   0.048    |  13.176 |\n",
        "| hhsize                         |    -1.150   |   0.220    |  -5.215 |\n",
        "| jobs                           |    0.319    |   0.020    |  15.882 |\n",
        "| poor                           |    -0.189   |   0.061    |  -3.102 |\n",
        "+--------------------------------+-------------+------------+---------+\n",
        "LCM RESULTS FOR SEGMENT 45\n",
        "\n",
        "Null Log-liklihood: -36302.557\n",
        "Log-liklihood at convergence: -33171.499\n",
        "Log-liklihood Ratio: 0.086\n",
        "\n",
        "+--------------------------------+-------------+------------+---------+\n",
        "| Component                      | Coefficient | Std. Error | T-Score |\n",
        "+--------------------------------+-------------+------------+---------+\n",
        "| np.log1p(non_residential_rent) |    1.186    |   0.052    |  22.937 |\n",
        "| np.log1p(stories)              |    0.427    |   0.022    |  19.413 |\n",
        "| sum_residential_units          |    -0.470   |   0.089    |  -5.276 |\n",
        "| ave_unit_sqft                  |    0.574    |   0.082    |  7.006  |\n",
        "| ave_lot_sqft                   |    0.001    |   0.062    |  0.012  |\n",
        "| ave_income                     |    -0.202   |   0.047    |  -4.320 |\n",
        "| hhsize                         |    -3.000   |   0.233    | -12.851 |\n",
        "| jobs                           |    0.198    |   0.023    |  8.566  |\n",
        "| poor                           |    0.210    |   0.060    |  3.489  |\n",
        "+--------------------------------+-------------+------------+---------+\n",
        "LCM RESULTS FOR SEGMENT 48\n",
        "\n",
        "Null Log-liklihood: -20502.218\n",
        "Log-liklihood at convergence: -15358.493\n",
        "Log-liklihood Ratio: 0.251\n",
        "\n",
        "+--------------------------------+-------------+------------+---------+\n",
        "| Component                      | Coefficient | Std. Error | T-Score |\n",
        "+--------------------------------+-------------+------------+---------+\n",
        "| np.log1p(non_residential_rent) |    0.127    |   0.066    |  1.927  |\n",
        "| np.log1p(stories)              |    0.421    |   0.026    |  16.187 |\n",
        "| sum_residential_units          |    -2.317   |   0.094    | -24.576 |\n",
        "| ave_unit_sqft                  |    0.381    |   0.089    |  4.287  |\n",
        "| ave_lot_sqft                   |    -0.392   |   0.068    |  -5.724 |\n",
        "| ave_income                     |    0.643    |   0.060    |  10.631 |\n",
        "| hhsize                         |    -3.000   |   0.237    | -12.670 |\n",
        "| jobs                           |    1.011    |   0.021    |  48.321 |\n",
        "| poor                           |    0.391    |   0.068    |  5.788  |\n",
        "+--------------------------------+-------------+------------+---------+\n",
        "LCM RESULTS FOR SEGMENT 49\n",
        "\n",
        "Null Log-liklihood: -12130.018\n",
        "Log-liklihood at convergence: -9290.003\n",
        "Log-liklihood Ratio: 0.234\n",
        "\n",
        "+--------------------------------+-------------+------------+---------+\n",
        "| Component                      | Coefficient | Std. Error | T-Score |\n",
        "+--------------------------------+-------------+------------+---------+\n",
        "| np.log1p(non_residential_rent) |    -0.365   |   0.110    |  -3.305 |\n",
        "| np.log1p(stories)              |    -0.060   |   0.085    |  -0.704 |\n",
        "| sum_residential_units          |    -2.947   |   0.115    | -25.570 |\n",
        "| ave_unit_sqft                  |    -0.164   |   0.147    |  -1.118 |\n",
        "| ave_lot_sqft                   |    0.769    |   0.058    |  13.163 |\n",
        "| ave_income                     |    0.055    |   0.144    |  0.379  |\n",
        "| hhsize                         |    3.000    |   0.514    |  5.839  |\n",
        "| jobs                           |    0.614    |   0.041    |  15.101 |\n",
        "| poor                           |    2.063    |   0.064    |  32.329 |\n",
        "+--------------------------------+-------------+------------+---------+\n",
        "LCM RESULTS FOR SEGMENT 51\n",
        "\n",
        "Null Log-liklihood: -48289.815\n",
        "Log-liklihood at convergence: -35900.480\n",
        "Log-liklihood Ratio: 0.257\n",
        "\n",
        "+--------------------------------+-------------+------------+---------+\n",
        "| Component                      | Coefficient | Std. Error | T-Score |\n",
        "+--------------------------------+-------------+------------+---------+\n",
        "| np.log1p(non_residential_rent) |    -0.314   |   0.036    |  -8.619 |\n",
        "| np.log1p(stories)              |    0.265    |   0.016    |  16.727 |\n",
        "| sum_residential_units          |    -0.435   |   0.087    |  -5.023 |\n",
        "| ave_unit_sqft                  |    0.517    |   0.076    |  6.831  |\n",
        "| ave_lot_sqft                   |    -0.725   |   0.059    | -12.364 |\n",
        "| ave_income                     |    -0.166   |   0.047    |  -3.487 |\n",
        "| hhsize                         |    -3.000   |   0.259    | -11.595 |\n",
        "| jobs                           |    1.171    |   0.019    |  61.886 |\n",
        "| poor                           |    -0.718   |   0.062    | -11.561 |\n",
        "+--------------------------------+-------------+------------+---------+\n",
        "LCM RESULTS FOR SEGMENT 52\n",
        "\n",
        "Null Log-liklihood: -54115.355\n",
        "Log-liklihood at convergence: -25466.692\n",
        "Log-liklihood Ratio: 0.529\n",
        "\n",
        "+--------------------------------+-------------+------------+---------+\n",
        "| Component                      | Coefficient | Std. Error | T-Score |\n",
        "+--------------------------------+-------------+------------+---------+\n",
        "| np.log1p(non_residential_rent) |    0.877    |   0.082    |  10.690 |\n",
        "| np.log1p(stories)              |    1.004    |   0.016    |  64.575 |\n",
        "| sum_residential_units          |    -1.588   |   0.132    | -12.037 |\n",
        "| ave_unit_sqft                  |    -2.040   |   0.103    | -19.826 |\n",
        "| ave_lot_sqft                   |    1.126    |   0.084    |  13.400 |\n",
        "| ave_income                     |    2.963    |   0.069    |  42.830 |\n",
        "| hhsize                         |    -3.000   |   0.382    |  -7.848 |\n",
        "| jobs                           |    1.417    |   0.030    |  46.766 |\n",
        "| poor                           |    0.498    |   0.093    |  5.331  |\n",
        "+--------------------------------+-------------+------------+---------+\n",
        "LCM RESULTS FOR SEGMENT 53\n",
        "\n",
        "Null Log-liklihood: -37177.539\n",
        "Log-liklihood at convergence: -31718.539\n",
        "Log-liklihood Ratio: 0.147\n",
        "\n",
        "+--------------------------------+-------------+------------+---------+\n",
        "| Component                      | Coefficient | Std. Error | T-Score |\n",
        "+--------------------------------+-------------+------------+---------+\n",
        "| np.log1p(non_residential_rent) |    0.289    |   0.054    |  5.331  |\n",
        "| np.log1p(stories)              |    0.848    |   0.019    |  44.024 |\n",
        "| sum_residential_units          |    0.095    |   0.090    |  1.047  |\n",
        "| ave_unit_sqft                  |    -1.266   |   0.052    | -24.329 |\n",
        "| ave_lot_sqft                   |    0.097    |   0.032    |  3.024  |\n",
        "| ave_income                     |    1.031    |   0.054    |  18.988 |\n",
        "| hhsize                         |    -3.000   |   0.274    | -10.955 |\n",
        "| jobs                           |    0.335    |   0.017    |  19.246 |\n",
        "| poor                           |    -0.462   |   0.067    |  -6.870 |\n",
        "+--------------------------------+-------------+------------+---------+\n",
        "LCM RESULTS FOR SEGMENT 54\n",
        "\n",
        "Null Log-liklihood: -55694.928\n",
        "Log-liklihood at convergence: -33683.724\n",
        "Log-liklihood Ratio: 0.395\n",
        "\n",
        "+--------------------------------+-------------+------------+---------+\n",
        "| Component                      | Coefficient | Std. Error | T-Score |\n",
        "+--------------------------------+-------------+------------+---------+\n",
        "| np.log1p(non_residential_rent) |    0.183    |   0.045    |  4.030  |\n",
        "| np.log1p(stories)              |    0.779    |   0.013    |  60.569 |\n",
        "| sum_residential_units          |    -0.677   |   0.090    |  -7.512 |\n",
        "| ave_unit_sqft                  |    -1.578   |   0.056    | -28.212 |\n",
        "| ave_lot_sqft                   |    1.056    |   0.038    |  28.102 |\n",
        "| ave_income                     |    1.604    |   0.052    |  30.981 |\n",
        "| hhsize                         |    -3.000   |   0.285    | -10.516 |\n",
        "| jobs                           |    1.090    |   0.018    |  58.977 |\n",
        "| poor                           |    -0.140   |   0.067    |  -2.094 |\n",
        "+--------------------------------+-------------+------------+---------+\n",
        "LCM RESULTS FOR SEGMENT 55\n",
        "\n",
        "Null Log-liklihood: -5705.806\n",
        "Log-liklihood at convergence: -3319.830\n",
        "Log-liklihood Ratio: 0.418\n",
        "\n",
        "+--------------------------------+-------------+------------+---------+\n",
        "| Component                      | Coefficient | Std. Error | T-Score |\n",
        "+--------------------------------+-------------+------------+---------+\n",
        "| np.log1p(non_residential_rent) |    0.690    |   0.189    |  3.652  |\n",
        "| np.log1p(stories)              |    0.853    |   0.043    |  19.883 |\n",
        "| sum_residential_units          |    -1.701   |   0.381    |  -4.464 |\n",
        "| ave_unit_sqft                  |    -1.139   |   0.319    |  -3.573 |\n",
        "| ave_lot_sqft                   |    0.192    |   0.256    |  0.751  |\n",
        "| ave_income                     |    3.000    |   0.200    |  14.989 |\n",
        "| hhsize                         |    -1.862   |   1.064    |  -1.750 |\n",
        "| jobs                           |    1.455    |   0.077    |  18.991 |\n",
        "| poor                           |    0.649    |   0.273    |  2.376  |\n",
        "+--------------------------------+-------------+------------+---------+\n",
        "LCM RESULTS FOR SEGMENT 56\n",
        "\n",
        "Null Log-liklihood: -39111.710\n",
        "Log-liklihood at convergence: -33252.253\n",
        "Log-liklihood Ratio: 0.150\n",
        "\n",
        "+--------------------------------+-------------+------------+---------+\n",
        "| Component                      | Coefficient | Std. Error | T-Score |\n",
        "+--------------------------------+-------------+------------+---------+\n",
        "| np.log1p(non_residential_rent) |    0.410    |   0.043    |  9.617  |\n",
        "| np.log1p(stories)              |    0.706    |   0.018    |  40.149 |\n",
        "| sum_residential_units          |    -0.765   |   0.092    |  -8.302 |\n",
        "| ave_unit_sqft                  |    -0.681   |   0.061    | -11.202 |\n",
        "| ave_lot_sqft                   |    0.224    |   0.043    |  5.257  |\n",
        "| ave_income                     |    0.908    |   0.055    |  16.385 |\n",
        "| hhsize                         |    -3.000   |   0.277    | -10.831 |\n",
        "| jobs                           |    0.522    |   0.018    |  28.446 |\n",
        "| poor                           |    0.059    |   0.068    |  0.873  |\n",
        "+--------------------------------+-------------+------------+---------+\n",
        "LCM RESULTS FOR SEGMENT 61\n",
        "\n",
        "Null Log-liklihood: -28432.321\n",
        "Log-liklihood at convergence: -25919.685\n",
        "Log-liklihood Ratio: 0.088\n",
        "\n",
        "+--------------------------------+-------------+------------+---------+\n",
        "| Component                      | Coefficient | Std. Error | T-Score |\n",
        "+--------------------------------+-------------+------------+---------+\n",
        "| np.log1p(non_residential_rent) |    0.759    |   0.063    |  11.992 |\n",
        "| np.log1p(stories)              |    0.958    |   0.025    |  37.629 |\n",
        "| sum_residential_units          |    -0.311   |   0.118    |  -2.644 |\n",
        "| ave_unit_sqft                  |    0.028    |   0.063    |  0.450  |\n",
        "| ave_lot_sqft                   |    -0.283   |   0.026    | -10.679 |\n",
        "| ave_income                     |    -0.484   |   0.074    |  -6.543 |\n",
        "| hhsize                         |    0.091    |   0.316    |  0.288  |\n",
        "| jobs                           |    0.137    |   0.023    |  5.951  |\n",
        "| poor                           |    0.240    |   0.087    |  2.751  |\n",
        "+--------------------------------+-------------+------------+---------+\n",
        "LCM RESULTS FOR SEGMENT 62\n",
        "\n",
        "Null Log-liklihood: -33571.691\n",
        "Log-liklihood at convergence: -31045.980\n",
        "Log-liklihood Ratio: 0.075\n",
        "\n",
        "+--------------------------------+-------------+------------+---------+\n",
        "| Component                      | Coefficient | Std. Error | T-Score |\n",
        "+--------------------------------+-------------+------------+---------+\n",
        "| np.log1p(non_residential_rent) |    -0.278   |   0.048    |  -5.737 |\n",
        "| np.log1p(stories)              |    0.950    |   0.021    |  44.807 |\n",
        "| sum_residential_units          |    0.387    |   0.105    |  3.700  |\n",
        "| ave_unit_sqft                  |    1.889    |   0.064    |  29.457 |\n",
        "| ave_lot_sqft                   |    -1.377   |   0.035    | -39.082 |\n",
        "| ave_income                     |    0.335    |   0.061    |  5.469  |\n",
        "| hhsize                         |    -1.388   |   0.269    |  -5.161 |\n",
        "| jobs                           |    0.181    |   0.020    |  9.268  |\n",
        "| poor                           |    -0.192   |   0.073    |  -2.631 |\n",
        "+--------------------------------+-------------+------------+---------+\n",
        "LCM RESULTS FOR SEGMENT 71\n",
        "\n",
        "Null Log-liklihood: -33392.089\n",
        "Log-liklihood at convergence: -30376.352\n",
        "Log-liklihood Ratio: 0.090\n",
        "\n",
        "+--------------------------------+-------------+------------+---------+\n",
        "| Component                      | Coefficient | Std. Error | T-Score |\n",
        "+--------------------------------+-------------+------------+---------+\n",
        "| np.log1p(non_residential_rent) |    0.976    |   0.045    |  21.720 |\n",
        "| np.log1p(stories)              |    0.174    |   0.022    |  7.938  |\n",
        "| sum_residential_units          |    -0.660   |   0.101    |  -6.539 |\n",
        "| ave_unit_sqft                  |    0.352    |   0.094    |  3.759  |\n",
        "| ave_lot_sqft                   |    0.152    |   0.071    |  2.136  |\n",
        "| ave_income                     |    -0.064   |   0.047    |  -1.368 |\n",
        "| hhsize                         |    -3.000   |   0.242    | -12.378 |\n",
        "| jobs                           |    0.384    |   0.027    |  14.409 |\n",
        "| poor                           |    0.365    |   0.068    |  5.369  |\n",
        "+--------------------------------+-------------+------------+---------+\n",
        "LCM RESULTS FOR SEGMENT 72\n",
        "\n",
        "Null Log-liklihood: -40115.637\n",
        "Log-liklihood at convergence: -35552.222\n",
        "Log-liklihood Ratio: 0.114\n",
        "\n",
        "+--------------------------------+-------------+------------+---------+\n",
        "| Component                      | Coefficient | Std. Error | T-Score |\n",
        "+--------------------------------+-------------+------------+---------+\n",
        "| np.log1p(non_residential_rent) |    1.047    |   0.051    |  20.406 |\n",
        "| np.log1p(stories)              |    0.277    |   0.021    |  13.377 |\n",
        "| sum_residential_units          |    -0.511   |   0.101    |  -5.039 |\n",
        "| ave_unit_sqft                  |    -0.211   |   0.079    |  -2.682 |\n",
        "| ave_lot_sqft                   |    -0.280   |   0.061    |  -4.587 |\n",
        "| ave_income                     |    0.190    |   0.048    |  3.931  |\n",
        "| hhsize                         |    -3.000   |   0.234    | -12.802 |\n",
        "| jobs                           |    0.523    |   0.022    |  23.926 |\n",
        "| poor                           |    0.074    |   0.070    |  1.052  |\n",
        "+--------------------------------+-------------+------------+---------+\n",
        "LCM RESULTS FOR SEGMENT 81\n",
        "\n",
        "Null Log-liklihood: -42970.843\n",
        "Log-liklihood at convergence: -39751.685\n",
        "Log-liklihood Ratio: 0.075\n",
        "\n",
        "+--------------------------------+-------------+------------+---------+\n",
        "| Component                      | Coefficient | Std. Error | T-Score |\n",
        "+--------------------------------+-------------+------------+---------+\n",
        "| np.log1p(non_residential_rent) |    0.093    |   0.040    |  2.314  |\n",
        "| np.log1p(stories)              |    0.593    |   0.019    |  31.267 |\n",
        "| sum_residential_units          |    0.056    |   0.082    |  0.681  |\n",
        "| ave_unit_sqft                  |    -0.408   |   0.048    |  -8.568 |\n",
        "| ave_lot_sqft                   |    0.037    |   0.025    |  1.483  |\n",
        "| ave_income                     |    -0.030   |   0.051    |  -0.595 |\n",
        "| hhsize                         |    0.040    |   0.227    |  0.174  |\n",
        "| jobs                           |    0.397    |   0.016    |  24.303 |\n",
        "| poor                           |    -0.185   |   0.060    |  -3.077 |\n",
        "+--------------------------------+-------------+------------+---------+\n",
        "LCM RESULTS FOR SEGMENT 92\n",
        "\n",
        "Null Log-liklihood: -40580.760\n",
        "Log-liklihood at convergence: -30288.614\n",
        "Log-liklihood Ratio: 0.254\n",
        "\n",
        "+--------------------------------+-------------+------------+---------+\n",
        "| Component                      | Coefficient | Std. Error | T-Score |\n",
        "+--------------------------------+-------------+------------+---------+\n",
        "| np.log1p(non_residential_rent) |    0.768    |   0.052    |  14.631 |\n",
        "| np.log1p(stories)              |    1.188    |   0.019    |  61.148 |\n",
        "| sum_residential_units          |    -1.947   |   0.157    | -12.386 |\n",
        "| ave_unit_sqft                  |    1.944    |   0.103    |  18.846 |\n",
        "| ave_lot_sqft                   |    0.036    |   0.086    |  0.423  |\n",
        "| ave_income                     |    -1.192   |   0.093    | -12.752 |\n",
        "| hhsize                         |    -3.000   |   0.488    |  -6.142 |\n",
        "| jobs                           |    0.271    |   0.030    |  8.999  |\n",
        "| poor                           |    1.611    |   0.104    |  15.468 |\n",
        "+--------------------------------+-------------+------------+---------+\n",
        "LCM RESULTS FOR SEGMENT 99\n",
        "\n",
        "Null Log-liklihood: -3665.715\n",
        "Log-liklihood at convergence: -2642.329\n",
        "Log-liklihood Ratio: 0.279\n",
        "\n",
        "+--------------------------------+-------------+------------+---------+\n",
        "| Component                      | Coefficient | Std. Error | T-Score |\n",
        "+--------------------------------+-------------+------------+---------+\n",
        "| np.log1p(non_residential_rent) |    0.422    |   0.272    |  1.552  |\n",
        "| np.log1p(stories)              |    0.681    |   0.075    |  9.127  |\n",
        "| sum_residential_units          |    1.058    |   0.567    |  1.867  |\n",
        "| ave_unit_sqft                  |    0.928    |   0.389    |  2.387  |\n",
        "| ave_lot_sqft                   |    -1.764   |   0.291    |  -6.059 |\n",
        "| ave_income                     |    -1.275   |   0.284    |  -4.488 |\n",
        "| hhsize                         |    -1.893   |   1.717    |  -1.103 |\n",
        "| jobs                           |    0.971    |   0.083    |  11.632 |\n",
        "| poor                           |    -1.534   |   0.386    |  -3.970 |\n",
        "+--------------------------------+-------------+------------+---------+\n"
       ]
      }
     ],
     "prompt_number": 10
    },
    {
     "cell_type": "code",
     "collapsed": false,
     "input": [],
     "language": "python",
     "metadata": {},
     "outputs": [],
     "prompt_number": 10
    }
   ],
   "metadata": {}
  }
 ]
}