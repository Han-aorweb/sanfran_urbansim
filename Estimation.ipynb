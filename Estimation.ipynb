{
 "metadata": {
  "name": "",
  "signature": "sha256:ec605319549b48ec26883ec90283f276889e06666044d5c2dcb7e5267c15446e"
 },
 "nbformat": 3,
 "nbformat_minor": 0,
 "worksheets": [
  {
   "cells": [
    {
     "cell_type": "code",
     "collapsed": false,
     "input": [
      "%load_ext autoreload\n",
      "%autoreload 2\n",
      "import models\n",
      "import urbansim.sim.simulation as sim"
     ],
     "language": "python",
     "metadata": {},
     "outputs": [],
     "prompt_number": 1
    },
    {
     "cell_type": "heading",
     "level": 2,
     "metadata": {},
     "source": [
      "Hedonic Estimation"
     ]
    },
    {
     "cell_type": "code",
     "collapsed": false,
     "input": [
      "sim.run([\"rsh_estimate\"])"
     ],
     "language": "python",
     "metadata": {},
     "outputs": [
      {
       "output_type": "stream",
       "stream": "stdout",
       "text": [
        "Running model 'rsh_estimate'\n",
        "Dropped 14198 rows because they contained nans"
       ]
      },
      {
       "output_type": "stream",
       "stream": "stdout",
       "text": [
        "\n",
        "                                    OLS Regression Results                                   \n",
        "=============================================================================================\n",
        "Dep. Variable:     np.log1p(residential_sales_price)   R-squared:                       0.812\n",
        "Model:                                           OLS   Adj. R-squared:                  0.812\n",
        "Method:                                Least Squares   F-statistic:                 7.426e+04\n",
        "Date:                               Mon, 04 Aug 2014   Prob (F-statistic):               0.00\n",
        "Time:                                       12:21:32   Log-Likelihood:             1.2225e+05\n",
        "No. Observations:                             137798   AIC:                        -2.445e+05\n",
        "Df Residuals:                                 137789   BIC:                        -2.444e+05\n",
        "Df Model:                                          8                                         \n",
        "================================================================================================\n",
        "                                   coef    std err          t      P>|t|      [95.0% Conf. Int.]\n",
        "------------------------------------------------------------------------------------------------\n",
        "Intercept                        7.6744      0.015    511.942      0.000         7.645     7.704\n",
        "I(year_built < 1940)[T.True]     0.0687      0.001    116.087      0.000         0.068     0.070\n",
        "I(year_built > 2005)[T.True]     0.0770      0.004     19.434      0.000         0.069     0.085\n",
        "np.log1p(unit_sqft)             -0.4291      0.001   -601.238      0.000        -0.431    -0.428\n",
        "np.log1p(unit_lot_size)          0.0489      0.001     84.115      0.000         0.048     0.050\n",
        "sum_residential_units            0.0716      0.001    107.634      0.000         0.070     0.073\n",
        "ave_lot_sqft                    -0.1421      0.001   -154.897      0.000        -0.144    -0.140\n",
        "ave_unit_sqft                   -0.0419      0.002    -23.263      0.000        -0.045    -0.038\n",
        "ave_income                       0.1890      0.001    131.993      0.000         0.186     0.192\n",
        "==============================================================================\n",
        "Omnibus:                    65889.373   Durbin-Watson:                   0.587\n",
        "Prob(Omnibus):                  0.000   Jarque-Bera (JB):           645590.523\n",
        "Skew:                          -2.074   Prob(JB):                         0.00\n",
        "Kurtosis:                      12.758   Cond. No.                     1.12e+03\n",
        "==============================================================================\n",
        "\n",
        "Warnings:\n",
        "[1] The condition number is large, 1.12e+03. This might indicate that there are\n",
        "strong multicollinearity or other numerical problems."
       ]
      },
      {
       "output_type": "stream",
       "stream": "stdout",
       "text": [
        "\n"
       ]
      }
     ],
     "prompt_number": 2
    },
    {
     "cell_type": "code",
     "collapsed": false,
     "input": [
      "sim.run([\"nrh_estimate\"])"
     ],
     "language": "python",
     "metadata": {},
     "outputs": [
      {
       "output_type": "stream",
       "stream": "stdout",
       "text": [
        "Running model 'nrh_estimate'\n",
        "Dropped 142403 rows because they contained nans"
       ]
      },
      {
       "output_type": "stream",
       "stream": "stdout",
       "text": [
        "\n",
        "REGRESSION RESULTS FOR SEGMENT Retail\n"
       ]
      },
      {
       "output_type": "stream",
       "stream": "stdout",
       "text": [
        "\n",
        "                                  OLS Regression Results                                  \n",
        "==========================================================================================\n",
        "Dep. Variable:     np.log1p(non_residential_rent)   R-squared:                       0.355\n",
        "Model:                                        OLS   Adj. R-squared:                  0.354\n",
        "Method:                             Least Squares   F-statistic:                     475.5\n",
        "Date:                            Mon, 04 Aug 2014   Prob (F-statistic):               0.00\n",
        "Time:                                    12:21:33   Log-Likelihood:                 5050.1\n",
        "No. Observations:                            4330   AIC:                        -1.009e+04\n",
        "Df Residuals:                                4324   BIC:                        -1.005e+04\n",
        "Df Model:                                       5                                         \n",
        "================================================================================================\n",
        "                                   coef    std err          t      P>|t|      [95.0% Conf. Int.]\n",
        "------------------------------------------------------------------------------------------------\n",
        "Intercept                        3.5333      0.033    105.599      0.000         3.468     3.599\n",
        "I(year_built < 1940)[T.True]    -0.0546      0.002    -21.880      0.000        -0.060    -0.050\n",
        "I(year_built > 2005)[T.True]    -0.0920      0.010     -9.095      0.000        -0.112    -0.072\n",
        "np.log1p(stories)               -0.0461      0.004    -12.372      0.000        -0.053    -0.039\n",
        "ave_income                      -0.0354      0.003    -13.643      0.000        -0.041    -0.030\n",
        "jobs                             0.0498      0.001     35.722      0.000         0.047     0.053\n",
        "==============================================================================\n",
        "Omnibus:                      126.509   Durbin-Watson:                   0.387\n",
        "Prob(Omnibus):                  0.000   Jarque-Bera (JB):              314.442\n",
        "Skew:                          -0.073   Prob(JB):                     5.25e-69\n",
        "Kurtosis:                       4.312   Cond. No.                         376.\n",
        "==============================================================================\n",
        "REGRESSION RESULTS FOR SEGMENT Office\n",
        "\n",
        "                                  OLS Regression Results                                  \n",
        "==========================================================================================\n",
        "Dep. Variable:     np.log1p(non_residential_rent)   R-squared:                       0.930\n",
        "Model:                                        OLS   Adj. R-squared:                  0.930\n",
        "Method:                             Least Squares   F-statistic:                     9137.\n",
        "Date:                            Mon, 04 Aug 2014   Prob (F-statistic):               0.00\n",
        "Time:                                    12:21:33   Log-Likelihood:                 8868.3\n",
        "No. Observations:                            3450   AIC:                        -1.772e+04\n",
        "Df Residuals:                                3444   BIC:                        -1.769e+04\n",
        "Df Model:                                       5                                         \n",
        "================================================================================================\n",
        "                                   coef    std err          t      P>|t|      [95.0% Conf. Int.]\n",
        "------------------------------------------------------------------------------------------------\n",
        "Intercept                        3.4091      0.008    401.825      0.000         3.392     3.426\n",
        "I(year_built < 1940)[T.True]    -0.0700      0.001   -102.385      0.000        -0.071    -0.069\n",
        "I(year_built > 2005)[T.True]    -0.0156      0.003     -5.162      0.000        -0.021    -0.010\n",
        "np.log1p(stories)                0.0594      0.001     91.255      0.000         0.058     0.061\n",
        "ave_income                      -0.0257      0.001    -38.762      0.000        -0.027    -0.024\n",
        "jobs                             0.0180      0.000     49.994      0.000         0.017     0.019\n",
        "==============================================================================\n",
        "Omnibus:                       70.238   Durbin-Watson:                   0.442\n",
        "Prob(Omnibus):                  0.000   Jarque-Bera (JB):               84.603\n",
        "Skew:                           0.284   Prob(JB):                     4.25e-19\n",
        "Kurtosis:                       3.515   Cond. No.                         351.\n",
        "=============================================================================="
       ]
      },
      {
       "output_type": "stream",
       "stream": "stdout",
       "text": [
        "\n",
        "REGRESSION RESULTS FOR SEGMENT Industrial\n",
        "\n",
        "                                  OLS Regression Results                                  \n",
        "==========================================================================================\n",
        "Dep. Variable:     np.log1p(non_residential_rent)   R-squared:                       0.770\n",
        "Model:                                        OLS   Adj. R-squared:                  0.770\n",
        "Method:                             Least Squares   F-statistic:                     1619.\n",
        "Date:                            Mon, 04 Aug 2014   Prob (F-statistic):               0.00\n",
        "Time:                                    12:21:33   Log-Likelihood:                 5401.9\n",
        "No. Observations:                            2422   AIC:                        -1.079e+04\n",
        "Df Residuals:                                2416   BIC:                        -1.076e+04\n",
        "Df Model:                                       5                                         \n",
        "================================================================================================\n",
        "                                   coef    std err          t      P>|t|      [95.0% Conf. Int.]\n",
        "------------------------------------------------------------------------------------------------\n",
        "Intercept                        2.8684      0.016    182.109      0.000         2.838     2.899\n",
        "I(year_built < 1940)[T.True]     0.0299      0.001     25.843      0.000         0.028     0.032\n",
        "I(year_built > 2005)[T.True]     0.0133      0.005      2.719      0.007         0.004     0.023\n",
        "np.log1p(stories)                0.0901      0.002     42.885      0.000         0.086     0.094\n",
        "ave_income                      -0.0502      0.001    -37.178      0.000        -0.053    -0.048\n",
        "jobs                             0.0183      0.001     29.632      0.000         0.017     0.020\n",
        "==============================================================================\n",
        "Omnibus:                       59.735   Durbin-Watson:                   0.575\n",
        "Prob(Omnibus):                  0.000   Jarque-Bera (JB):              133.515\n",
        "Skew:                          -0.062   Prob(JB):                     1.02e-29\n",
        "Kurtosis:                       4.143   Cond. No.                         394.\n",
        "==============================================================================\n"
       ]
      }
     ],
     "prompt_number": 3
    },
    {
     "cell_type": "heading",
     "level": 2,
     "metadata": {},
     "source": [
      "Hedonic Simulation"
     ]
    },
    {
     "cell_type": "code",
     "collapsed": false,
     "input": [
      "sim.run([\"rsh_simulate\", \"nrh_simulate\"])"
     ],
     "language": "python",
     "metadata": {},
     "outputs": [
      {
       "output_type": "stream",
       "stream": "stdout",
       "text": [
        "Running model 'rsh_simulate'\n",
        "Dropped 14198 rows because they contained nans"
       ]
      },
      {
       "output_type": "stream",
       "stream": "stdout",
       "text": [
        "\n",
        "count    138407.000000\n",
        "mean        541.979651\n",
        "std         168.631842\n",
        "min          14.932559\n",
        "25%         466.311036\n",
        "50%         522.102663\n",
        "75%         585.427954\n",
        "max       10662.589832\n",
        "dtype: float64"
       ]
      },
      {
       "output_type": "stream",
       "stream": "stdout",
       "text": [
        "\n",
        "Running model 'nrh_simulate'"
       ]
      },
      {
       "output_type": "stream",
       "stream": "stdout",
       "text": [
        "\n",
        "Dropped 142403 rows because they contained nans"
       ]
      },
      {
       "output_type": "stream",
       "stream": "stdout",
       "text": [
        "\n",
        "count    10202.000000\n",
        "mean        24.973529\n",
        "std          7.035836\n",
        "min         11.643274\n",
        "25%         24.425373\n",
        "50%         27.593572\n",
        "75%         29.882628\n",
        "max         36.510106\n",
        "dtype: float64"
       ]
      },
      {
       "output_type": "stream",
       "stream": "stdout",
       "text": [
        "\n"
       ]
      }
     ],
     "prompt_number": 4
    },
    {
     "cell_type": "heading",
     "level": 2,
     "metadata": {},
     "source": [
      "LCM Estimation"
     ]
    },
    {
     "cell_type": "code",
     "collapsed": false,
     "input": [
      "sim.run([\"hlcm_estimate\"])"
     ],
     "language": "python",
     "metadata": {},
     "outputs": [
      {
       "output_type": "stream",
       "stream": "stdout",
       "text": [
        "Running model 'hlcm_estimate'\n",
        "Dropped 51185 rows because they contained nans"
       ]
      },
      {
       "output_type": "stream",
       "stream": "stdout",
       "text": [
        "\n",
        "LCM RESULTS FOR SEGMENT 0\n"
       ]
      },
      {
       "output_type": "stream",
       "stream": "stdout",
       "text": [
        "\n",
        "Null Log-liklihood: -8680.746\n",
        "Log-liklihood at convergence: -7411.679\n",
        "Log-liklihood Ratio: 0.146\n",
        "\n",
        "+-----------------------------------+-------------+------------+---------+\n",
        "| Component                         | Coefficient | Std. Error | T-Score |\n",
        "+-----------------------------------+-------------+------------+---------+\n",
        "| np.log1p(residential_sales_price) |    -3.000   |   0.269    | -11.158 |\n",
        "| np.log1p(unit_sqft)               |    -1.624   |   0.113    | -14.371 |\n",
        "| sum_residential_units             |    0.280    |   0.152    |  1.837  |\n",
        "| ave_unit_sqft                     |    0.306    |   0.173    |  1.765  |\n",
        "| ave_lot_sqft                      |    -0.381   |   0.075    |  -5.062 |\n",
        "| ave_income                        |    0.339    |   0.210    |  1.618  |\n",
        "| hhsize                            |    -0.955   |   0.179    |  -5.329 |\n",
        "| jobs                              |    0.145    |   0.040    |  3.661  |\n",
        "| sfdu                              |    -0.060   |   0.031    |  -1.918 |\n",
        "| renters                           |    -0.643   |   0.060    | -10.741 |\n",
        "| poor                              |    1.007    |   0.176    |  5.706  |\n",
        "| population                        |    -0.048   |   0.232    |  -0.207 |\n",
        "+-----------------------------------+-------------+------------+---------+\n",
        "LCM RESULTS FOR SEGMENT 1\n",
        "\n",
        "Null Log-liklihood: -9297.839\n",
        "Log-liklihood at convergence: -8562.997\n",
        "Log-liklihood Ratio: 0.079\n",
        "\n",
        "+-----------------------------------+-------------+------------+---------+\n",
        "| Component                         | Coefficient | Std. Error | T-Score |\n",
        "+-----------------------------------+-------------+------------+---------+\n",
        "| np.log1p(residential_sales_price) |    -3.000   |   0.295    | -10.172 |\n",
        "| np.log1p(unit_sqft)               |    -1.745   |   0.121    | -14.447 |\n",
        "| sum_residential_units             |    0.061    |   0.150    |  0.403  |\n",
        "| ave_unit_sqft                     |    0.010    |   0.185    |  0.056  |\n",
        "| ave_lot_sqft                      |    -0.394   |   0.075    |  -5.233 |\n",
        "| ave_income                        |    0.923    |   0.256    |  3.613  |\n",
        "| hhsize                            |    -0.273   |   0.176    |  -1.556 |\n",
        "| jobs                              |    0.103    |   0.039    |  2.665  |\n",
        "| sfdu                              |    -0.094   |   0.032    |  -2.982 |\n",
        "| renters                           |    -0.880   |   0.073    | -12.128 |\n",
        "| poor                              |    0.461    |   0.176    |  2.623  |\n",
        "| population                        |    0.862    |   0.252    |  3.419  |\n",
        "+-----------------------------------+-------------+------------+---------+\n",
        "LCM RESULTS FOR SEGMENT 2\n",
        "\n",
        "Null Log-liklihood: -9804.407\n",
        "Log-liklihood at convergence: -9264.168\n",
        "Log-liklihood Ratio: 0.055\n",
        "\n",
        "+-----------------------------------+-------------+------------+---------+\n",
        "| Component                         | Coefficient | Std. Error | T-Score |\n",
        "+-----------------------------------+-------------+------------+---------+\n",
        "| np.log1p(residential_sales_price) |    -3.000   |   0.306    |  -9.790 |\n",
        "| np.log1p(unit_sqft)               |    -1.757   |   0.125    | -14.074 |\n",
        "| sum_residential_units             |    0.113    |   0.153    |  0.738  |\n",
        "| ave_unit_sqft                     |    0.303    |   0.187    |  1.615  |\n",
        "| ave_lot_sqft                      |    -0.751   |   0.082    |  -9.219 |\n",
        "| ave_income                        |    1.020    |   0.271    |  3.767  |\n",
        "| hhsize                            |    -0.136   |   0.175    |  -0.778 |\n",
        "| jobs                              |    0.094    |   0.040    |  2.371  |\n",
        "| sfdu                              |    -0.079   |   0.031    |  -2.514 |\n",
        "| renters                           |    -0.664   |   0.085    |  -7.830 |\n",
        "| poor                              |    -0.033   |   0.178    |  -0.183 |\n",
        "| population                        |    1.126    |   0.265    |  4.250  |\n",
        "+-----------------------------------+-------------+------------+---------+\n",
        "LCM RESULTS FOR SEGMENT 3\n",
        "\n",
        "Null Log-liklihood: -9730.725\n",
        "Log-liklihood at convergence: -9247.267\n",
        "Log-liklihood Ratio: 0.050\n",
        "\n",
        "+-----------------------------------+-------------+------------+---------+\n",
        "| Component                         | Coefficient | Std. Error | T-Score |\n",
        "+-----------------------------------+-------------+------------+---------+\n",
        "| np.log1p(residential_sales_price) |    -3.000   |   0.353    |  -8.507 |\n",
        "| np.log1p(unit_sqft)               |    -1.733   |   0.142    | -12.164 |\n",
        "| sum_residential_units             |    0.193    |   0.158    |  1.220  |\n",
        "| ave_unit_sqft                     |    0.548    |   0.190    |  2.881  |\n",
        "| ave_lot_sqft                      |    -0.864   |   0.091    |  -9.544 |\n",
        "| ave_income                        |    2.327    |   0.320    |  7.263  |\n",
        "| hhsize                            |    -0.576   |   0.182    |  -3.174 |\n",
        "| jobs                              |    0.056    |   0.040    |  1.388  |\n",
        "| sfdu                              |    -0.047   |   0.032    |  -1.464 |\n",
        "| renters                           |    -0.497   |   0.099    |  -5.040 |\n",
        "| poor                              |    0.225    |   0.187    |  1.206  |\n",
        "| population                        |    0.588    |   0.283    |  2.075  |\n",
        "+-----------------------------------+-------------+------------+---------+\n"
       ]
      }
     ],
     "prompt_number": 5
    },
    {
     "cell_type": "code",
     "collapsed": false,
     "input": [
      "sim.run([\"elcm_estimate\"])"
     ],
     "language": "python",
     "metadata": {},
     "outputs": [
      {
       "output_type": "stream",
       "stream": "stdout",
       "text": [
        "Running model 'elcm_estimate'\n",
        "Dropped 331 rows because they contained nans"
       ]
      },
      {
       "output_type": "stream",
       "stream": "stdout",
       "text": [
        "\n",
        "Dropped 142403 rows because they contained nans"
       ]
      },
      {
       "output_type": "stream",
       "stream": "stdout",
       "text": [
        "\n",
        "LCM RESULTS FOR SEGMENT industrial\n"
       ]
      },
      {
       "output_type": "stream",
       "stream": "stdout",
       "text": [
        "\n",
        "Null Log-liklihood: -15781.918\n",
        "Log-liklihood at convergence: -13425.225\n",
        "Log-liklihood Ratio: 0.149\n",
        "\n",
        "+--------------------------------+-------------+------------+---------+\n",
        "| Component                      | Coefficient | Std. Error | T-Score |\n",
        "+--------------------------------+-------------+------------+---------+\n",
        "| np.log1p(non_residential_rent) |    0.437    |   0.052    |  8.473  |\n",
        "| sum_job_spaces                 |    -0.322   |   0.047    |  -6.900 |\n",
        "| sum_residential_units          |    0.192    |   0.055    |  3.463  |\n",
        "| ave_unit_sqft                  |    0.099    |   0.023    |  4.249  |\n",
        "| ave_lot_sqft                   |    0.559    |   0.031    |  18.083 |\n",
        "| ave_income                     |    -0.215   |   0.043    |  -5.025 |\n",
        "| hhsize                         |    0.149    |   0.128    |  1.162  |\n",
        "| jobs                           |    0.710    |   0.051    |  13.903 |\n",
        "| poor                           |    -0.425   |   0.032    | -13.476 |\n",
        "+--------------------------------+-------------+------------+---------+\n",
        "LCM RESULTS FOR SEGMENT agriculture\n",
        "\n",
        "Null Log-liklihood: -851.956\n",
        "Log-liklihood at convergence: -562.043\n",
        "Log-liklihood Ratio: 0.340\n",
        "\n",
        "+--------------------------------+-------------+------------+---------+\n",
        "| Component                      | Coefficient | Std. Error | T-Score |\n",
        "+--------------------------------+-------------+------------+---------+\n",
        "| np.log1p(non_residential_rent) |    1.002    |   0.338    |  2.964  |\n",
        "| sum_job_spaces                 |    -0.822   |   0.315    |  -2.607 |\n",
        "| sum_residential_units          |    0.739    |   0.301    |  2.457  |\n",
        "| ave_unit_sqft                  |    -0.577   |   0.093    |  -6.210 |\n",
        "| ave_lot_sqft                   |    0.261    |   0.198    |  1.317  |\n",
        "| ave_income                     |    -1.025   |   0.262    |  -3.906 |\n",
        "| hhsize                         |    0.870    |   0.799    |  1.089  |\n",
        "| jobs                           |    1.150    |   0.327    |  3.512  |\n",
        "| poor                           |    -0.855   |   0.161    |  -5.303 |\n",
        "+--------------------------------+-------------+------------+---------+\n",
        "LCM RESULTS FOR SEGMENT service\n",
        "\n",
        "Null Log-liklihood: -14736.545\n",
        "Log-liklihood at convergence: -11585.674\n",
        "Log-liklihood Ratio: 0.214\n",
        "\n",
        "+--------------------------------+-------------+------------+---------+\n",
        "| Component                      | Coefficient | Std. Error | T-Score |\n",
        "+--------------------------------+-------------+------------+---------+\n",
        "| np.log1p(non_residential_rent) |    1.541    |   0.070    |  22.151 |\n",
        "| sum_job_spaces                 |    -0.319   |   0.051    |  -6.320 |\n",
        "| sum_residential_units          |    0.197    |   0.057    |  3.486  |\n",
        "| ave_unit_sqft                  |    0.074    |   0.019    |  3.997  |\n",
        "| ave_lot_sqft                   |    0.093    |   0.033    |  2.796  |\n",
        "| ave_income                     |    -0.402   |   0.044    |  -9.244 |\n",
        "| hhsize                         |    -0.820   |   0.156    |  -5.272 |\n",
        "| jobs                           |    1.063    |   0.053    |  20.021 |\n",
        "| poor                           |    -0.373   |   0.034    | -10.999 |\n",
        "+--------------------------------+-------------+------------+---------+\n",
        "LCM RESULTS FOR SEGMENT retail\n",
        "\n",
        "Null Log-liklihood: -13829.326\n",
        "Log-liklihood at convergence: -12696.743\n",
        "Log-liklihood Ratio: 0.082\n",
        "\n",
        "+--------------------------------+-------------+------------+---------+\n",
        "| Component                      | Coefficient | Std. Error | T-Score |\n",
        "+--------------------------------+-------------+------------+---------+\n",
        "| np.log1p(non_residential_rent) |    1.578    |   0.065    |  24.280 |\n",
        "| sum_job_spaces                 |    0.208    |   0.047    |  4.388  |\n",
        "| sum_residential_units          |    -0.289   |   0.062    |  -4.676 |\n",
        "| ave_unit_sqft                  |    0.006    |   0.031    |  0.208  |\n",
        "| ave_lot_sqft                   |    0.146    |   0.036    |  4.018  |\n",
        "| ave_income                     |    0.703    |   0.045    |  15.675 |\n",
        "| hhsize                         |    -1.200   |   0.143    |  -8.420 |\n",
        "| jobs                           |    0.504    |   0.057    |  8.892  |\n",
        "| poor                           |    0.233    |   0.038    |  6.140  |\n",
        "+--------------------------------+-------------+------------+---------+\n"
       ]
      }
     ],
     "prompt_number": 6
    },
    {
     "cell_type": "code",
     "collapsed": false,
     "input": [],
     "language": "python",
     "metadata": {},
     "outputs": [],
     "prompt_number": 6
    }
   ],
   "metadata": {}
  }
 ]
}