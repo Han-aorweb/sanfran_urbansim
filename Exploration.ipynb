{
 "metadata": {
  "name": "",
  "signature": "sha256:33fde9ccbe6184b71cf30f7e1d0371868aa8f5a690118c30286984a44e294e5b"
 },
 "nbformat": 3,
 "nbformat_minor": 0,
 "worksheets": [
  {
   "cells": [
    {
     "cell_type": "code",
     "collapsed": false,
     "input": [
      "%load_ext autoreload\n",
      "%autoreload 2\n",
      "import models\n",
      "import urbansim.sim.simulation as sim\n",
      "from urbansim.maps import dframe_explorer"
     ],
     "language": "python",
     "metadata": {},
     "outputs": [],
     "prompt_number": 1
    },
    {
     "cell_type": "code",
     "collapsed": false,
     "input": [
      "d = {tbl: sim.get_table(tbl).to_frame() for tbl in ['buildings', 'jobs', 'households', 'zones', 'zones_prices']}"
     ],
     "language": "python",
     "metadata": {},
     "outputs": [],
     "prompt_number": 2
    },
    {
     "cell_type": "code",
     "collapsed": false,
     "input": [
      "dframe_explorer.start(d, \n",
      "        center=[37.7792, -122.2191],\n",
      "        zoom=11,\n",
      "        shape_json='data/zones.json',\n",
      "        geom_name='ZONE_ID', # from JSON file\n",
      "        join_name='zone_id', # from data frames\n",
      "        precision=2)"
     ],
     "language": "python",
     "metadata": {},
     "outputs": [
      {
       "output_type": "stream",
       "stream": "stderr",
       "text": [
        "Bottle v0.12.7 server starting up (using WSGIRefServer())...\n",
        "Listening on http://localhost:8765/\n",
        "Hit Ctrl-C to quit.\n",
        "\n"
       ]
      }
     ],
     "prompt_number": 3
    },
    {
     "cell_type": "markdown",
     "metadata": {},
     "source": [
      "[Click here to navigate maps](http://localhost:8765/)"
     ]
    },
    {
     "cell_type": "code",
     "collapsed": false,
     "input": [],
     "language": "python",
     "metadata": {},
     "outputs": []
    }
   ],
   "metadata": {}
  }
 ]
}