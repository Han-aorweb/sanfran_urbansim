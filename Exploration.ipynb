{
 "metadata": {
  "name": "",
  "signature": "sha256:4ea33f9596a4ad6c7046402281b46ad83f62c995aaf73e419305e86d6fd9e80c"
 },
 "nbformat": 3,
 "nbformat_minor": 0,
 "worksheets": [
  {
   "cells": [
    {
     "cell_type": "code",
     "collapsed": false,
     "input": [
      "%load_ext autoreload\n",
      "%autoreload 2\n",
      "import models\n",
      "import urbansim.sim.simulation as sim\n",
      "from urbansim.maps import dframe_explorer"
     ],
     "language": "python",
     "metadata": {},
     "outputs": [],
     "prompt_number": 1
    },
    {
     "cell_type": "code",
     "collapsed": false,
     "input": [
      "d = {tbl: sim.get_table(tbl).to_frame() for tbl in ['buildings', 'jobs', 'households']}"
     ],
     "language": "python",
     "metadata": {},
     "outputs": [],
     "prompt_number": 3
    },
    {
     "cell_type": "code",
     "collapsed": false,
     "input": [
      "dframe_explorer.start(d, \n",
      "        center=[37.7792, -122.2191],\n",
      "        zoom=11,\n",
      "        shape_json='data/zones.json',\n",
      "        geom_name='ZONE_ID', # from JSON file\n",
      "        join_name='zone_id', # from data frames\n",
      "        precision=2)"
     ],
     "language": "python",
     "metadata": {},
     "outputs": [
      {
       "output_type": "stream",
       "stream": "stderr",
       "text": [
        "Bottle v0.12.7 server starting up (using WSGIRefServer())...\n",
        "Listening on http://localhost:8765/\n",
        "Hit Ctrl-C to quit.\n",
        "\n"
       ]
      }
     ],
     "prompt_number": 5
    },
    {
     "cell_type": "code",
     "collapsed": false,
     "input": [],
     "language": "python",
     "metadata": {},
     "outputs": []
    }
   ],
   "metadata": {}
  }
 ]
}