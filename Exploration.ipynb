{
 "metadata": {
  "name": "",
  "signature": "sha256:206bda48d6fab61020bff2d9baaa6e69df69c33a39d204cdfdd420de14c8cbe3"
 },
 "nbformat": 3,
 "nbformat_minor": 0,
 "worksheets": [
  {
   "cells": [
    {
     "cell_type": "code",
     "collapsed": false,
     "input": [
      "%load_ext autoreload\n",
      "%autoreload 2\n",
      "import models\n",
      "import urbansim.sim.simulation as sim\n",
      "from urbansim.maps import dframe_explorer"
     ],
     "language": "python",
     "metadata": {},
     "outputs": [],
     "prompt_number": 1
    },
    {
     "cell_type": "code",
     "collapsed": false,
     "input": [
      "d = {tbl: sim.get_table(tbl).to_frame() for tbl in ['buildings', 'jobs', 'households', 'zones', 'zones_prices']}"
     ],
     "language": "python",
     "metadata": {},
     "outputs": [
      {
       "output_type": "stream",
       "stream": "stdout",
       "text": [
        "Filling column non_residential_rent with value 0 (142400 values)\n",
        "Filling column residential_units with value 0 (0 values)\n",
        "Filling column year_built with value 1927.0 (3116 values)\n",
        "Filling column residential_sales_price with value 0 (14196 values)\n",
        "Filling column non_residential_sqft with value 0 (1341 values)\n",
        "Filling column building_type_id with value 2.0 (0 values)"
       ]
      },
      {
       "output_type": "stream",
       "stream": "stdout",
       "text": [
        "\n",
        "Filling column job_category with value service (331 values)"
       ]
      },
      {
       "output_type": "stream",
       "stream": "stdout",
       "text": [
        "\n"
       ]
      }
     ]
    },
    {
     "cell_type": "code",
     "collapsed": false,
     "input": [
      "dframe_explorer.start(d, \n",
      "        center=[37.7792, -122.2191],\n",
      "        zoom=11,\n",
      "        shape_json='data/zones.json',\n",
      "        geom_name='ZONE_ID', # from JSON file\n",
      "        join_name='zone_id', # from data frames\n",
      "        precision=2)"
     ],
     "language": "python",
     "metadata": {},
     "outputs": [
      {
       "output_type": "stream",
       "stream": "stderr",
       "text": [
        "Bottle v0.12.7 server starting up (using WSGIRefServer())...\n",
        "Listening on http://localhost:8765/\n",
        "Hit Ctrl-C to quit.\n",
        "\n",
        "127.0.0.1 - - [14/Aug/2014 17:11:55] \"GET / HTTP/1.1\" 200 28075\n"
       ]
      },
      {
       "output_type": "stream",
       "stream": "stderr",
       "text": [
        "127.0.0.1 - - [14/Aug/2014 17:11:55] \"GET /data/zones.json HTTP/1.1\" 200 7389418\n",
        "127.0.0.1 - - [14/Aug/2014 17:11:57] \"GET /favicon.ico HTTP/1.1\" 404 742\n"
       ]
      },
      {
       "output_type": "stream",
       "stream": "stdout",
       "text": [
        "df.groupby('zone_id')['income'].mean()\n",
        "df.groupby('zone_id')['income'].quantile(.5)"
       ]
      },
      {
       "output_type": "stream",
       "stream": "stderr",
       "text": [
        "127.0.0.1 - - [14/Aug/2014 17:12:08] \"GET /map_query/households/empty/zone_id/income/mean() HTTP/1.1\" 200 4803\n",
        "127.0.0.1 - - [14/Aug/2014 17:12:23] \"GET /map_query/households/empty/zone_id/income/quantile(.5) HTTP/1.1\" 200 2920\n"
       ]
      },
      {
       "output_type": "stream",
       "stream": "stdout",
       "text": [
        "\n",
        "df.groupby('zone_id')['income'].quantile(.75)"
       ]
      },
      {
       "output_type": "stream",
       "stream": "stdout",
       "text": [
        "\n",
        "df.query('income > 30000').groupby('zone_id')['income'].quantile(.75)"
       ]
      },
      {
       "output_type": "stream",
       "stream": "stderr",
       "text": [
        "127.0.0.1 - - [14/Aug/2014 17:12:27] \"GET /map_query/households/empty/zone_id/income/quantile(.75) HTTP/1.1\" 200 3031\n",
        "/Users/ffoti/anaconda/lib/python2.7/site-packages/pandas/computation/ops.py:62: DeprecationWarning: object() takes no parameters\n",
        "  return supr_new(klass, name, env, side=side, encoding=encoding)\n"
       ]
      }
     ]
    },
    {
     "cell_type": "markdown",
     "metadata": {},
     "source": [
      "[Click here to navigate maps](http://localhost:8765/)"
     ]
    },
    {
     "cell_type": "code",
     "collapsed": false,
     "input": [],
     "language": "python",
     "metadata": {},
     "outputs": []
    }
   ],
   "metadata": {}
  }
 ]
}