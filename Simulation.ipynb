{
 "metadata": {
  "name": "",
  "signature": "sha256:0ea5baf2fd636489b03f23225b7a33f87857c281129228f09f81967e2885dd0b"
 },
 "nbformat": 3,
 "nbformat_minor": 0,
 "worksheets": [
  {
   "cells": [
    {
     "cell_type": "code",
     "collapsed": true,
     "input": [
      "# %load_ext autoreload\n",
      "# %autoreload 2\n",
      "import models, utils\n",
      "import urbansim.sim.simulation as sim"
     ],
     "language": "python",
     "metadata": {},
     "outputs": [],
     "prompt_number": 1
    },
    {
     "cell_type": "code",
     "collapsed": true,
     "input": [
      "in_year, out_year = 2010, 2013\n",
      "\n",
      "# one time for base year indicators\n",
      "sim.run([\n",
      "    \"diagnostic_output\"\n",
      "], years=[in_year-1])\n",
      "\n",
      "sim.run([\n",
      "    \"rsh_simulate\",              # residential sales hedonic\n",
      "    \"nrh_simulate\",              # non-residential rent hedonic\n",
      "\n",
      "    \"households_relocation\",     # households relocation model\n",
      "    \"hlcm_simulate\",            # households location choice\n",
      "    \"households_transition\",     # households transition\n",
      "\n",
      "    \"jobs_relocation\",           # jobs relocation model\n",
      "    \"elcm_simulate\",             # employment location choice\n",
      "    \"jobs_transition\",           # jobs transition\n",
      "\n",
      "    \"feasibility\",               # compute development feasibility\n",
      "    \"residential_developer\",     # build residential buildings\n",
      "    #\"non_residential_developer\", # build non-residential buildings\n",
      "    \"clear_cache\",               # clear the cache each year\n",
      "    \"diagnostic_output\",\n",
      "    \"pusher\"\n",
      "], years=range(in_year, out_year))"
     ],
     "language": "python",
     "metadata": {},
     "outputs": [
      {
       "output_type": "stream",
       "stream": "stdout",
       "text": [
        "Running year 2009\n",
        "Running model 'diagnostic_output'\n",
        "Filling column non_residential_rent with value 0 (0 values)"
       ]
      },
      {
       "output_type": "stream",
       "stream": "stdout",
       "text": [
        "\n",
        "Filling column residential_units with value 0 (0 values)\n",
        "Filling column year_built with value 1927.0 (3116 values)\n",
        "Filling column residential_sales_price with value 0 (0 values)"
       ]
      },
      {
       "output_type": "stream",
       "stream": "stdout",
       "text": [
        "\n",
        "Filling column non_residential_sqft with value 0 (1341 values)\n",
        "Filling column building_type_id with value 2.0 (0 values)\n",
        "Filling column job_category with value service (331 values)"
       ]
      },
      {
       "output_type": "stream",
       "stream": "stdout",
       "text": [
        "\n",
        "Time to execute model 'diagnostic_output': 2.47s"
       ]
      },
      {
       "output_type": "stream",
       "stream": "stdout",
       "text": [
        "\n",
        "Total time to execute year 2009: 2.47s\n",
        "Running year 2010\n",
        "Running model 'rsh_simulate'\n",
        "count      140780.000000\n",
        "mean         1156.971200\n",
        "std         41503.246343\n",
        "min             0.002067\n",
        "25%           252.727481\n",
        "50%           379.993499\n",
        "75%           554.244653\n",
        "max      12507033.315516\n",
        "dtype: float64"
       ]
      },
      {
       "output_type": "stream",
       "stream": "stdout",
       "text": [
        "\n",
        "Time to execute model 'rsh_simulate': 0.81s\n",
        "Running model 'nrh_simulate'\n",
        "count    10803.000000\n",
        "mean        20.729909\n",
        "std          6.833292\n",
        "min          6.258496\n",
        "25%         17.431477\n",
        "50%         20.908725\n",
        "75%         25.077906\n",
        "max         47.266957\n",
        "dtype: float64"
       ]
      },
      {
       "output_type": "stream",
       "stream": "stdout",
       "text": [
        "\n",
        "Time to execute model 'nrh_simulate': 0.43s\n",
        "Running model 'households_relocation'\n",
        "Total agents: 345588\n",
        "Total currently unplaced: 0"
       ]
      },
      {
       "output_type": "stream",
       "stream": "stdout",
       "text": [
        "\n",
        "Assinging for relocation...\n",
        "Total currently unplaced: 17279"
       ]
      },
      {
       "output_type": "stream",
       "stream": "stdout",
       "text": [
        "\n",
        "Time to execute model 'households_relocation': 0.23s\n",
        "Running model 'hlcm_simulate'\n",
        "There are 374133 total available units"
       ]
      },
      {
       "output_type": "stream",
       "stream": "stdout",
       "text": [
        "\n",
        "    and 345588 total choosers\n",
        "    but there are 43020 overfull buildings\n",
        "    for a total of 109410 temporarily empty units"
       ]
      },
      {
       "output_type": "stream",
       "stream": "stdout",
       "text": [
        "\n",
        "    in 50936 buildings total in the region\n",
        "Assigned 17279 choosers to new units"
       ]
      },
      {
       "output_type": "stream",
       "stream": "stdout",
       "text": [
        "\n",
        "Total currently unplaced: 0"
       ]
      },
      {
       "output_type": "stream",
       "stream": "stdout",
       "text": [
        "\n",
        "    and there are now 28545 empty units"
       ]
      },
      {
       "output_type": "stream",
       "stream": "stdout",
       "text": [
        "\n",
        "    and 43020 overfull buildings\n",
        "Time to execute model 'hlcm_simulate': 2.11s\n",
        "Running model 'households_transition'\n",
        "345588 agents before transition\n",
        "352500 agents after transition"
       ]
      },
      {
       "output_type": "stream",
       "stream": "stdout",
       "text": [
        "\n",
        "Time to execute model 'households_transition': 0.10s\n",
        "Running model 'jobs_relocation'\n",
        "Total agents: 225439\n",
        "Total currently unplaced: 0\n",
        "Assinging for relocation...\n",
        "Total currently unplaced: 11271"
       ]
      },
      {
       "output_type": "stream",
       "stream": "stdout",
       "text": [
        "\n",
        "Time to execute model 'jobs_relocation': 0.09s\n",
        "Running model 'elcm_simulate'\n",
        "There are 642004 total available units"
       ]
      },
      {
       "output_type": "stream",
       "stream": "stdout",
       "text": [
        "\n",
        "    and 225439 total choosers\n",
        "    but there are 14740 overfull buildings\n",
        "    for a total of 544001 temporarily empty units"
       ]
      },
      {
       "output_type": "stream",
       "stream": "stdout",
       "text": [
        "\n",
        "    in 8505 buildings total in the region\n",
        "Assigned 11271 choosers to new units"
       ]
      },
      {
       "output_type": "stream",
       "stream": "stdout",
       "text": [
        "\n",
        "Total currently unplaced: 0"
       ]
      },
      {
       "output_type": "stream",
       "stream": "stdout",
       "text": [
        "\n",
        "    and there are now 416656 empty units"
       ]
      },
      {
       "output_type": "stream",
       "stream": "stdout",
       "text": [
        "\n",
        "    and 14740 overfull buildings\n",
        "Time to execute model 'elcm_simulate': 2.60s\n",
        "Running model 'jobs_transition'\n",
        "225439 agents before transition\n",
        "229948 agents after transition"
       ]
      },
      {
       "output_type": "stream",
       "stream": "stdout",
       "text": [
        "\n",
        "Time to execute model 'jobs_transition': 0.21s"
       ]
      },
      {
       "output_type": "stream",
       "stream": "stdout",
       "text": [
        "\n",
        "Running model 'feasibility'\n",
        "Describe of the yearly rent by use"
       ]
      },
      {
       "output_type": "stream",
       "stream": "stdout",
       "text": [
        "\n",
        "             retail    industrial        office   residential\n",
        "count  47967.000000  24278.000000  47588.000000  48220.000000\n",
        "mean      25.906138      9.139716     22.657248     32.977795\n",
        "std        3.990524      1.681738      3.280794     54.910727\n",
        "min       18.959521      6.761234     16.531243      2.165061\n",
        "25%       21.967369      7.598586     19.377062     24.994565\n",
        "50%       26.090178      8.974031     23.245412     27.089827\n",
        "75%       29.119849     10.239850     25.703121     33.737613\n",
        "max       35.701767     14.925111     31.440265   1864.723048\n",
        "\n",
        "[8 rows x 4 columns]"
       ]
      },
      {
       "output_type": "stream",
       "stream": "stdout",
       "text": [
        "\n",
        "Computing feasibility for form mixedoffice\n",
        "Computing feasibility for form industrial"
       ]
      },
      {
       "output_type": "stream",
       "stream": "stdout",
       "text": [
        "\n",
        "Computing feasibility for form office"
       ]
      },
      {
       "output_type": "stream",
       "stream": "stdout",
       "text": [
        "\n",
        "Computing feasibility for form residential"
       ]
      },
      {
       "output_type": "stream",
       "stream": "stdout",
       "text": [
        "\n",
        "Computing feasibility for form mixedresidential"
       ]
      },
      {
       "output_type": "stream",
       "stream": "stdout",
       "text": [
        "\n",
        "Computing feasibility for form retail"
       ]
      },
      {
       "output_type": "stream",
       "stream": "stdout",
       "text": [
        "\n",
        "Time to execute model 'feasibility': 3.71s"
       ]
      },
      {
       "output_type": "stream",
       "stream": "stdout",
       "text": [
        "\n",
        "Running model 'residential_developer'\n",
        "Number of agents: 352,500"
       ]
      },
      {
       "output_type": "stream",
       "stream": "stdout",
       "text": [
        "\n",
        "Number of agent spaces: 374,133\n",
        "Current vacancy = 0.06\n",
        "Target vacancy = 0.06, target of new units = 867\n",
        "2,941 feasible buildings before running developer\n",
        "Sum of net units that are profitable: 27,705\n",
        "Adding 4 buildings with 1,037 residential_units\n",
        "2,937 feasible buildings after running developer\n",
        "Unplaced households before: 6912"
       ]
      },
      {
       "output_type": "stream",
       "stream": "stdout",
       "text": [
        "\n",
        "Unplaced households after: 6929\n",
        "Unplaced jobs before: 4509"
       ]
      },
      {
       "output_type": "stream",
       "stream": "stdout",
       "text": [
        "\n",
        "Unplaced jobs after: 5775\n",
        "Time to execute model 'residential_developer': 0.46s"
       ]
      },
      {
       "output_type": "stream",
       "stream": "stdout",
       "text": [
        "\n",
        "Running model 'clear_cache'\n",
        "Time to execute model 'clear_cache': 0.00s\n",
        "Running model 'diagnostic_output'\n",
        "Time to execute model 'diagnostic_output': 1.51s"
       ]
      },
      {
       "output_type": "stream",
       "stream": "stdout",
       "text": [
        "\n",
        "Running model 'pusher'\n",
        "Time to execute model 'pusher': 0.80s"
       ]
      },
      {
       "output_type": "stream",
       "stream": "stdout",
       "text": [
        "\n",
        "Total time to execute year 2010: 13.08s\n",
        "Running year 2011\n",
        "Running model 'rsh_simulate'\n",
        "count      140783.000000\n",
        "mean         1154.949261\n",
        "std         40572.681870\n",
        "min             0.002091\n",
        "25%           256.577790\n",
        "50%           385.512259\n",
        "75%           561.495426\n",
        "max      12374299.619994\n",
        "dtype: float64"
       ]
      },
      {
       "output_type": "stream",
       "stream": "stdout",
       "text": [
        "\n",
        "Time to execute model 'rsh_simulate': 0.61s\n",
        "Running model 'nrh_simulate'\n",
        "count    10799.000000\n",
        "mean        20.709767\n",
        "std          6.840594\n",
        "min          6.495892\n",
        "25%         17.448693\n",
        "50%         20.901729\n",
        "75%         25.005268\n",
        "max         47.284294\n",
        "dtype: float64"
       ]
      },
      {
       "output_type": "stream",
       "stream": "stdout",
       "text": [
        "\n",
        "Time to execute model 'nrh_simulate': 0.50s\n",
        "Running model 'households_relocation'\n",
        "Total agents: 352500\n",
        "Total currently unplaced: 6929"
       ]
      },
      {
       "output_type": "stream",
       "stream": "stdout",
       "text": [
        "\n",
        "Assinging for relocation...\n",
        "Total currently unplaced: 24220"
       ]
      },
      {
       "output_type": "stream",
       "stream": "stdout",
       "text": [
        "\n",
        "Time to execute model 'households_relocation': 0.48s\n",
        "Running model 'hlcm_simulate'\n",
        "There are 375099 total available units"
       ]
      },
      {
       "output_type": "stream",
       "stream": "stdout",
       "text": [
        "\n",
        "    and 352500 total choosers\n",
        "    but there are 39167 overfull buildings\n",
        "    for a total of 103869 temporarily empty units"
       ]
      },
      {
       "output_type": "stream",
       "stream": "stdout",
       "text": [
        "\n",
        "    in 52986 buildings total in the region\n",
        "Assigned 24220 choosers to new units"
       ]
      },
      {
       "output_type": "stream",
       "stream": "stdout",
       "text": [
        "\n",
        "Total currently unplaced: 0"
       ]
      },
      {
       "output_type": "stream",
       "stream": "stdout",
       "text": [
        "\n",
        "    and there are now 22599 empty units"
       ]
      },
      {
       "output_type": "stream",
       "stream": "stdout",
       "text": [
        "\n",
        "    and 39167 overfull buildings\n",
        "Time to execute model 'hlcm_simulate': 2.33s\n",
        "Running model 'households_transition'\n",
        "352500 agents before transition\n",
        "359550 agents after transition"
       ]
      },
      {
       "output_type": "stream",
       "stream": "stdout",
       "text": [
        "\n",
        "Time to execute model 'households_transition': 0.14s\n",
        "Running model 'jobs_relocation'\n",
        "Total agents: 229948\n",
        "Total currently unplaced: 5775"
       ]
      },
      {
       "output_type": "stream",
       "stream": "stdout",
       "text": [
        "\n",
        "Assinging for relocation...\n",
        "Total currently unplaced: 16958"
       ]
      },
      {
       "output_type": "stream",
       "stream": "stdout",
       "text": [
        "\n",
        "Time to execute model 'jobs_relocation': 0.18s\n",
        "Running model 'elcm_simulate'\n",
        "There are 638729 total available units"
       ]
      },
      {
       "output_type": "stream",
       "stream": "stdout",
       "text": [
        "\n",
        "    and 229948 total choosers\n",
        "    but there are 14310 overfull buildings\n",
        "    for a total of 534827 temporarily empty units"
       ]
      },
      {
       "output_type": "stream",
       "stream": "stdout",
       "text": [
        "\n",
        "    in 8579 buildings total in the region\n",
        "Assigned 16958 choosers to new units"
       ]
      },
      {
       "output_type": "stream",
       "stream": "stdout",
       "text": [
        "\n",
        "Total currently unplaced: 0\n",
        "    and there are now 408870 empty units"
       ]
      },
      {
       "output_type": "stream",
       "stream": "stdout",
       "text": [
        "\n",
        "    and 14310 overfull buildings\n",
        "Time to execute model 'elcm_simulate': 2.26s\n",
        "Running model 'jobs_transition'\n",
        "229948 agents before transition\n",
        "234547 agents after transition"
       ]
      },
      {
       "output_type": "stream",
       "stream": "stdout",
       "text": [
        "\n",
        "Time to execute model 'jobs_transition': 0.14s\n",
        "Running model 'feasibility'\n",
        "Describe of the yearly rent by use"
       ]
      },
      {
       "output_type": "stream",
       "stream": "stdout",
       "text": [
        "\n",
        "             retail    industrial        office   residential\n",
        "count  47963.000000  24274.000000  47584.000000  48216.000000\n",
        "mean      25.931918      9.097642     22.680650     33.267187\n",
        "std        3.994613      1.673067      3.285550     50.420842\n",
        "min       19.083758      6.665771     16.445899      2.053338\n",
        "25%       21.992720      7.549912     19.390814     25.664700\n",
        "50%       26.036535      8.918648     23.280160     27.458523\n",
        "75%       29.160275     10.209521     25.702955     34.361475\n",
        "max       35.641248     14.917254     31.358201   1750.144124\n",
        "\n",
        "[8 rows x 4 columns]"
       ]
      },
      {
       "output_type": "stream",
       "stream": "stdout",
       "text": [
        "\n",
        "Computing feasibility for form mixedoffice\n",
        "Computing feasibility for form industrial"
       ]
      },
      {
       "output_type": "stream",
       "stream": "stdout",
       "text": [
        "\n",
        "Computing feasibility for form office"
       ]
      },
      {
       "output_type": "stream",
       "stream": "stdout",
       "text": [
        "\n",
        "Computing feasibility for form residential"
       ]
      },
      {
       "output_type": "stream",
       "stream": "stdout",
       "text": [
        "\n",
        "Computing feasibility for form mixedresidential"
       ]
      },
      {
       "output_type": "stream",
       "stream": "stdout",
       "text": [
        "\n",
        "Computing feasibility for form retail"
       ]
      },
      {
       "output_type": "stream",
       "stream": "stdout",
       "text": [
        "\n",
        "Time to execute model 'feasibility': 2.07s"
       ]
      },
      {
       "output_type": "stream",
       "stream": "stdout",
       "text": [
        "\n",
        "Running model 'residential_developer'\n",
        "Number of agents: 359,550"
       ]
      },
      {
       "output_type": "stream",
       "stream": "stdout",
       "text": [
        "\n",
        "Number of agent spaces: 375,099\n",
        "Current vacancy = 0.04\n",
        "Target vacancy = 0.06, target of new units = 7,401\n",
        "2,966 feasible buildings before running developer\n",
        "Sum of net units that are profitable: 26,856\n",
        "Adding 124 buildings with 8,244 residential_units"
       ]
      },
      {
       "output_type": "stream",
       "stream": "stdout",
       "text": [
        "\n",
        "2,842 feasible buildings after running developer\n",
        "Unplaced households before: 7050"
       ]
      },
      {
       "output_type": "stream",
       "stream": "stdout",
       "text": [
        "\n",
        "Unplaced households after: 7571\n",
        "Unplaced jobs before: 4599"
       ]
      },
      {
       "output_type": "stream",
       "stream": "stdout",
       "text": [
        "\n",
        "Unplaced jobs after: 10727\n",
        "Time to execute model 'residential_developer': 0.46s"
       ]
      },
      {
       "output_type": "stream",
       "stream": "stdout",
       "text": [
        "\n",
        "Running model 'clear_cache'\n",
        "Time to execute model 'clear_cache': 0.00s\n",
        "Running model 'diagnostic_output'\n",
        "Time to execute model 'diagnostic_output': 1.66s"
       ]
      },
      {
       "output_type": "stream",
       "stream": "stdout",
       "text": [
        "\n",
        "Running model 'pusher'\n",
        "Time to execute model 'pusher': 0.21s"
       ]
      },
      {
       "output_type": "stream",
       "stream": "stdout",
       "text": [
        "\n",
        "Total time to execute year 2011: 11.05s\n",
        "Running year 2012\n",
        "Running model 'rsh_simulate'\n",
        "count      140882.000000\n",
        "mean         1160.626620\n",
        "std         38611.978054\n",
        "min             0.002137\n",
        "25%           261.383579\n",
        "50%           392.413026\n",
        "75%           571.061702\n",
        "max      11521830.559407\n",
        "dtype: float64"
       ]
      },
      {
       "output_type": "stream",
       "stream": "stdout",
       "text": [
        "\n",
        "Time to execute model 'rsh_simulate': 0.64s\n",
        "Running model 'nrh_simulate'\n",
        "count    10699.000000\n",
        "mean        20.663502\n",
        "std          6.825521\n",
        "min          6.615779\n",
        "25%         17.407115\n",
        "50%         20.859729\n",
        "75%         24.855532\n",
        "max         47.153091\n",
        "dtype: float64"
       ]
      },
      {
       "output_type": "stream",
       "stream": "stdout",
       "text": [
        "\n",
        "Time to execute model 'nrh_simulate': 0.45s\n",
        "Running model 'households_relocation'\n",
        "Total agents: 359550\n",
        "Total currently unplaced: 7571"
       ]
      },
      {
       "output_type": "stream",
       "stream": "stdout",
       "text": [
        "\n",
        "Assinging for relocation...\n",
        "Total currently unplaced: 25158"
       ]
      },
      {
       "output_type": "stream",
       "stream": "stdout",
       "text": [
        "\n",
        "Time to execute model 'households_relocation': 0.28s\n",
        "Running model 'hlcm_simulate'\n",
        "There are 382529 total available units"
       ]
      },
      {
       "output_type": "stream",
       "stream": "stdout",
       "text": [
        "\n",
        "    and 359550 total choosers\n",
        "    but there are 35709 overfull buildings\n",
        "    for a total of 99394 temporarily empty units"
       ]
      },
      {
       "output_type": "stream",
       "stream": "stdout",
       "text": [
        "\n",
        "    in 52645 buildings total in the region\n",
        "Assigned 25158 choosers to new units"
       ]
      },
      {
       "output_type": "stream",
       "stream": "stdout",
       "text": [
        "\n",
        "Total currently unplaced: 0"
       ]
      },
      {
       "output_type": "stream",
       "stream": "stdout",
       "text": [
        "\n",
        "    and there are now 22979 empty units"
       ]
      },
      {
       "output_type": "stream",
       "stream": "stdout",
       "text": [
        "\n",
        "    and 35709 overfull buildings\n",
        "Time to execute model 'hlcm_simulate': 2.28s\n",
        "Running model 'households_transition'\n",
        "359550 agents before transition\n",
        "366741 agents after transition"
       ]
      },
      {
       "output_type": "stream",
       "stream": "stdout",
       "text": [
        "\n",
        "Time to execute model 'households_transition': 0.14s\n",
        "Running model 'jobs_relocation'\n",
        "Total agents: 234547\n",
        "Total currently unplaced: 10727"
       ]
      },
      {
       "output_type": "stream",
       "stream": "stdout",
       "text": [
        "\n",
        "Assinging for relocation...\n",
        "Total currently unplaced: 21898"
       ]
      },
      {
       "output_type": "stream",
       "stream": "stdout",
       "text": [
        "\n",
        "Time to execute model 'jobs_relocation': 0.18s\n",
        "Running model 'elcm_simulate'\n",
        "There are 620611 total available units"
       ]
      },
      {
       "output_type": "stream",
       "stream": "stdout",
       "text": [
        "\n",
        "    and 234547 total choosers\n",
        "    but there are 13864 overfull buildings\n",
        "    for a total of 508189 temporarily empty units"
       ]
      },
      {
       "output_type": "stream",
       "stream": "stdout",
       "text": [
        "\n",
        "    in 8554 buildings total in the region\n",
        "Assigned 21898 choosers to new units"
       ]
      },
      {
       "output_type": "stream",
       "stream": "stdout",
       "text": [
        "\n",
        "Total currently unplaced: 0"
       ]
      },
      {
       "output_type": "stream",
       "stream": "stdout",
       "text": [
        "\n",
        "    and there are now 386149 empty units"
       ]
      },
      {
       "output_type": "stream",
       "stream": "stdout",
       "text": [
        "\n",
        "    and 13864 overfull buildings\n",
        "Time to execute model 'elcm_simulate': 2.29s\n",
        "Running model 'jobs_transition'\n",
        "234547 agents before transition\n",
        "239238 agents after transition"
       ]
      },
      {
       "output_type": "stream",
       "stream": "stdout",
       "text": [
        "\n",
        "Time to execute model 'jobs_transition': 0.11s\n",
        "Running model 'feasibility'\n",
        "Describe of the yearly rent by use"
       ]
      },
      {
       "output_type": "stream",
       "stream": "stdout",
       "text": [
        "\n",
        "             retail    industrial        office   residential\n",
        "count  47839.000000  24150.000000  47460.000000  48092.000000\n",
        "mean      25.940964      9.034917     22.707515     31.943140\n",
        "std        4.003947      1.662816      3.292399     13.333290\n",
        "min       18.917360      6.627936     16.356398      2.898203\n",
        "25%       21.949654      7.527415     19.429429     26.172561\n",
        "50%       26.060692      8.834095     23.328973     27.819050\n",
        "75%       29.188639     10.126131     25.738748     35.692021\n",
        "max       35.642443     14.917698     31.298406    183.746222\n",
        "\n",
        "[8 rows x 4 columns]"
       ]
      },
      {
       "output_type": "stream",
       "stream": "stdout",
       "text": [
        "\n",
        "Computing feasibility for form mixedoffice\n",
        "Computing feasibility for form industrial"
       ]
      },
      {
       "output_type": "stream",
       "stream": "stdout",
       "text": [
        "\n",
        "Computing feasibility for form office"
       ]
      },
      {
       "output_type": "stream",
       "stream": "stdout",
       "text": [
        "\n",
        "Computing feasibility for form residential"
       ]
      },
      {
       "output_type": "stream",
       "stream": "stdout",
       "text": [
        "\n",
        "Computing feasibility for form mixedresidential"
       ]
      },
      {
       "output_type": "stream",
       "stream": "stdout",
       "text": [
        "\n",
        "Computing feasibility for form retail"
       ]
      },
      {
       "output_type": "stream",
       "stream": "stdout",
       "text": [
        "\n",
        "Time to execute model 'feasibility': 2.07s"
       ]
      },
      {
       "output_type": "stream",
       "stream": "stdout",
       "text": [
        "\n",
        "Running model 'residential_developer'\n",
        "Number of agents: 366,741"
       ]
      },
      {
       "output_type": "stream",
       "stream": "stdout",
       "text": [
        "\n",
        "Number of agent spaces: 382,529\n",
        "Current vacancy = 0.04\n",
        "Target vacancy = 0.06, target of new units = 7,621\n",
        "2,859 feasible buildings before running developer\n",
        "Sum of net units that are profitable: 19,455\n",
        "Adding 125 buildings with 8,455 residential_units\n",
        "2,734 feasible buildings after running developer\n",
        "Unplaced households before: 7191"
       ]
      },
      {
       "output_type": "stream",
       "stream": "stdout",
       "text": [
        "\n",
        "Unplaced households after: 7797\n",
        "Unplaced jobs before: 4691"
       ]
      },
      {
       "output_type": "stream",
       "stream": "stdout",
       "text": [
        "\n",
        "Unplaced jobs after: 6943\n",
        "Time to execute model 'residential_developer': 0.47s"
       ]
      },
      {
       "output_type": "stream",
       "stream": "stdout",
       "text": [
        "\n",
        "Running model 'clear_cache'\n",
        "Time to execute model 'clear_cache': 0.00s\n",
        "Running model 'diagnostic_output'\n",
        "Time to execute model 'diagnostic_output': 1.71s"
       ]
      },
      {
       "output_type": "stream",
       "stream": "stdout",
       "text": [
        "\n",
        "Running model 'pusher'\n",
        "Time to execute model 'pusher': 0.20s"
       ]
      },
      {
       "output_type": "stream",
       "stream": "stdout",
       "text": [
        "\n",
        "Total time to execute year 2012: 10.82s\n"
       ]
      },
      {
       "output_type": "stream",
       "stream": "stderr",
       "text": [
        "/Users/ffoti/anaconda/lib/python2.7/site-packages/pandas/core/frame.py:1686: UserWarning: Boolean Series key will be reindexed to match DataFrame index.\n",
        "  \"DataFrame index.\", UserWarning)\n"
       ]
      }
     ],
     "prompt_number": 2
    },
    {
     "cell_type": "code",
     "collapsed": false,
     "input": [],
     "language": "python",
     "metadata": {},
     "outputs": [],
     "prompt_number": 2
    }
   ],
   "metadata": {}
  }
 ]
}