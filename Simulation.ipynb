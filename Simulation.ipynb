{
 "metadata": {
  "name": "",
  "signature": "sha256:d75d0ff9194f3062499c656b05e21044edc848bff7bc54776aab7876ee59a1d1"
 },
 "nbformat": 3,
 "nbformat_minor": 0,
 "worksheets": [
  {
   "cells": [
    {
     "cell_type": "code",
     "collapsed": true,
     "input": [
      "# %load_ext autoreload\n",
      "# %autoreload 2\n",
      "import models, utils\n",
      "import urbansim.sim.simulation as sim"
     ],
     "language": "python",
     "metadata": {},
     "outputs": []
    },
    {
     "cell_type": "code",
     "collapsed": true,
     "input": [
      "sim.run([\n",
      "    \"rsh_simulate\",              # residential sales hedonic\n",
      "    \"nrh_simulate\",              # non-residential rent hedonic\n",
      "\n",
      "    \"households_relocation\",     # households relocation model\n",
      "    \"hlcm_simulate\",            # households location choice\n",
      "    \"households_transition\",     # households transition\n",
      "\n",
      "    \"jobs_relocation\",           # jobs relocation model\n",
      "    \"elcm_simulate\",             # employment location choice\n",
      "    \"jobs_transition\",           # jobs transition\n",
      "\n",
      "    \"feasibility\",               # compute development feasibility\n",
      "    \"residential_developer\",     # build residential buildings\n",
      "    \"non_residential_developer\", # build non-residential buildings\n",
      "    \"clear_cache\"                # clear the cache each year\n",
      "], years=[2010])"
     ],
     "language": "python",
     "metadata": {},
     "outputs": [
      {
       "output_type": "stream",
       "stream": "stdout",
       "text": [
        "Running year 2010\n",
        "Running model 'rsh_simulate'\n",
        "Filling column non_residential_rent with value 0 (0 values)"
       ]
      },
      {
       "output_type": "stream",
       "stream": "stdout",
       "text": [
        "\n",
        "Filling column residential_units with value 0 (0 values)\n",
        "Filling column year_built with value 1927.0 (3116 values)\n",
        "Filling column residential_sales_price with value 0 (0 values)"
       ]
      },
      {
       "output_type": "stream",
       "stream": "stdout",
       "text": [
        "\n",
        "Filling column non_residential_sqft with value 0 (1341 values)\n",
        "Filling column building_type_id with value 2.0 (0 values)\n",
        "count      140780.000000\n",
        "mean         1156.971200\n",
        "std         41503.246343\n",
        "min             0.002067\n",
        "25%           252.727481\n",
        "50%           379.993499\n",
        "75%           554.244653\n",
        "max      12507033.315516\n",
        "dtype: float64"
       ]
      },
      {
       "output_type": "stream",
       "stream": "stdout",
       "text": [
        "\n",
        "Time to execute model 'rsh_simulate': 2.12s\n",
        "Running model 'nrh_simulate'\n",
        "Filling column job_category with value service (331 values)"
       ]
      },
      {
       "output_type": "stream",
       "stream": "stdout",
       "text": [
        "\n",
        "count    10803.000000\n",
        "mean        20.729909\n",
        "std          6.833292\n",
        "min          6.258496\n",
        "25%         17.431477\n",
        "50%         20.908725\n",
        "75%         25.077906\n",
        "max         47.266957\n",
        "dtype: float64"
       ]
      },
      {
       "output_type": "stream",
       "stream": "stdout",
       "text": [
        "\n",
        "Time to execute model 'nrh_simulate': 0.79s\n",
        "Running model 'households_relocation'\n",
        "Total agents: 345588\n",
        "Total currently unplaced: 0"
       ]
      },
      {
       "output_type": "stream",
       "stream": "stdout",
       "text": [
        "\n",
        "Assinging for relocation...\n",
        "Total currently unplaced: 17279"
       ]
      },
      {
       "output_type": "stream",
       "stream": "stdout",
       "text": [
        "\n",
        "Time to execute model 'households_relocation': 0.69s\n",
        "Running model 'hlcm_simulate'\n",
        "There are 374133 total available units"
       ]
      },
      {
       "output_type": "stream",
       "stream": "stdout",
       "text": [
        "\n",
        "    and 345588 total choosers\n",
        "    but there are 42956 overfull buildings\n",
        "    for a total of 109231 temporarily empty units"
       ]
      },
      {
       "output_type": "stream",
       "stream": "stdout",
       "text": [
        "\n",
        "    in 50770 buildings total in the region\n",
        "Assigned 17279 choosers to new units"
       ]
      },
      {
       "output_type": "stream",
       "stream": "stdout",
       "text": [
        "\n",
        "Total currently unplaced: 0"
       ]
      },
      {
       "output_type": "stream",
       "stream": "stdout",
       "text": [
        "\n",
        "    and there are now 28545 empty units"
       ]
      },
      {
       "output_type": "stream",
       "stream": "stdout",
       "text": [
        "\n",
        "    and 42956 overfull buildings\n",
        "Time to execute model 'hlcm_simulate': 3.21s\n",
        "Running model 'households_transition'\n",
        "345588 agents before transition\n",
        "362867 agents after transition"
       ]
      },
      {
       "output_type": "stream",
       "stream": "stdout",
       "text": [
        "\n",
        "Time to execute model 'households_transition': 0.16s\n",
        "Running model 'jobs_relocation'\n",
        "Total agents: 225439\n",
        "Total currently unplaced: 0"
       ]
      },
      {
       "output_type": "stream",
       "stream": "stdout",
       "text": [
        "\n",
        "Assinging for relocation...\n",
        "Total currently unplaced: 11271"
       ]
      },
      {
       "output_type": "stream",
       "stream": "stdout",
       "text": [
        "\n",
        "Time to execute model 'jobs_relocation': 0.15s\n",
        "Running model 'elcm_simulate'\n",
        "There are 642004 total available units"
       ]
      },
      {
       "output_type": "stream",
       "stream": "stdout",
       "text": [
        "\n",
        "    and 225439 total choosers\n",
        "    but there are 14744 overfull buildings\n",
        "    for a total of 543956 temporarily empty units"
       ]
      },
      {
       "output_type": "stream",
       "stream": "stdout",
       "text": [
        "\n",
        "    in 8520 buildings total in the region\n",
        "Assigned 11271 choosers to new units"
       ]
      },
      {
       "output_type": "stream",
       "stream": "stdout",
       "text": [
        "\n",
        "Total currently unplaced: 0\n",
        "    and there are now 416655 empty units"
       ]
      },
      {
       "output_type": "stream",
       "stream": "stdout",
       "text": [
        "\n",
        "    and 14744 overfull buildings\n",
        "Time to execute model 'elcm_simulate': 3.11s\n",
        "Running model 'jobs_transition'\n",
        "225439 agents before transition\n",
        "236711 agents after transition"
       ]
      },
      {
       "output_type": "stream",
       "stream": "stdout",
       "text": [
        "\n",
        "Time to execute model 'jobs_transition': 0.21s\n",
        "Running model 'feasibility'\n",
        "        max_height  city      max_far  coverage\n",
        "count  6962.000000  6962  6710.000000        36\n",
        "mean     78.663746   101     4.508014         1\n",
        "std      78.340354     0     2.085477         0\n",
        "min       0.000000   101     0.000000         1\n",
        "25%      40.000000   101     3.000000         1\n",
        "50%      65.000000   101     5.000000         1\n",
        "75%      85.000000   101     5.000000         1\n",
        "max     550.000000   101     9.000000         1\n",
        "\n",
        "[8 rows x 4 columns]"
       ]
      },
      {
       "output_type": "stream",
       "stream": "stdout",
       "text": [
        "\n",
        "Describe of the yearly rent by use"
       ]
      },
      {
       "output_type": "stream",
       "stream": "stdout",
       "text": [
        "\n",
        "              retail    industrial         office    residential\n",
        "count  152205.000000  94493.000000  152259.000000  153228.000000\n",
        "mean       24.372495      9.162303      21.745700      19.329203\n",
        "std         3.542073      1.606168       2.976532       5.180867\n",
        "min        18.959521      6.258496      16.531243       1.168603\n",
        "25%        21.438446      7.684496      19.344172      16.951907\n",
        "50%        22.901679      9.001159      20.489489      19.036123\n",
        "75%        28.366444     10.239850      24.614586      21.460213\n",
        "max        35.701767     14.925111      31.440265      40.555074\n",
        "\n",
        "[8 rows x 4 columns]"
       ]
      },
      {
       "output_type": "stream",
       "stream": "stdout",
       "text": [
        "\n",
        "Computing feasibility for form mixedoffice\n",
        "Computing feasibility for form industrial"
       ]
      },
      {
       "output_type": "stream",
       "stream": "stdout",
       "text": [
        "\n",
        "Computing feasibility for form office"
       ]
      },
      {
       "output_type": "stream",
       "stream": "stdout",
       "text": [
        "\n",
        "Computing feasibility for form residential"
       ]
      },
      {
       "output_type": "stream",
       "stream": "stdout",
       "text": [
        "\n",
        "Computing feasibility for form mixedresidential"
       ]
      },
      {
       "output_type": "stream",
       "stream": "stdout",
       "text": [
        "\n",
        "Computing feasibility for form retail"
       ]
      },
      {
       "output_type": "stream",
       "stream": "stdout",
       "text": [
        "\n",
        "Time to execute model 'feasibility': 4.62s"
       ]
      }
     ]
    },
    {
     "cell_type": "code",
     "collapsed": false,
     "input": [],
     "language": "python",
     "metadata": {},
     "outputs": []
    }
   ],
   "metadata": {}
  }
 ]
}