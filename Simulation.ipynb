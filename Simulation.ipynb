{
 "metadata": {
  "name": "",
  "signature": "sha256:12732d41eabd5ef57497d6538785da21d834202e0fdc1d3b46b4d4f8a6c5fe09"
 },
 "nbformat": 3,
 "nbformat_minor": 0,
 "worksheets": [
  {
   "cells": [
    {
     "cell_type": "code",
     "collapsed": true,
     "input": [
      "# %load_ext autoreload\n",
      "# %autoreload 2\n",
      "import models, utils\n",
      "import urbansim.sim.simulation as sim"
     ],
     "language": "python",
     "metadata": {},
     "outputs": [],
     "prompt_number": 1
    },
    {
     "cell_type": "code",
     "collapsed": true,
     "input": [
      "sim.run([\n",
      "    \"rsh_simulate\",              # residential sales hedonic\n",
      "    \"nrh_simulate\",              # non-residential rent hedonic\n",
      "\n",
      "    \"households_relocation\",     # households relocation model\n",
      "    \"hlcm_simulate\",            # households location choice\n",
      "    \"households_transition\",     # households transition\n",
      "\n",
      "    \"jobs_relocation\",           # jobs relocation model\n",
      "    \"elcm_simulate\",             # employment location choice\n",
      "    \"jobs_transition\",           # jobs transition\n",
      "\n",
      "    \"feasibility\",               # compute development feasibility\n",
      "    \"residential_developer\",     # build residential buildings\n",
      "    \"non_residential_developer\", # build non-residential buildings\n",
      "    \"clear_cache\"                # clear the cache each year\n",
      "], years=[2010])"
     ],
     "language": "python",
     "metadata": {},
     "outputs": [
      {
       "output_type": "stream",
       "stream": "stdout",
       "text": [
        "Running year 2010\n",
        "Running model 'rsh_simulate'\n",
        "count      141928.000000\n",
        "mean         1140.760308\n",
        "std         37982.497170\n",
        "min             0.002083\n",
        "25%           258.598616\n",
        "50%           389.863294\n",
        "75%           573.084111\n",
        "max      11468872.489982\n",
        "dtype: float64"
       ]
      },
      {
       "output_type": "stream",
       "stream": "stdout",
       "text": [
        "\n",
        "Time to execute model 'rsh_simulate': 1.13s\n",
        "Running model 'nrh_simulate'\n",
        "count    10803.000000\n",
        "mean        20.703605\n",
        "std          6.843643\n",
        "min          6.728550\n",
        "25%         17.349628\n",
        "50%         20.912791\n",
        "75%         25.020674\n",
        "max         47.347723\n",
        "dtype: float64"
       ]
      },
      {
       "output_type": "stream",
       "stream": "stdout",
       "text": [
        "\n",
        "Time to execute model 'nrh_simulate': 0.68s\n",
        "Running model 'households_relocation'\n",
        "Total agents: 362867\n",
        "Total currently unplaced: 17279"
       ]
      },
      {
       "output_type": "stream",
       "stream": "stdout",
       "text": [
        "\n",
        "Assinging for relocation...\n",
        "Total currently unplaced: 34563"
       ]
      },
      {
       "output_type": "stream",
       "stream": "stdout",
       "text": [
        "\n",
        "Time to execute model 'households_relocation': 0.26s\n",
        "Running model 'hlcm_simulate'\n",
        "There are 432947 total available units"
       ]
      },
      {
       "output_type": "stream",
       "stream": "stdout",
       "text": [
        "\n",
        "    and 362867 total choosers\n",
        "    but there are 39200 overfull buildings\n",
        "    for a total of 161582 temporarily empty units"
       ]
      },
      {
       "output_type": "stream",
       "stream": "stdout",
       "text": [
        "\n",
        "    in 54005 buildings total in the region\n",
        "Assigned 34563 choosers to new units"
       ]
      },
      {
       "output_type": "stream",
       "stream": "stdout",
       "text": [
        "\n",
        "Total currently unplaced: 0"
       ]
      },
      {
       "output_type": "stream",
       "stream": "stdout",
       "text": [
        "\n",
        "    and there are now 70080 empty units"
       ]
      },
      {
       "output_type": "stream",
       "stream": "stdout",
       "text": [
        "\n",
        "    and 39200 overfull buildings\n",
        "Time to execute model 'hlcm_simulate': 2.68s\n",
        "Running model 'households_transition'\n",
        "362867 agents before transition\n",
        "381010 agents after transition"
       ]
      },
      {
       "output_type": "stream",
       "stream": "stdout",
       "text": [
        "\n",
        "Time to execute model 'households_transition': 0.18s\n",
        "Running model 'jobs_relocation'\n",
        "Total agents: 236711\n",
        "Total currently unplaced: 11272"
       ]
      },
      {
       "output_type": "stream",
       "stream": "stdout",
       "text": [
        "\n",
        "Assinging for relocation...\n",
        "Total currently unplaced: 22586"
       ]
      },
      {
       "output_type": "stream",
       "stream": "stdout",
       "text": [
        "\n",
        "Time to execute model 'jobs_relocation': 0.12s\n",
        "Running model 'elcm_simulate'\n",
        "There are 642004 total available units"
       ]
      },
      {
       "output_type": "stream",
       "stream": "stdout",
       "text": [
        "\n",
        "    and 236711 total choosers\n",
        "    but there are 14258 overfull buildings\n",
        "    for a total of 536777 temporarily empty units"
       ]
      },
      {
       "output_type": "stream",
       "stream": "stdout",
       "text": [
        "\n",
        "    in 8578 buildings total in the region\n",
        "Assigned 22586 choosers to new units"
       ]
      },
      {
       "output_type": "stream",
       "stream": "stdout",
       "text": [
        "\n",
        "Total currently unplaced: 0"
       ]
      },
      {
       "output_type": "stream",
       "stream": "stdout",
       "text": [
        "\n",
        "    and there are now 405378 empty units"
       ]
      },
      {
       "output_type": "stream",
       "stream": "stdout",
       "text": [
        "\n",
        "    and 14258 overfull buildings\n",
        "Time to execute model 'elcm_simulate': 3.84s\n",
        "Running model 'jobs_transition'\n",
        "236711 agents before transition\n",
        "248547 agents after transition"
       ]
      },
      {
       "output_type": "stream",
       "stream": "stdout",
       "text": [
        "\n",
        "Time to execute model 'jobs_transition': 0.16s\n",
        "Running model 'feasibility'\n",
        "Describe of the yearly rent by use"
       ]
      },
      {
       "output_type": "stream",
       "stream": "stdout",
       "text": [
        "\n",
        "              retail    industrial         office    residential\n",
        "count  152205.000000  94493.000000  152259.000000  153228.000000\n",
        "mean       24.395272      9.119048      21.765767      19.973649\n",
        "std         3.547083      1.598819       2.979797       5.599688\n",
        "min        18.955317      6.728550      16.496384       1.272930\n",
        "25%        21.461486      7.646546      19.387784      17.041002\n",
        "50%        22.916132      8.951842      20.501756      19.749031\n",
        "75%        28.423999     10.187158      24.602286      22.486363\n",
        "max        36.919483     14.902641      31.218291      76.951139\n",
        "\n",
        "[8 rows x 4 columns]"
       ]
      },
      {
       "output_type": "stream",
       "stream": "stdout",
       "text": [
        "\n",
        "Computing feasibility for form mixedoffice\n",
        "Computing feasibility for form industrial"
       ]
      },
      {
       "output_type": "stream",
       "stream": "stdout",
       "text": [
        "\n",
        "Computing feasibility for form office"
       ]
      },
      {
       "output_type": "stream",
       "stream": "stdout",
       "text": [
        "\n",
        "Computing feasibility for form residential"
       ]
      },
      {
       "output_type": "stream",
       "stream": "stdout",
       "text": [
        "\n",
        "Computing feasibility for form mixedresidential"
       ]
      },
      {
       "output_type": "stream",
       "stream": "stdout",
       "text": [
        "\n",
        "Computing feasibility for form retail"
       ]
      },
      {
       "output_type": "stream",
       "stream": "stdout",
       "text": [
        "\n",
        "Time to execute model 'feasibility': 3.38s"
       ]
      },
      {
       "output_type": "stream",
       "stream": "stdout",
       "text": [
        "\n",
        "Running model 'residential_developer'\n",
        "Number of agents: 381,010"
       ]
      },
      {
       "output_type": "stream",
       "stream": "stdout",
       "text": [
        "\n",
        "Number of agent spaces: 432,947\n",
        "Current vacancy = 0.12\n",
        "Target vacancy = 0.15, target of new units = 15,300\n",
        "27,126 feasible buildings before running developer\n",
        "Sum of net units that are profitable: 242,106"
       ]
      },
      {
       "output_type": "stream",
       "stream": "stdout",
       "text": [
        "\n",
        "Adding 270 buildings with 16,218 residential_units"
       ]
      },
      {
       "output_type": "stream",
       "stream": "stdout",
       "text": [
        "\n",
        "26,856 feasible buildings after running developer\n",
        "Time to execute model 'residential_developer': 0.38s"
       ]
      },
      {
       "output_type": "stream",
       "stream": "stdout",
       "text": [
        "\n",
        "Running model 'non_residential_developer'\n",
        "Number of agents: 248,547"
       ]
      },
      {
       "output_type": "stream",
       "stream": "stdout",
       "text": [
        "\n",
        "Number of agent spaces: 642,004\n",
        "Current vacancy = 0.61\n",
        "Target vacancy = 0.15, target of new units = 0\n",
        "26,856 feasible buildings before running developer\n",
        "Sum of net units that are profitable: 403,029"
       ]
      },
      {
       "output_type": "stream",
       "stream": "stdout",
       "text": [
        "\n",
        "Adding 0 buildings with 0 job_spaces\n",
        "26,856 feasible buildings after running developer\n",
        "Time to execute model 'non_residential_developer': 0.99s"
       ]
      },
      {
       "output_type": "stream",
       "stream": "stdout",
       "text": [
        "\n",
        "Running model 'clear_cache'\n",
        "Time to execute model 'clear_cache': 0.00s\n",
        "Total time to execute year 2010: 13.82s\n"
       ]
      }
     ],
     "prompt_number": 3
    },
    {
     "cell_type": "code",
     "collapsed": false,
     "input": [],
     "language": "python",
     "metadata": {},
     "outputs": [],
     "prompt_number": 2
    }
   ],
   "metadata": {}
  }
 ]
}