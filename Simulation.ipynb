{
 "cells": [
  {
   "cell_type": "code",
   "execution_count": 1,
   "metadata": {
    "tags": []
   },
   "outputs": [],
   "source": [
    "# %load_ext autoreload\n",
    "# %autoreload 2\n",
    "import models, utils\n",
    "import orca"
   ]
  },
  {
   "cell_type": "code",
   "execution_count": 2,
   "metadata": {
    "collapsed": false,
    "jupyter": {
     "outputs_hidden": false
    }
   },
   "outputs": [
    {
     "name": "stdout",
     "output_type": "stream",
     "text": [
      "Running iteration 1 with iteration value 2010\n",
      "Running step 'rsh_simulate'\n",
      "Filling column residential_sales_price with value 0 (14196 values)\n",
      "Filling column non_residential_rent with value 0 (142400 values)\n",
      "Filling column residential_units with value 0 (0 values)\n",
      "Filling column non_residential_sqft with value 0 (1341 values)\n",
      "Filling column year_built with value 1927.0 (3116 values)\n",
      "Filling column building_type_id with value 2.0 (0 values)\n",
      "count    1.407800e+05\n",
      "mean     1.156971e+03\n",
      "std      4.150324e+04\n",
      "min      2.067312e-03\n",
      "25%      2.527274e+02\n",
      "50%      3.799934e+02\n",
      "75%      5.542446e+02\n",
      "max      1.250703e+07\n",
      "dtype: float64\n",
      "Time to execute step 'rsh_simulate': 0.41 s\n",
      "Running step 'nrh_simulate'\n",
      "Filling column job_category with value service (331 values)\n",
      "count    10803.000000\n",
      "mean        20.729909\n",
      "std          6.833292\n",
      "min          6.258496\n",
      "25%         17.431477\n",
      "50%         20.908725\n",
      "75%         25.077906\n",
      "max         47.266957\n",
      "dtype: float64\n",
      "Time to execute step 'nrh_simulate': 0.32 s\n",
      "Running step 'households_relocation'\n",
      "Total agents: 345588\n",
      "Total currently unplaced: 0\n",
      "Assinging for relocation...\n",
      "Total currently unplaced: 17279\n",
      "Time to execute step 'households_relocation': 0.05 s\n",
      "Running step 'hlcm_simulate'\n",
      "There are 374133 total available units\n",
      "    and 345588 total choosers\n",
      "    but there are 43106 overfull buildings\n",
      "    for a total of 109374 temporarily empty units\n",
      "    in 50846 buildings total in the region\n",
      "Assigned 17279 choosers to new units\n",
      "Total currently unplaced: 0\n"
     ]
    },
    {
     "name": "stderr",
     "output_type": "stream",
     "text": [
      "/Library/Frameworks/Python.framework/Versions/3.11/lib/python3.11/site-packages/urbansim/models/dcm.py:59: FutureWarning: The default dtype for empty Series will be 'object' instead of 'float64' in a future version. Specify a dtype explicitly to silence this warning.\n",
      "  choices = pd.Series(index=chooser_ids)\n",
      "/Library/Frameworks/Python.framework/Versions/3.11/lib/python3.11/site-packages/urbansim/models/dcm.py:59: FutureWarning: The default dtype for empty Series will be 'object' instead of 'float64' in a future version. Specify a dtype explicitly to silence this warning.\n",
      "  choices = pd.Series(index=chooser_ids)\n",
      "/Library/Frameworks/Python.framework/Versions/3.11/lib/python3.11/site-packages/urbansim/models/dcm.py:59: FutureWarning: The default dtype for empty Series will be 'object' instead of 'float64' in a future version. Specify a dtype explicitly to silence this warning.\n",
      "  choices = pd.Series(index=chooser_ids)\n",
      "/Library/Frameworks/Python.framework/Versions/3.11/lib/python3.11/site-packages/urbansim/models/dcm.py:59: FutureWarning: The default dtype for empty Series will be 'object' instead of 'float64' in a future version. Specify a dtype explicitly to silence this warning.\n",
      "  choices = pd.Series(index=chooser_ids)\n"
     ]
    },
    {
     "name": "stdout",
     "output_type": "stream",
     "text": [
      "    and there are now 28545.0 empty units    and 43105 overfull buildings\n",
      "Time to execute step 'hlcm_simulate': 0.66 s\n",
      "Running step 'households_transition'\n",
      "345588 agents before transition\n",
      "362867 agents after transition\n",
      "Time to execute step 'households_transition': 0.02 s\n",
      "Running step 'jobs_relocation'\n",
      "Total agents: 225439\n",
      "Total currently unplaced: 0\n",
      "Assinging for relocation...\n",
      "Total currently unplaced: 11271\n",
      "Time to execute step 'jobs_relocation': 0.02 s\n",
      "Running step 'elcm_simulate'\n",
      "There are 642004 total available units\n",
      "    and 225439 total choosers\n",
      "    but there are 14743 overfull buildings\n",
      "    for a total of 544037 temporarily empty units\n",
      "    in 8510 buildings total in the region\n",
      "Assigned 11271 choosers to new units\n"
     ]
    },
    {
     "name": "stderr",
     "output_type": "stream",
     "text": [
      "/Library/Frameworks/Python.framework/Versions/3.11/lib/python3.11/site-packages/urbansim/models/dcm.py:59: FutureWarning: The default dtype for empty Series will be 'object' instead of 'float64' in a future version. Specify a dtype explicitly to silence this warning.\n",
      "  choices = pd.Series(index=chooser_ids)\n",
      "/Library/Frameworks/Python.framework/Versions/3.11/lib/python3.11/site-packages/urbansim/models/dcm.py:59: FutureWarning: The default dtype for empty Series will be 'object' instead of 'float64' in a future version. Specify a dtype explicitly to silence this warning.\n",
      "  choices = pd.Series(index=chooser_ids)\n",
      "/Library/Frameworks/Python.framework/Versions/3.11/lib/python3.11/site-packages/urbansim/models/dcm.py:59: FutureWarning: The default dtype for empty Series will be 'object' instead of 'float64' in a future version. Specify a dtype explicitly to silence this warning.\n",
      "  choices = pd.Series(index=chooser_ids)\n",
      "/Library/Frameworks/Python.framework/Versions/3.11/lib/python3.11/site-packages/urbansim/models/dcm.py:59: FutureWarning: The default dtype for empty Series will be 'object' instead of 'float64' in a future version. Specify a dtype explicitly to silence this warning.\n",
      "  choices = pd.Series(index=chooser_ids)\n",
      "/Library/Frameworks/Python.framework/Versions/3.11/lib/python3.11/site-packages/urbansim/developer/sqftproforma.py:394: SettingWithCopyWarning: \n",
      "A value is trying to be set on a copy of a slice from a DataFrame\n",
      "\n",
      "See the caveats in the documentation: https://pandas.pydata.org/pandas-docs/stable/user_guide/indexing.html#returning-a-view-versus-a-copy\n",
      "  df['ave_cost_sqft'][c.fars > c.max_industrial_height] = np.nan\n",
      "/Library/Frameworks/Python.framework/Versions/3.11/lib/python3.11/site-packages/urbansim/developer/sqftproforma.py:392: SettingWithCopyWarning: \n",
      "A value is trying to be set on a copy of a slice from a DataFrame\n",
      "\n",
      "See the caveats in the documentation: https://pandas.pydata.org/pandas-docs/stable/user_guide/indexing.html#returning-a-view-versus-a-copy\n",
      "  df['ave_cost_sqft'][c.fars > c.max_retail_height] = np.nan\n"
     ]
    },
    {
     "name": "stdout",
     "output_type": "stream",
     "text": [
      "Total currently unplaced: 0\n",
      "    and there are now 416565.0 empty units    and 14742 overfull buildings\n",
      "Time to execute step 'elcm_simulate': 0.66 s\n",
      "Running step 'jobs_transition'\n",
      "225439 agents before transition\n",
      "236711 agents after transition\n",
      "Time to execute step 'jobs_transition': 0.02 s\n",
      "Running step 'feasibility'\n",
      "Describe of the yearly rent by use\n",
      "              retail    industrial         office    residential\n",
      "count  152205.000000  94493.000000  152259.000000  153228.000000\n",
      "mean       23.867557      8.650493      21.274562      19.306885\n",
      "std         3.553082      1.641869       2.979941       5.179699\n",
      "min        18.000000      6.000000      16.000000       1.150000\n",
      "25%        21.000000      7.000000      19.000000      16.925000\n",
      "50%        22.000000      8.500000      20.000000      19.000000\n",
      "75%        28.000000     10.000000      24.000000      21.450000\n",
      "max        35.000000     14.500000      31.000000      40.550000\n",
      "Computing feasibility for form retail\n",
      "Computing feasibility for form industrial\n",
      "Computing feasibility for form office\n",
      "Computing feasibility for form residential\n",
      "Computing feasibility for form mixedresidential\n",
      "Computing feasibility for form mixedoffice\n",
      "Time to execute step 'feasibility': 1.31 s\n",
      "Running step 'residential_developer'\n",
      "Number of agents: 362,867\n",
      "Number of agent spaces: 374,133\n",
      "Current vacancy = 0.03\n",
      "Target vacancy = 0.15, target of new units = 52,769\n",
      "4,217 feasible buildings before running developer\n",
      "Sum of net units that are profitable: 45,822\n",
      "WARNING THERE WERE NOT ENOUGH PROFITABLE UNITS TO MATCH DEMAND\n",
      "Adding 2,557 buildings with 52,280 residential_units\n",
      "1,660 feasible buildings after running developer\n",
      "Time to execute step 'residential_developer': 0.09 s\n",
      "Running step 'non_residential_developer'\n",
      "Number of agents: 236,711\n",
      "Number of agent spaces: 642,004\n",
      "Current vacancy = 0.63\n",
      "Target vacancy = 0.15, target of new units = 0\n",
      "1,660 feasible buildings before running developer\n",
      "Sum of net units that are profitable: 95,189\n",
      "Adding 0 buildings with 0 job_spaces\n",
      "1,660 feasible buildings after running developer\n",
      "Time to execute step 'non_residential_developer': 0.14 s\n",
      "Total time to execute iteration 1 with iteration value 2010: 3.71 s\n"
     ]
    }
   ],
   "source": [
    "orca.run([\n",
    "    \"rsh_simulate\",              # residential sales hedonic\n",
    "    \"nrh_simulate\",              # non-residential rent hedonic\n",
    "\n",
    "    \"households_relocation\",     # households relocation model\n",
    "    \"hlcm_simulate\",            # households location choice\n",
    "    \"households_transition\",     # households transition\n",
    "\n",
    "    \"jobs_relocation\",           # jobs relocation model\n",
    "    \"elcm_simulate\",             # employment location choice\n",
    "    \"jobs_transition\",           # jobs transition\n",
    "\n",
    "    \"feasibility\",               # compute development feasibility\n",
    "    \"residential_developer\",     # build residential buildings\n",
    "    \"non_residential_developer\", # build non-residential buildings\n",
    "], iter_vars=[2010])"
   ]
  },
  {
   "cell_type": "code",
   "execution_count": null,
   "metadata": {
    "collapsed": false,
    "jupyter": {
     "outputs_hidden": false
    }
   },
   "outputs": [],
   "source": []
  },
  {
   "cell_type": "code",
   "execution_count": null,
   "metadata": {},
   "outputs": [],
   "source": []
  }
 ],
 "metadata": {
  "kernelspec": {
   "display_name": "Python 3 (ipykernel)",
   "language": "python",
   "name": "python3"
  },
  "language_info": {
   "codemirror_mode": {
    "name": "ipython",
    "version": 3
   },
   "file_extension": ".py",
   "mimetype": "text/x-python",
   "name": "python",
   "nbconvert_exporter": "python",
   "pygments_lexer": "ipython3",
   "version": "3.11.0"
  }
 },
 "nbformat": 4,
 "nbformat_minor": 4
}
