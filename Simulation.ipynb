{
 "metadata": {
  "name": "",
  "signature": "sha256:ba12ddbb9ffd51641044642df72466b3310948f12f5f0ff67ea901815550f06a"
 },
 "nbformat": 3,
 "nbformat_minor": 0,
 "worksheets": [
  {
   "cells": [
    {
     "cell_type": "code",
     "collapsed": true,
     "input": [
      "%load_ext autoreload\n",
      "%autoreload 2\n",
      "import models, utils\n",
      "import urbansim.sim.simulation as sim"
     ],
     "language": "python",
     "metadata": {},
     "outputs": [],
     "prompt_number": 1
    },
    {
     "cell_type": "code",
     "collapsed": true,
     "input": [
      "in_year, out_year = 2010, 2013\n",
      "\n",
      "# one time for base year indicators\n",
      "sim.run([\n",
      "    \"diagnostic_output\"\n",
      "], years=[in_year-1])\n",
      "\n",
      "sim.run([\n",
      "    \"rsh_simulate\",              # residential sales hedonic\n",
      "    \"nrh_simulate\",              # non-residential rent hedonic\n",
      "\n",
      "    \"households_relocation\",     # households relocation model\n",
      "    \"hlcm_simulate\",            # households location choice\n",
      "    \"households_transition\",     # households transition\n",
      "\n",
      "    \"jobs_relocation\",           # jobs relocation model\n",
      "    \"elcm_simulate\",             # employment location choice\n",
      "    \"jobs_transition\",           # jobs transition\n",
      "\n",
      "    \"feasibility\",               # compute development feasibility\n",
      "    \"residential_developer\",     # build residential buildings\n",
      "    \"non_residential_developer\", # build non-residential buildings\n",
      "    \"clear_cache\",               # clear the cache each year\n",
      "    \"diagnostic_output\",\n",
      "    \"pusher\"\n",
      "], years=range(in_year, out_year))"
     ],
     "language": "python",
     "metadata": {},
     "outputs": [
      {
       "output_type": "stream",
       "stream": "stdout",
       "text": [
        "Running year 2009\n",
        "Running model 'diagnostic_output'\n",
        "Filling column non_residential_rent with value 0 (0 values)"
       ]
      },
      {
       "output_type": "stream",
       "stream": "stdout",
       "text": [
        "\n",
        "Filling column residential_units with value 0 (0 values)\n",
        "Filling column year_built with value 1927.0 (3116 values)\n",
        "Filling column residential_sales_price with value 0 (0 values)\n",
        "Filling column non_residential_sqft with value 0 (1341 values)\n",
        "Filling column building_type_id with value 2.0 (0 values)"
       ]
      },
      {
       "output_type": "stream",
       "stream": "stdout",
       "text": [
        "\n",
        "Filling column job_category with value service (331 values)"
       ]
      },
      {
       "output_type": "stream",
       "stream": "stdout",
       "text": [
        "\n",
        "Time to execute model 'diagnostic_output': 2.27s"
       ]
      },
      {
       "output_type": "stream",
       "stream": "stdout",
       "text": [
        "\n",
        "Total time to execute year 2009: 2.27s\n",
        "Running year 2010\n",
        "Running model 'rsh_simulate'\n",
        "count      140780.000000\n",
        "mean         1156.971200\n",
        "std         41503.246343\n",
        "min             0.002067\n",
        "25%           252.727481\n",
        "50%           379.993499\n",
        "75%           554.244653\n",
        "max      12507033.315516\n",
        "dtype: float64"
       ]
      },
      {
       "output_type": "stream",
       "stream": "stdout",
       "text": [
        "\n",
        "Time to execute model 'rsh_simulate': 0.78s\n",
        "Running model 'nrh_simulate'\n",
        "count    10803.000000\n",
        "mean        20.729909\n",
        "std          6.833292\n",
        "min          6.258496\n",
        "25%         17.431477\n",
        "50%         20.908725\n",
        "75%         25.077906\n",
        "max         47.266957\n",
        "dtype: float64"
       ]
      },
      {
       "output_type": "stream",
       "stream": "stdout",
       "text": [
        "\n",
        "Time to execute model 'nrh_simulate': 0.49s\n",
        "Running model 'households_relocation'\n",
        "Total agents: 345588\n",
        "Total currently unplaced: 0"
       ]
      },
      {
       "output_type": "stream",
       "stream": "stdout",
       "text": [
        "\n",
        "Assinging for relocation...\n",
        "Total currently unplaced: 17279"
       ]
      },
      {
       "output_type": "stream",
       "stream": "stdout",
       "text": [
        "\n",
        "Time to execute model 'households_relocation': 0.28s\n",
        "Running model 'hlcm_simulate'\n",
        "There are 374133 total available units"
       ]
      },
      {
       "output_type": "stream",
       "stream": "stdout",
       "text": [
        "\n",
        "    and 345588 total choosers\n",
        "    but there are 42973 overfull buildings\n",
        "    for a total of 109395 temporarily empty units"
       ]
      },
      {
       "output_type": "stream",
       "stream": "stdout",
       "text": [
        "\n",
        "    in 50854 buildings total in the region\n",
        "Assigned 17279 choosers to new units"
       ]
      },
      {
       "output_type": "stream",
       "stream": "stdout",
       "text": [
        "\n",
        "Total currently unplaced: 0"
       ]
      },
      {
       "output_type": "stream",
       "stream": "stdout",
       "text": [
        "\n",
        "    and there are now 28545 empty units"
       ]
      },
      {
       "output_type": "stream",
       "stream": "stdout",
       "text": [
        "\n",
        "    and 42973 overfull buildings\n",
        "Time to execute model 'hlcm_simulate': 3.46s\n",
        "Running model 'households_transition'\n",
        "345588 agents before transition\n",
        "352500 agents after transition"
       ]
      },
      {
       "output_type": "stream",
       "stream": "stdout",
       "text": [
        "\n",
        "Time to execute model 'households_transition': 0.12s\n",
        "Running model 'jobs_relocation'\n",
        "Total agents: 225439\n",
        "Total currently unplaced: 0\n",
        "Assinging for relocation...\n",
        "Total currently unplaced: 11271"
       ]
      },
      {
       "output_type": "stream",
       "stream": "stdout",
       "text": [
        "\n",
        "Time to execute model 'jobs_relocation': 0.10s\n",
        "Running model 'elcm_simulate'\n",
        "There are 642004 total available units"
       ]
      },
      {
       "output_type": "stream",
       "stream": "stdout",
       "text": [
        "\n",
        "    and 225439 total choosers\n",
        "    but there are 14680 overfull buildings\n",
        "    for a total of 543901 temporarily empty units"
       ]
      },
      {
       "output_type": "stream",
       "stream": "stdout",
       "text": [
        "\n",
        "    in 8505 buildings total in the region\n",
        "Assigned 11271 choosers to new units"
       ]
      },
      {
       "output_type": "stream",
       "stream": "stdout",
       "text": [
        "\n",
        "Total currently unplaced: 0\n",
        "    and there are now 416656 empty units"
       ]
      },
      {
       "output_type": "stream",
       "stream": "stdout",
       "text": [
        "\n",
        "    and 14680 overfull buildings\n",
        "Time to execute model 'elcm_simulate': 2.38s\n",
        "Running model 'jobs_transition'\n",
        "225439 agents before transition\n",
        "229948 agents after transition"
       ]
      },
      {
       "output_type": "stream",
       "stream": "stdout",
       "text": [
        "\n",
        "Time to execute model 'jobs_transition': 0.11s\n",
        "Running model 'feasibility'\n",
        "Describe of the yearly rent by use"
       ]
      },
      {
       "output_type": "stream",
       "stream": "stdout",
       "text": [
        "\n",
        "             retail    industrial        office   residential\n",
        "count  47967.000000  24278.000000  47588.000000  48220.000000\n",
        "mean      25.906138      9.139716     22.657248     32.977795\n",
        "std        3.990524      1.681738      3.280794     54.910727\n",
        "min       18.959521      6.761234     16.531243      2.165061\n",
        "25%       21.967369      7.598586     19.377062     24.994565\n",
        "50%       26.090178      8.974031     23.245412     27.089827\n",
        "75%       29.119849     10.239850     25.703121     33.737613\n",
        "max       35.701767     14.925111     31.440265   1864.723048\n",
        "\n",
        "[8 rows x 4 columns]"
       ]
      },
      {
       "output_type": "stream",
       "stream": "stdout",
       "text": [
        "\n",
        "Computing feasibility for form mixedoffice\n",
        "Computing feasibility for form industrial"
       ]
      },
      {
       "output_type": "stream",
       "stream": "stdout",
       "text": [
        "\n",
        "Computing feasibility for form office"
       ]
      },
      {
       "output_type": "stream",
       "stream": "stdout",
       "text": [
        "\n",
        "Computing feasibility for form residential"
       ]
      },
      {
       "output_type": "stream",
       "stream": "stdout",
       "text": [
        "\n",
        "Computing feasibility for form mixedresidential"
       ]
      },
      {
       "output_type": "stream",
       "stream": "stdout",
       "text": [
        "\n",
        "Computing feasibility for form retail"
       ]
      },
      {
       "output_type": "stream",
       "stream": "stdout",
       "text": [
        "\n",
        "Time to execute model 'feasibility': 2.87s"
       ]
      },
      {
       "output_type": "stream",
       "stream": "stdout",
       "text": [
        "\n",
        "Running model 'residential_developer'\n",
        "Number of agents: 352,500"
       ]
      },
      {
       "output_type": "stream",
       "stream": "stdout",
       "text": [
        "\n",
        "Number of agent spaces: 374,133\n",
        "Current vacancy = 0.06\n",
        "Target vacancy = 0.06, target of new units = 867\n",
        "2,941 feasible buildings before running developer\n",
        "Sum of net units that are profitable: 27,705\n",
        "Adding 13 buildings with 1,148 residential_units\n",
        "2,928 feasible buildings after running developer\n",
        "Unplaced households before: 6912"
       ]
      },
      {
       "output_type": "stream",
       "stream": "stdout",
       "text": [
        "\n",
        "Unplaced households after: 6914\n",
        "Unplaced jobs before: 4509"
       ]
      },
      {
       "output_type": "stream",
       "stream": "stdout",
       "text": [
        "\n",
        "Unplaced jobs after: 6084\n",
        "Time to execute model 'residential_developer': 0.42s\n",
        "Running model 'non_residential_developer'\n",
        "Number of agents: 229,948"
       ]
      },
      {
       "output_type": "stream",
       "stream": "stdout",
       "text": [
        "\n",
        "Number of agent spaces: 635,816\n",
        "Current vacancy = 0.64\n",
        "Target vacancy = 0.63, target of new units = 0\n",
        "2,928 feasible buildings before running developer\n",
        "Sum of net units that are profitable: 43,535"
       ]
      },
      {
       "output_type": "stream",
       "stream": "stdout",
       "text": [
        "\n",
        "Time to execute model 'non_residential_developer': 0.32s\n",
        "Running model 'clear_cache'\n",
        "Time to execute model 'clear_cache': 0.00s\n",
        "Running model 'diagnostic_output'\n",
        "Time to execute model 'diagnostic_output': 1.53s"
       ]
      },
      {
       "output_type": "stream",
       "stream": "stdout",
       "text": [
        "\n",
        "Running model 'pusher'\n",
        "Time to execute model 'pusher': 1.04s"
       ]
      },
      {
       "output_type": "stream",
       "stream": "stdout",
       "text": [
        "\n",
        "Total time to execute year 2010: 13.90s\n",
        "Running year 2011\n",
        "Running model 'rsh_simulate'\n",
        "count      140792.000000\n",
        "mean         1159.038633\n",
        "std         39713.520059\n",
        "min             0.002099\n",
        "25%           256.939046\n",
        "50%           385.741337\n",
        "75%           562.258850\n",
        "max      11847574.699542\n",
        "dtype: float64"
       ]
      },
      {
       "output_type": "stream",
       "stream": "stdout",
       "text": [
        "\n",
        "Time to execute model 'rsh_simulate': 0.84s\n",
        "Running model 'nrh_simulate'\n",
        "count    10792.000000\n",
        "mean        20.692840\n",
        "std          6.844232\n",
        "min          6.227476\n",
        "25%         17.354960\n",
        "50%         20.896209\n",
        "75%         25.010109\n",
        "max         47.386572\n",
        "dtype: float64"
       ]
      },
      {
       "output_type": "stream",
       "stream": "stdout",
       "text": [
        "\n",
        "Time to execute model 'nrh_simulate': 0.43s\n",
        "Running model 'households_relocation'\n",
        "Total agents: 352500\n",
        "Total currently unplaced: 6914\n",
        "Assinging for relocation...\n",
        "Total currently unplaced: 24166"
       ]
      },
      {
       "output_type": "stream",
       "stream": "stdout",
       "text": [
        "\n",
        "Time to execute model 'households_relocation': 0.22s\n",
        "Running model 'hlcm_simulate'\n",
        "There are 375268 total available units"
       ]
      },
      {
       "output_type": "stream",
       "stream": "stdout",
       "text": [
        "\n",
        "    and 352500 total choosers\n",
        "    but there are 39143 overfull buildings\n",
        "    for a total of 103944 temporarily empty units"
       ]
      },
      {
       "output_type": "stream",
       "stream": "stdout",
       "text": [
        "\n",
        "    in 52912 buildings total in the region\n",
        "Assigned 24166 choosers to new units"
       ]
      },
      {
       "output_type": "stream",
       "stream": "stdout",
       "text": [
        "\n",
        "Total currently unplaced: 0"
       ]
      },
      {
       "output_type": "stream",
       "stream": "stdout",
       "text": [
        "\n",
        "    and there are now 22768 empty units"
       ]
      },
      {
       "output_type": "stream",
       "stream": "stdout",
       "text": [
        "\n",
        "    and 39143 overfull buildings\n",
        "Time to execute model 'hlcm_simulate': 2.59s\n",
        "Running model 'households_transition'\n",
        "352500 agents before transition\n",
        "359550 agents after transition"
       ]
      },
      {
       "output_type": "stream",
       "stream": "stdout",
       "text": [
        "\n",
        "Time to execute model 'households_transition': 0.11s\n",
        "Running model 'jobs_relocation'\n",
        "Total agents: 229948\n",
        "Total currently unplaced: 6084\n",
        "Assinging for relocation...\n",
        "Total currently unplaced: 17263"
       ]
      },
      {
       "output_type": "stream",
       "stream": "stdout",
       "text": [
        "\n",
        "Time to execute model 'jobs_relocation': 0.11s\n",
        "Running model 'elcm_simulate'\n",
        "There are 635816 total available units"
       ]
      },
      {
       "output_type": "stream",
       "stream": "stdout",
       "text": [
        "\n",
        "    and 229948 total choosers\n",
        "    but there are 14263 overfull buildings\n",
        "    for a total of 531754 temporarily empty units"
       ]
      },
      {
       "output_type": "stream",
       "stream": "stdout",
       "text": [
        "\n",
        "    in 8565 buildings total in the region\n",
        "Assigned 17263 choosers to new units"
       ]
      },
      {
       "output_type": "stream",
       "stream": "stdout",
       "text": [
        "\n",
        "Total currently unplaced: 0\n",
        "    and there are now 405954 empty units"
       ]
      },
      {
       "output_type": "stream",
       "stream": "stdout",
       "text": [
        "\n",
        "    and 14263 overfull buildings\n",
        "Time to execute model 'elcm_simulate': 2.15s\n",
        "Running model 'jobs_transition'\n",
        "229948 agents before transition\n",
        "234547 agents after transition"
       ]
      },
      {
       "output_type": "stream",
       "stream": "stdout",
       "text": [
        "\n",
        "Time to execute model 'jobs_transition': 0.08s\n",
        "Running model 'feasibility'\n",
        "Describe of the yearly rent by use"
       ]
      },
      {
       "output_type": "stream",
       "stream": "stdout",
       "text": [
        "\n",
        "             retail    industrial        office   residential\n",
        "count  47954.000000  24265.000000  47575.000000  48207.000000\n",
        "mean      25.931425      9.090368     22.678968     32.946242\n",
        "std        3.997771      1.668141      3.288437     42.877548\n",
        "min       19.094791      6.682008     16.377667      2.476921\n",
        "25%       21.970295      7.548283     19.380644     25.533418\n",
        "50%       26.014806      8.923121     23.292211     27.220224\n",
        "75%       29.150572     10.202462     25.749301     34.626777\n",
        "max       35.764027     14.873281     30.969254   1608.836702\n",
        "\n",
        "[8 rows x 4 columns]\n",
        "Computing feasibility for form mixedoffice\n",
        "Computing feasibility for form industrial"
       ]
      },
      {
       "output_type": "stream",
       "stream": "stdout",
       "text": [
        "\n",
        "Computing feasibility for form office"
       ]
      },
      {
       "output_type": "stream",
       "stream": "stdout",
       "text": [
        "\n",
        "Computing feasibility for form residential"
       ]
      },
      {
       "output_type": "stream",
       "stream": "stdout",
       "text": [
        "\n",
        "Computing feasibility for form mixedresidential"
       ]
      },
      {
       "output_type": "stream",
       "stream": "stdout",
       "text": [
        "\n",
        "Computing feasibility for form retail"
       ]
      },
      {
       "output_type": "stream",
       "stream": "stdout",
       "text": [
        "\n",
        "Time to execute model 'feasibility': 1.85s"
       ]
      },
      {
       "output_type": "stream",
       "stream": "stdout",
       "text": [
        "\n",
        "Running model 'residential_developer'\n",
        "Number of agents: 359,550"
       ]
      },
      {
       "output_type": "stream",
       "stream": "stdout",
       "text": [
        "\n",
        "Number of agent spaces: 375,268\n",
        "Current vacancy = 0.04\n",
        "Target vacancy = 0.06, target of new units = 7,232\n",
        "2,956 feasible buildings before running developer\n",
        "Sum of net units that are profitable: 26,621\n",
        "Adding 74 buildings with 8,407 residential_units\n",
        "2,882 feasible buildings after running developer\n",
        "Unplaced households before: 7050"
       ]
      },
      {
       "output_type": "stream",
       "stream": "stdout",
       "text": [
        "\n",
        "Unplaced households after: 7569\n",
        "Unplaced jobs before: 4599"
       ]
      },
      {
       "output_type": "stream",
       "stream": "stdout",
       "text": [
        "\n",
        "Unplaced jobs after: 8123\n",
        "Time to execute model 'residential_developer': 0.37s\n",
        "Running model 'non_residential_developer'\n",
        "Number of agents: 234,547"
       ]
      },
      {
       "output_type": "stream",
       "stream": "stdout",
       "text": [
        "\n",
        "Number of agent spaces: 621,020\n",
        "Current vacancy = 0.62\n",
        "Target vacancy = 0.63, target of new units = 12,890\n",
        "2,882 feasible buildings before running developer\n",
        "Sum of net units that are profitable: 35,235"
       ]
      },
      {
       "output_type": "stream",
       "stream": "stdout",
       "text": [
        "\n",
        "Adding 66 buildings with 14,584 job_spaces\n",
        "2,816 feasible buildings after running developer\n",
        "Unplaced households before: 7569"
       ]
      },
      {
       "output_type": "stream",
       "stream": "stdout",
       "text": [
        "\n",
        "Unplaced households after: 7972\n",
        "Unplaced jobs before: 8123\n",
        "Unplaced jobs after: 8942"
       ]
      },
      {
       "output_type": "stream",
       "stream": "stdout",
       "text": [
        "\n",
        "Time to execute model 'non_residential_developer': 0.49s\n",
        "Running model 'clear_cache'\n",
        "Time to execute model 'clear_cache': 0.00s\n",
        "Running model 'diagnostic_output'\n",
        "Time to execute model 'diagnostic_output': 1.57s"
       ]
      },
      {
       "output_type": "stream",
       "stream": "stdout",
       "text": [
        "\n",
        "Running model 'pusher'\n",
        "Time to execute model 'pusher': 1.11s"
       ]
      },
      {
       "output_type": "stream",
       "stream": "stdout",
       "text": [
        "\n",
        "Total time to execute year 2011: 11.92s\n",
        "Running year 2012\n",
        "Running model 'rsh_simulate'\n",
        "count      140829.000000\n",
        "mean         1149.824978\n",
        "std         37927.526162\n",
        "min             0.002137\n",
        "25%           261.813362\n",
        "50%           393.204938\n",
        "75%           573.212169\n",
        "max      11161584.618525\n",
        "dtype: float64"
       ]
      },
      {
       "output_type": "stream",
       "stream": "stdout",
       "text": [
        "\n",
        "Time to execute model 'rsh_simulate': 0.83s\n",
        "Running model 'nrh_simulate'\n",
        "count    10746.000000\n",
        "mean        20.692966\n",
        "std          6.844043\n",
        "min          6.287094\n",
        "25%         17.531865\n",
        "50%         20.878330\n",
        "75%         24.937756\n",
        "max         47.311831\n",
        "dtype: float64"
       ]
      },
      {
       "output_type": "stream",
       "stream": "stdout",
       "text": [
        "\n",
        "Time to execute model 'nrh_simulate': 0.40s\n",
        "Running model 'households_relocation'\n",
        "Total agents: 359550\n",
        "Total currently unplaced: 7972"
       ]
      },
      {
       "output_type": "stream",
       "stream": "stdout",
       "text": [
        "\n",
        "Assinging for relocation...\n",
        "Total currently unplaced: 25589"
       ]
      },
      {
       "output_type": "stream",
       "stream": "stdout",
       "text": [
        "\n",
        "Time to execute model 'households_relocation': 0.48s\n",
        "Running model 'hlcm_simulate'\n",
        "There are 382259 total available units"
       ]
      },
      {
       "output_type": "stream",
       "stream": "stdout",
       "text": [
        "\n",
        "    and 359550 total choosers\n",
        "    but there are 35720 overfull buildings\n",
        "    for a total of 99471 temporarily empty units"
       ]
      },
      {
       "output_type": "stream",
       "stream": "stdout",
       "text": [
        "\n",
        "    in 52460 buildings total in the region\n",
        "Assigned 25589 choosers to new units"
       ]
      },
      {
       "output_type": "stream",
       "stream": "stdout",
       "text": [
        "\n",
        "Total currently unplaced: 0"
       ]
      },
      {
       "output_type": "stream",
       "stream": "stdout",
       "text": [
        "\n",
        "    and there are now 22709 empty units"
       ]
      },
      {
       "output_type": "stream",
       "stream": "stdout",
       "text": [
        "\n",
        "    and 35720 overfull buildings\n",
        "Time to execute model 'hlcm_simulate': 2.30s\n",
        "Running model 'households_transition'\n",
        "359550 agents before transition\n",
        "366741 agents after transition"
       ]
      },
      {
       "output_type": "stream",
       "stream": "stdout",
       "text": [
        "\n",
        "Time to execute model 'households_transition': 0.10s\n",
        "Running model 'jobs_relocation'\n",
        "Total agents: 234547\n",
        "Total currently unplaced: 8942\n",
        "Assinging for relocation...\n",
        "Total currently unplaced: 20234"
       ]
      },
      {
       "output_type": "stream",
       "stream": "stdout",
       "text": [
        "\n",
        "Time to execute model 'jobs_relocation': 0.12s\n",
        "Running model 'elcm_simulate'\n",
        "There are 634280 total available units"
       ]
      },
      {
       "output_type": "stream",
       "stream": "stdout",
       "text": [
        "\n",
        "    and 234547 total choosers\n",
        "    but there are 13797 overfull buildings\n",
        "    for a total of 520944 temporarily empty units"
       ]
      },
      {
       "output_type": "stream",
       "stream": "stdout",
       "text": [
        "\n",
        "    in 8606 buildings total in the region\n",
        "Assigned 20234 choosers to new units"
       ]
      },
      {
       "output_type": "stream",
       "stream": "stdout",
       "text": [
        "\n",
        "Total currently unplaced: 0\n",
        "    and there are now 399816 empty units"
       ]
      },
      {
       "output_type": "stream",
       "stream": "stdout",
       "text": [
        "\n",
        "    and 13797 overfull buildings\n",
        "Time to execute model 'elcm_simulate': 2.15s\n",
        "Running model 'jobs_transition'\n",
        "234547 agents before transition\n",
        "239238 agents after transition"
       ]
      },
      {
       "output_type": "stream",
       "stream": "stdout",
       "text": [
        "\n",
        "Time to execute model 'jobs_transition': 0.11s\n",
        "Running model 'feasibility'\n",
        "Describe of the yearly rent by use"
       ]
      },
      {
       "output_type": "stream",
       "stream": "stdout",
       "text": [
        "\n",
        "             retail    industrial        office   residential\n",
        "count  47814.000000  24125.000000  47435.000000  48067.000000\n",
        "mean      25.965476      9.018047     22.751009     32.263364\n",
        "std        4.000496      1.653825      3.337226     15.315242\n",
        "min       19.236309      6.640885     16.308632      2.476921\n",
        "25%       22.013717      7.503915     19.424291     26.033347\n",
        "50%       26.047216      8.851620     23.345393     27.734286\n",
        "75%       29.196456     10.127242     25.786804     35.635821\n",
        "max       35.705140     14.798029     30.864663    333.126880\n",
        "\n",
        "[8 rows x 4 columns]\n",
        "Computing feasibility for form mixedoffice\n",
        "Computing feasibility for form industrial"
       ]
      },
      {
       "output_type": "stream",
       "stream": "stdout",
       "text": [
        "\n",
        "Computing feasibility for form office"
       ]
      },
      {
       "output_type": "stream",
       "stream": "stdout",
       "text": [
        "\n",
        "Computing feasibility for form residential"
       ]
      },
      {
       "output_type": "stream",
       "stream": "stdout",
       "text": [
        "\n",
        "Computing feasibility for form mixedresidential"
       ]
      },
      {
       "output_type": "stream",
       "stream": "stdout",
       "text": [
        "\n",
        "Computing feasibility for form retail"
       ]
      },
      {
       "output_type": "stream",
       "stream": "stdout",
       "text": [
        "\n",
        "Time to execute model 'feasibility': 1.80s"
       ]
      },
      {
       "output_type": "stream",
       "stream": "stdout",
       "text": [
        "\n",
        "Running model 'residential_developer'\n",
        "Number of agents: 366,741"
       ]
      },
      {
       "output_type": "stream",
       "stream": "stdout",
       "text": [
        "\n",
        "Number of agent spaces: 382,259\n",
        "Current vacancy = 0.04\n",
        "Target vacancy = 0.06, target of new units = 7,891\n",
        "2,848 feasible buildings before running developer\n",
        "Sum of net units that are profitable: 15,459\n",
        "Adding 259 buildings with 9,109 residential_units\n",
        "2,589 feasible buildings after running developer\n",
        "Unplaced households before: 7191"
       ]
      },
      {
       "output_type": "stream",
       "stream": "stdout",
       "text": [
        "\n",
        "Unplaced households after: 8042\n",
        "Unplaced jobs before: 4691\n",
        "Unplaced jobs after: 7838"
       ]
      },
      {
       "output_type": "stream",
       "stream": "stdout",
       "text": [
        "\n",
        "Time to execute model 'residential_developer': 0.39s\n",
        "Running model 'non_residential_developer'\n",
        "Number of agents: 239,238"
       ]
      },
      {
       "output_type": "stream",
       "stream": "stdout",
       "text": [
        "\n",
        "Number of agent spaces: 622,778\n",
        "Current vacancy = 0.62\n",
        "Target vacancy = 0.63, target of new units = 23,811\n",
        "2,589 feasible buildings before running developer\n",
        "Sum of net units that are profitable: 15,061"
       ]
      },
      {
       "output_type": "stream",
       "stream": "stdout",
       "text": [
        "\n",
        "WARNING THERE WERE NOT ENOUGH PROFITABLE UNITS TO MATCH DEMAND\n",
        "Adding 502 buildings with 18,022 job_spaces\n",
        "2,087 feasible buildings after running developer\n",
        "Unplaced households before: 8042"
       ]
      },
      {
       "output_type": "stream",
       "stream": "stdout",
       "text": [
        "\n",
        "Unplaced households after: 10157\n",
        "Unplaced jobs before: 7838\n",
        "Unplaced jobs after: 10075"
       ]
      },
      {
       "output_type": "stream",
       "stream": "stdout",
       "text": [
        "\n",
        "Time to execute model 'non_residential_developer': 0.48s\n",
        "Running model 'clear_cache'\n",
        "Time to execute model 'clear_cache': 0.00s\n",
        "Running model 'diagnostic_output'\n",
        "Time to execute model 'diagnostic_output': 1.70s"
       ]
      },
      {
       "output_type": "stream",
       "stream": "stdout",
       "text": [
        "\n",
        "Running model 'pusher'\n",
        "Time to execute model 'pusher': 0.27s"
       ]
      },
      {
       "output_type": "stream",
       "stream": "stdout",
       "text": [
        "\n",
        "Total time to execute year 2012: 11.13s\n"
       ]
      },
      {
       "output_type": "stream",
       "stream": "stderr",
       "text": [
        "/Users/ffoti/anaconda/lib/python2.7/site-packages/pandas/core/frame.py:1686: UserWarning: Boolean Series key will be reindexed to match DataFrame index.\n",
        "  \"DataFrame index.\", UserWarning)\n"
       ]
      }
     ],
     "prompt_number": 2
    },
    {
     "cell_type": "code",
     "collapsed": false,
     "input": [],
     "language": "python",
     "metadata": {},
     "outputs": [],
     "prompt_number": 2
    }
   ],
   "metadata": {}
  }
 ]
}