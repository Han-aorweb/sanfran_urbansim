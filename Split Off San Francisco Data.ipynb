{
 "metadata": {
  "name": "",
  "signature": "sha256:672bfc0e258d6c56544efde1551b27be341c95315abb51511acadcfdf14a50c0"
 },
 "nbformat": 3,
 "nbformat_minor": 0,
 "worksheets": [
  {
   "cells": [
    {
     "cell_type": "code",
     "collapsed": false,
     "input": [
      "import pandas as pd\n",
      "orig_store = pd.HDFStore('data/bayarea.h5')\n",
      "store = pd.HDFStore('data/bayarea_v2.h5')\n",
      "sf_store = pd.HDFStore('data/sanfran.h5')"
     ],
     "language": "python",
     "metadata": {},
     "outputs": [],
     "prompt_number": 95
    },
    {
     "cell_type": "code",
     "collapsed": false,
     "input": [
      "print sf_store.parcels.columns"
     ],
     "language": "python",
     "metadata": {},
     "outputs": [
      {
       "output_type": "stream",
       "stream": "stdout",
       "text": [
        "Index([u'shape_area', u'county_id', u'zone_id', u'x', u'y', u'_node_id0', u'_node_id'], dtype='object')\n"
       ]
      }
     ],
     "prompt_number": 96
    },
    {
     "cell_type": "code",
     "collapsed": false,
     "input": [
      "for name in ['apartments', 'homesales', 'costar']:\n",
      "    df = store[name].query('City == \"San Francisco\"')\n",
      "    print len(df)\n",
      "    sf_store[name] = df"
     ],
     "language": "python",
     "metadata": {},
     "outputs": [
      {
       "output_type": "stream",
       "stream": "stdout",
       "text": [
        "182\n",
        "13466"
       ]
      },
      {
       "output_type": "stream",
       "stream": "stdout",
       "text": [
        "\n",
        "8335"
       ]
      },
      {
       "output_type": "stream",
       "stream": "stdout",
       "text": [
        "\n"
       ]
      }
     ],
     "prompt_number": 102
    },
    {
     "cell_type": "code",
     "collapsed": false,
     "input": [
      "sf_store.close()"
     ],
     "language": "python",
     "metadata": {},
     "outputs": [],
     "prompt_number": 103
    },
    {
     "cell_type": "code",
     "collapsed": false,
     "input": [
      "parcels = store.parcels\n",
      "parcels = parcels.query(\"county_id == 38\")\n",
      "sf_store[\"parcels\"] = parcels"
     ],
     "language": "python",
     "metadata": {},
     "outputs": [],
     "prompt_number": 55
    },
    {
     "cell_type": "code",
     "collapsed": false,
     "input": [
      "buildings = store.buildings\n",
      "buildings = buildings[buildings.parcel_id.isin(parcels.index)]\n",
      "print len(buildings)\n",
      "sf_store[\"buildings\"] = buildings"
     ],
     "language": "python",
     "metadata": {},
     "outputs": [
      {
       "output_type": "stream",
       "stream": "stdout",
       "text": [
        "152605\n"
       ]
      }
     ],
     "prompt_number": 57
    },
    {
     "cell_type": "code",
     "collapsed": false,
     "input": [
      "households = store.households\n",
      "households = households[households.building_id.isin(buildings.index)]\n",
      "print len(households)\n",
      "sf_store[\"households\"] = households"
     ],
     "language": "python",
     "metadata": {},
     "outputs": [
      {
       "output_type": "stream",
       "stream": "stdout",
       "text": [
        "345588\n"
       ]
      }
     ],
     "prompt_number": 59
    },
    {
     "cell_type": "code",
     "collapsed": false,
     "input": [
      "nets = store.nets\n",
      "nets = nets[nets.building_id.isin(buildings.index)]\n",
      "print len(nets)\n",
      "sf_store[\"nets\"] = nets"
     ],
     "language": "python",
     "metadata": {},
     "outputs": [
      {
       "output_type": "stream",
       "stream": "stdout",
       "text": [
        "87404\n"
       ]
      }
     ],
     "prompt_number": 61
    },
    {
     "cell_type": "code",
     "collapsed": false,
     "input": [
      "sf_store['zones'] = store.zones"
     ],
     "language": "python",
     "metadata": {},
     "outputs": [],
     "prompt_number": 64
    },
    {
     "cell_type": "code",
     "collapsed": false,
     "input": [
      "df = store.zoning_for_parcels\n",
      "df = df[df.index.isin(parcels.index)]\n",
      "print len(df)\n",
      "sf_store['zoning_for_parcels'] = df"
     ],
     "language": "python",
     "metadata": {},
     "outputs": [
      {
       "output_type": "stream",
       "stream": "stdout",
       "text": [
        "148318\n"
       ]
      }
     ],
     "prompt_number": 70
    },
    {
     "cell_type": "code",
     "collapsed": false,
     "input": [
      "sf_store['zoning'] = store.zoning.query('city == 101')"
     ],
     "language": "python",
     "metadata": {},
     "outputs": [],
     "prompt_number": 72
    },
    {
     "cell_type": "code",
     "collapsed": false,
     "input": [
      "sf_store.close()"
     ],
     "language": "python",
     "metadata": {},
     "outputs": [],
     "prompt_number": 74
    },
    {
     "cell_type": "code",
     "collapsed": false,
     "input": [],
     "language": "python",
     "metadata": {},
     "outputs": []
    }
   ],
   "metadata": {}
  }
 ]
}